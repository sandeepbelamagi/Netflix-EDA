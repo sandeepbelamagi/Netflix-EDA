{
  "nbformat": 4,
  "nbformat_minor": 0,
  "metadata": {
    "colab": {
      "name": "Netflix EDA .ipynb",
      "provenance": [],
      "authorship_tag": "ABX9TyNJ5/+aDGR0Aq54gHHw11Oe",
      "include_colab_link": true
    },
    "kernelspec": {
      "name": "python3",
      "display_name": "Python 3"
    },
    "language_info": {
      "name": "python"
    }
  },
  "cells": [
    {
      "cell_type": "markdown",
      "metadata": {
        "id": "view-in-github",
        "colab_type": "text"
      },
      "source": [
        "<a href=\"https://colab.research.google.com/github/sandeepbelamagi/Netflix-EDA/blob/main/Netflix_EDA_.ipynb\" target=\"_parent\"><img src=\"https://colab.research.google.com/assets/colab-badge.svg\" alt=\"Open In Colab\"/></a>"
      ]
    },
    {
      "cell_type": "markdown",
      "metadata": {
        "id": "VFrZZIE3d6t5"
      },
      "source": [
        "Importing Libraries"
      ]
    },
    {
      "cell_type": "code",
      "metadata": {
        "id": "H2EqAtzHsswa"
      },
      "source": [
        "import numpy as np\n",
        "import pandas as pd\n",
        "from pandas import DataFrame\n",
        "\n",
        "import missingno\n",
        "\n",
        "import seaborn as sns\n",
        "import matplotlib.pyplot as plt\n",
        "import plotly.express as px\n",
        "%matplotlib inline\n",
        "\n",
        "import warnings\n",
        "warnings.filterwarnings(\"ignore\")\n",
        "\n",
        "sns.set_theme(style=\"darkgrid\")"
      ],
      "execution_count": 33,
      "outputs": []
    },
    {
      "cell_type": "markdown",
      "metadata": {
        "id": "UpyuEETHjKqt"
      },
      "source": [
        "Loading the data"
      ]
    },
    {
      "cell_type": "code",
      "metadata": {
        "colab": {
          "base_uri": "https://localhost:8080/",
          "height": 374
        },
        "id": "H6jT42xli-X8",
        "outputId": "cc576304-2ec7-42a0-d2f7-9722e388611d"
      },
      "source": [
        "data = pd.read_csv('/content/netflix_titles.csv')\n",
        "data.head()"
      ],
      "execution_count": 34,
      "outputs": [
        {
          "output_type": "execute_result",
          "data": {
            "text/html": [
              "<div>\n",
              "<style scoped>\n",
              "    .dataframe tbody tr th:only-of-type {\n",
              "        vertical-align: middle;\n",
              "    }\n",
              "\n",
              "    .dataframe tbody tr th {\n",
              "        vertical-align: top;\n",
              "    }\n",
              "\n",
              "    .dataframe thead th {\n",
              "        text-align: right;\n",
              "    }\n",
              "</style>\n",
              "<table border=\"1\" class=\"dataframe\">\n",
              "  <thead>\n",
              "    <tr style=\"text-align: right;\">\n",
              "      <th></th>\n",
              "      <th>show_id</th>\n",
              "      <th>type</th>\n",
              "      <th>title</th>\n",
              "      <th>director</th>\n",
              "      <th>cast</th>\n",
              "      <th>country</th>\n",
              "      <th>date_added</th>\n",
              "      <th>release_year</th>\n",
              "      <th>rating</th>\n",
              "      <th>duration</th>\n",
              "      <th>listed_in</th>\n",
              "      <th>description</th>\n",
              "    </tr>\n",
              "  </thead>\n",
              "  <tbody>\n",
              "    <tr>\n",
              "      <th>0</th>\n",
              "      <td>s1</td>\n",
              "      <td>TV Show</td>\n",
              "      <td>3%</td>\n",
              "      <td>NaN</td>\n",
              "      <td>João Miguel, Bianca Comparato, Michel Gomes, R...</td>\n",
              "      <td>Brazil</td>\n",
              "      <td>August 14, 2020</td>\n",
              "      <td>2020</td>\n",
              "      <td>TV-MA</td>\n",
              "      <td>4 Seasons</td>\n",
              "      <td>International TV Shows, TV Dramas, TV Sci-Fi &amp;...</td>\n",
              "      <td>In a future where the elite inhabit an island ...</td>\n",
              "    </tr>\n",
              "    <tr>\n",
              "      <th>1</th>\n",
              "      <td>s2</td>\n",
              "      <td>Movie</td>\n",
              "      <td>7:19</td>\n",
              "      <td>Jorge Michel Grau</td>\n",
              "      <td>Demián Bichir, Héctor Bonilla, Oscar Serrano, ...</td>\n",
              "      <td>Mexico</td>\n",
              "      <td>December 23, 2016</td>\n",
              "      <td>2016</td>\n",
              "      <td>TV-MA</td>\n",
              "      <td>93 min</td>\n",
              "      <td>Dramas, International Movies</td>\n",
              "      <td>After a devastating earthquake hits Mexico Cit...</td>\n",
              "    </tr>\n",
              "    <tr>\n",
              "      <th>2</th>\n",
              "      <td>s3</td>\n",
              "      <td>Movie</td>\n",
              "      <td>23:59</td>\n",
              "      <td>Gilbert Chan</td>\n",
              "      <td>Tedd Chan, Stella Chung, Henley Hii, Lawrence ...</td>\n",
              "      <td>Singapore</td>\n",
              "      <td>December 20, 2018</td>\n",
              "      <td>2011</td>\n",
              "      <td>R</td>\n",
              "      <td>78 min</td>\n",
              "      <td>Horror Movies, International Movies</td>\n",
              "      <td>When an army recruit is found dead, his fellow...</td>\n",
              "    </tr>\n",
              "    <tr>\n",
              "      <th>3</th>\n",
              "      <td>s4</td>\n",
              "      <td>Movie</td>\n",
              "      <td>9</td>\n",
              "      <td>Shane Acker</td>\n",
              "      <td>Elijah Wood, John C. Reilly, Jennifer Connelly...</td>\n",
              "      <td>United States</td>\n",
              "      <td>November 16, 2017</td>\n",
              "      <td>2009</td>\n",
              "      <td>PG-13</td>\n",
              "      <td>80 min</td>\n",
              "      <td>Action &amp; Adventure, Independent Movies, Sci-Fi...</td>\n",
              "      <td>In a postapocalyptic world, rag-doll robots hi...</td>\n",
              "    </tr>\n",
              "    <tr>\n",
              "      <th>4</th>\n",
              "      <td>s5</td>\n",
              "      <td>Movie</td>\n",
              "      <td>21</td>\n",
              "      <td>Robert Luketic</td>\n",
              "      <td>Jim Sturgess, Kevin Spacey, Kate Bosworth, Aar...</td>\n",
              "      <td>United States</td>\n",
              "      <td>January 1, 2020</td>\n",
              "      <td>2008</td>\n",
              "      <td>PG-13</td>\n",
              "      <td>123 min</td>\n",
              "      <td>Dramas</td>\n",
              "      <td>A brilliant group of students become card-coun...</td>\n",
              "    </tr>\n",
              "  </tbody>\n",
              "</table>\n",
              "</div>"
            ],
            "text/plain": [
              "  show_id  ...                                        description\n",
              "0      s1  ...  In a future where the elite inhabit an island ...\n",
              "1      s2  ...  After a devastating earthquake hits Mexico Cit...\n",
              "2      s3  ...  When an army recruit is found dead, his fellow...\n",
              "3      s4  ...  In a postapocalyptic world, rag-doll robots hi...\n",
              "4      s5  ...  A brilliant group of students become card-coun...\n",
              "\n",
              "[5 rows x 12 columns]"
            ]
          },
          "metadata": {
            "tags": []
          },
          "execution_count": 34
        }
      ]
    },
    {
      "cell_type": "code",
      "metadata": {
        "colab": {
          "base_uri": "https://localhost:8080/"
        },
        "id": "I4N_OdOyjeUr",
        "outputId": "0e4c68e3-b1c6-4215-889b-ef3dd36805f7"
      },
      "source": [
        "data.info()"
      ],
      "execution_count": 35,
      "outputs": [
        {
          "output_type": "stream",
          "text": [
            "<class 'pandas.core.frame.DataFrame'>\n",
            "RangeIndex: 7787 entries, 0 to 7786\n",
            "Data columns (total 12 columns):\n",
            " #   Column        Non-Null Count  Dtype \n",
            "---  ------        --------------  ----- \n",
            " 0   show_id       7787 non-null   object\n",
            " 1   type          7787 non-null   object\n",
            " 2   title         7787 non-null   object\n",
            " 3   director      5398 non-null   object\n",
            " 4   cast          7069 non-null   object\n",
            " 5   country       7280 non-null   object\n",
            " 6   date_added    7777 non-null   object\n",
            " 7   release_year  7787 non-null   int64 \n",
            " 8   rating        7780 non-null   object\n",
            " 9   duration      7787 non-null   object\n",
            " 10  listed_in     7787 non-null   object\n",
            " 11  description   7787 non-null   object\n",
            "dtypes: int64(1), object(11)\n",
            "memory usage: 730.2+ KB\n"
          ],
          "name": "stdout"
        }
      ]
    },
    {
      "cell_type": "code",
      "metadata": {
        "colab": {
          "base_uri": "https://localhost:8080/"
        },
        "id": "4tmGwm_RjmR6",
        "outputId": "fac2ab78-737e-4dc8-f58f-b5e3ac4823b5"
      },
      "source": [
        "data.isnull().sum()"
      ],
      "execution_count": 36,
      "outputs": [
        {
          "output_type": "execute_result",
          "data": {
            "text/plain": [
              "show_id            0\n",
              "type               0\n",
              "title              0\n",
              "director        2389\n",
              "cast             718\n",
              "country          507\n",
              "date_added        10\n",
              "release_year       0\n",
              "rating             7\n",
              "duration           0\n",
              "listed_in          0\n",
              "description        0\n",
              "dtype: int64"
            ]
          },
          "metadata": {
            "tags": []
          },
          "execution_count": 36
        }
      ]
    },
    {
      "cell_type": "code",
      "metadata": {
        "colab": {
          "base_uri": "https://localhost:8080/",
          "height": 421
        },
        "id": "1Em6HWr7kb8w",
        "outputId": "0e6d4c5b-9a7b-480d-f113-8a3e51cb4ce3"
      },
      "source": [
        "color= ['dimgrey','dimgrey','dimgrey','red','maroon','maroon','dimgrey','dimgrey','dimgrey','dimgrey','dimgrey','dimgrey']\n",
        "missingno.bar(data,fontsize=10,color=color,figsize=(10,5))\n",
        "plt.title('MISSING VALUES',fontsize=20);"
      ],
      "execution_count": 37,
      "outputs": [
        {
          "output_type": "display_data",
          "data": {
            "image/png": "[encoded data removed]",
            "text/plain": [
              "<Figure size 720x360 with 3 Axes>"
            ]
          },
          "metadata": {
            "tags": []
          }
        }
      ]
    },
    {
      "cell_type": "markdown",
      "metadata": {
        "id": "3qk549B_k9_U"
      },
      "source": [
        "As we can see, there are a lot of missing values in the director, cast and country columns. We will drop the director column as filling up the values will not be practically possible and Same for the cast column too. For the country column taking the mode of available countries and assigning the missing values. we will do the same for the date added and ratings column."
      ]
    },
    {
      "cell_type": "markdown",
      "metadata": {
        "id": "Zk0cn9JplzNM"
      },
      "source": [
        "**Missing Values**"
      ]
    },
    {
      "cell_type": "code",
      "metadata": {
        "id": "GGa4uKIVktCe"
      },
      "source": [
        "data['country'] = data['country'].fillna(data['country'].mode()[0])\n",
        "data['date_added'] = data['date_added'].fillna(data['date_added'].mode()[0])\n",
        "data['rating'] = data['rating'].fillna(data['country'].mode()[0])"
      ],
      "execution_count": 38,
      "outputs": []
    },
    {
      "cell_type": "code",
      "metadata": {
        "id": "CXru9bxgmm9J"
      },
      "source": [
        "data.drop(['cast','director'],axis='columns',inplace=True)"
      ],
      "execution_count": 39,
      "outputs": []
    },
    {
      "cell_type": "code",
      "metadata": {
        "colab": {
          "base_uri": "https://localhost:8080/"
        },
        "id": "u_u1p4CMmvDB",
        "outputId": "7a1152c3-07a2-4fe0-cc7c-ac57a82aefc0"
      },
      "source": [
        "data.isnull().sum()"
      ],
      "execution_count": 40,
      "outputs": [
        {
          "output_type": "execute_result",
          "data": {
            "text/plain": [
              "show_id         0\n",
              "type            0\n",
              "title           0\n",
              "country         0\n",
              "date_added      0\n",
              "release_year    0\n",
              "rating          0\n",
              "duration        0\n",
              "listed_in       0\n",
              "description     0\n",
              "dtype: int64"
            ]
          },
          "metadata": {
            "tags": []
          },
          "execution_count": 40
        }
      ]
    },
    {
      "cell_type": "code",
      "metadata": {
        "colab": {
          "base_uri": "https://localhost:8080/"
        },
        "id": "EFSp2xz-m6N6",
        "outputId": "f70b3ae9-8529-4e8b-aaed-4b080168ff17"
      },
      "source": [
        "data.duplicated().sum()"
      ],
      "execution_count": 41,
      "outputs": [
        {
          "output_type": "execute_result",
          "data": {
            "text/plain": [
              "0"
            ]
          },
          "metadata": {
            "tags": []
          },
          "execution_count": 41
        }
      ]
    },
    {
      "cell_type": "markdown",
      "metadata": {
        "id": "QtfToKMyaCoa"
      },
      "source": [
        "DATA CLEANING AND MANIPULATION¶\n",
        "\n",
        "Adding some new columns:\n",
        "\n",
        "\n",
        "\n",
        "*   Year Added - y_add\n",
        "*   Month Added - m_add\n",
        "*   Princial Country - country_main\n",
        "*   Target Age Groups - target_age\n",
        "\n",
        "\n",
        "\n",
        "\n",
        "\n",
        "\n",
        "\n"
      ]
    },
    {
      "cell_type": "code",
      "metadata": {
        "id": "nHhRFKY8m9kV"
      },
      "source": [
        "data['y_add'] = data['date_added'].apply(lambda x: x.split(\" \")[-1])\n",
        "data['m_add'] = data['date_added'].apply(lambda x: x.split(\" \")[0])"
      ],
      "execution_count": 42,
      "outputs": []
    },
    {
      "cell_type": "code",
      "metadata": {
        "id": "zXQIyiUSbcXs"
      },
      "source": [
        "ratings_ages = {\n",
        "    'TV-PG': 'Older Kids',\n",
        "    'TV-MA': 'Adults',\n",
        "    'TV-Y7-FV': 'Older Kids',\n",
        "    'TV-Y7': 'Older Kids',\n",
        "    'TV-14': 'Teens',\n",
        "    'R': 'Adults',\n",
        "    'TV-Y': 'Kids',\n",
        "    'NR': 'Adults',\n",
        "    'PG-13': 'Teens',\n",
        "    'TV-G': 'Kids',\n",
        "    'PG': 'Older Kids',\n",
        "    'G': 'Kids',\n",
        "    'UR': 'Adults',\n",
        "    'NC-17': 'Adults'\n",
        "}\n",
        "data['target_age'] = data['rating'].replace(ratings_ages)"
      ],
      "execution_count": 43,
      "outputs": []
    },
    {
      "cell_type": "code",
      "metadata": {
        "id": "V0Aoj4xObnwR"
      },
      "source": [
        "data['country_main'] = data['country'].apply(lambda x: x.split(\",\")[0])"
      ],
      "execution_count": 44,
      "outputs": []
    },
    {
      "cell_type": "markdown",
      "metadata": {
        "id": "zSyAxrf-by9a"
      },
      "source": [
        "Making two new dataframes, one with movies collection and other with TV shows collection:\n",
        "\n",
        "*   movie_df\n",
        "*   tv_df\n",
        "\n"
      ]
    },
    {
      "cell_type": "code",
      "metadata": {
        "id": "13GAWCX8cBSn"
      },
      "source": [
        "movie_df = data[data['type'] == 'Movie']\n",
        "tv_df = data[data['type'] == 'TV Show']"
      ],
      "execution_count": 45,
      "outputs": []
    },
    {
      "cell_type": "code",
      "metadata": {
        "colab": {
          "base_uri": "https://localhost:8080/",
          "height": 374
        },
        "id": "0cqzZO0XcK48",
        "outputId": "9a948143-9b9b-42e4-9336-70c7df74f702"
      },
      "source": [
        "movie_df.head()"
      ],
      "execution_count": 46,
      "outputs": [
        {
          "output_type": "execute_result",
          "data": {
            "text/html": [
              "<div>\n",
              "<style scoped>\n",
              "    .dataframe tbody tr th:only-of-type {\n",
              "        vertical-align: middle;\n",
              "    }\n",
              "\n",
              "    .dataframe tbody tr th {\n",
              "        vertical-align: top;\n",
              "    }\n",
              "\n",
              "    .dataframe thead th {\n",
              "        text-align: right;\n",
              "    }\n",
              "</style>\n",
              "<table border=\"1\" class=\"dataframe\">\n",
              "  <thead>\n",
              "    <tr style=\"text-align: right;\">\n",
              "      <th></th>\n",
              "      <th>show_id</th>\n",
              "      <th>type</th>\n",
              "      <th>title</th>\n",
              "      <th>country</th>\n",
              "      <th>date_added</th>\n",
              "      <th>release_year</th>\n",
              "      <th>rating</th>\n",
              "      <th>duration</th>\n",
              "      <th>listed_in</th>\n",
              "      <th>description</th>\n",
              "      <th>y_add</th>\n",
              "      <th>m_add</th>\n",
              "      <th>target_age</th>\n",
              "      <th>country_main</th>\n",
              "    </tr>\n",
              "  </thead>\n",
              "  <tbody>\n",
              "    <tr>\n",
              "      <th>1</th>\n",
              "      <td>s2</td>\n",
              "      <td>Movie</td>\n",
              "      <td>7:19</td>\n",
              "      <td>Mexico</td>\n",
              "      <td>December 23, 2016</td>\n",
              "      <td>2016</td>\n",
              "      <td>TV-MA</td>\n",
              "      <td>93 min</td>\n",
              "      <td>Dramas, International Movies</td>\n",
              "      <td>After a devastating earthquake hits Mexico Cit...</td>\n",
              "      <td>2016</td>\n",
              "      <td>December</td>\n",
              "      <td>Adults</td>\n",
              "      <td>Mexico</td>\n",
              "    </tr>\n",
              "    <tr>\n",
              "      <th>2</th>\n",
              "      <td>s3</td>\n",
              "      <td>Movie</td>\n",
              "      <td>23:59</td>\n",
              "      <td>Singapore</td>\n",
              "      <td>December 20, 2018</td>\n",
              "      <td>2011</td>\n",
              "      <td>R</td>\n",
              "      <td>78 min</td>\n",
              "      <td>Horror Movies, International Movies</td>\n",
              "      <td>When an army recruit is found dead, his fellow...</td>\n",
              "      <td>2018</td>\n",
              "      <td>December</td>\n",
              "      <td>Adults</td>\n",
              "      <td>Singapore</td>\n",
              "    </tr>\n",
              "    <tr>\n",
              "      <th>3</th>\n",
              "      <td>s4</td>\n",
              "      <td>Movie</td>\n",
              "      <td>9</td>\n",
              "      <td>United States</td>\n",
              "      <td>November 16, 2017</td>\n",
              "      <td>2009</td>\n",
              "      <td>PG-13</td>\n",
              "      <td>80 min</td>\n",
              "      <td>Action &amp; Adventure, Independent Movies, Sci-Fi...</td>\n",
              "      <td>In a postapocalyptic world, rag-doll robots hi...</td>\n",
              "      <td>2017</td>\n",
              "      <td>November</td>\n",
              "      <td>Teens</td>\n",
              "      <td>United States</td>\n",
              "    </tr>\n",
              "    <tr>\n",
              "      <th>4</th>\n",
              "      <td>s5</td>\n",
              "      <td>Movie</td>\n",
              "      <td>21</td>\n",
              "      <td>United States</td>\n",
              "      <td>January 1, 2020</td>\n",
              "      <td>2008</td>\n",
              "      <td>PG-13</td>\n",
              "      <td>123 min</td>\n",
              "      <td>Dramas</td>\n",
              "      <td>A brilliant group of students become card-coun...</td>\n",
              "      <td>2020</td>\n",
              "      <td>January</td>\n",
              "      <td>Teens</td>\n",
              "      <td>United States</td>\n",
              "    </tr>\n",
              "    <tr>\n",
              "      <th>6</th>\n",
              "      <td>s7</td>\n",
              "      <td>Movie</td>\n",
              "      <td>122</td>\n",
              "      <td>Egypt</td>\n",
              "      <td>June 1, 2020</td>\n",
              "      <td>2019</td>\n",
              "      <td>TV-MA</td>\n",
              "      <td>95 min</td>\n",
              "      <td>Horror Movies, International Movies</td>\n",
              "      <td>After an awful accident, a couple admitted to ...</td>\n",
              "      <td>2020</td>\n",
              "      <td>June</td>\n",
              "      <td>Adults</td>\n",
              "      <td>Egypt</td>\n",
              "    </tr>\n",
              "  </tbody>\n",
              "</table>\n",
              "</div>"
            ],
            "text/plain": [
              "  show_id   type  title  ...     m_add target_age   country_main\n",
              "1      s2  Movie   7:19  ...  December     Adults         Mexico\n",
              "2      s3  Movie  23:59  ...  December     Adults      Singapore\n",
              "3      s4  Movie      9  ...  November      Teens  United States\n",
              "4      s5  Movie     21  ...   January      Teens  United States\n",
              "6      s7  Movie    122  ...      June     Adults          Egypt\n",
              "\n",
              "[5 rows x 14 columns]"
            ]
          },
          "metadata": {
            "tags": []
          },
          "execution_count": 46
        }
      ]
    },
    {
      "cell_type": "code",
      "metadata": {
        "colab": {
          "base_uri": "https://localhost:8080/",
          "height": 374
        },
        "id": "y2QvpaBscNKr",
        "outputId": "4b8f7d13-1463-496a-a70f-db9b39239642"
      },
      "source": [
        "tv_df.head()"
      ],
      "execution_count": 47,
      "outputs": [
        {
          "output_type": "execute_result",
          "data": {
            "text/html": [
              "<div>\n",
              "<style scoped>\n",
              "    .dataframe tbody tr th:only-of-type {\n",
              "        vertical-align: middle;\n",
              "    }\n",
              "\n",
              "    .dataframe tbody tr th {\n",
              "        vertical-align: top;\n",
              "    }\n",
              "\n",
              "    .dataframe thead th {\n",
              "        text-align: right;\n",
              "    }\n",
              "</style>\n",
              "<table border=\"1\" class=\"dataframe\">\n",
              "  <thead>\n",
              "    <tr style=\"text-align: right;\">\n",
              "      <th></th>\n",
              "      <th>show_id</th>\n",
              "      <th>type</th>\n",
              "      <th>title</th>\n",
              "      <th>country</th>\n",
              "      <th>date_added</th>\n",
              "      <th>release_year</th>\n",
              "      <th>rating</th>\n",
              "      <th>duration</th>\n",
              "      <th>listed_in</th>\n",
              "      <th>description</th>\n",
              "      <th>y_add</th>\n",
              "      <th>m_add</th>\n",
              "      <th>target_age</th>\n",
              "      <th>country_main</th>\n",
              "    </tr>\n",
              "  </thead>\n",
              "  <tbody>\n",
              "    <tr>\n",
              "      <th>0</th>\n",
              "      <td>s1</td>\n",
              "      <td>TV Show</td>\n",
              "      <td>3%</td>\n",
              "      <td>Brazil</td>\n",
              "      <td>August 14, 2020</td>\n",
              "      <td>2020</td>\n",
              "      <td>TV-MA</td>\n",
              "      <td>4 Seasons</td>\n",
              "      <td>International TV Shows, TV Dramas, TV Sci-Fi &amp;...</td>\n",
              "      <td>In a future where the elite inhabit an island ...</td>\n",
              "      <td>2020</td>\n",
              "      <td>August</td>\n",
              "      <td>Adults</td>\n",
              "      <td>Brazil</td>\n",
              "    </tr>\n",
              "    <tr>\n",
              "      <th>5</th>\n",
              "      <td>s6</td>\n",
              "      <td>TV Show</td>\n",
              "      <td>46</td>\n",
              "      <td>Turkey</td>\n",
              "      <td>July 1, 2017</td>\n",
              "      <td>2016</td>\n",
              "      <td>TV-MA</td>\n",
              "      <td>1 Season</td>\n",
              "      <td>International TV Shows, TV Dramas, TV Mysteries</td>\n",
              "      <td>A genetics professor experiments with a treatm...</td>\n",
              "      <td>2017</td>\n",
              "      <td>July</td>\n",
              "      <td>Adults</td>\n",
              "      <td>Turkey</td>\n",
              "    </tr>\n",
              "    <tr>\n",
              "      <th>11</th>\n",
              "      <td>s12</td>\n",
              "      <td>TV Show</td>\n",
              "      <td>1983</td>\n",
              "      <td>Poland, United States</td>\n",
              "      <td>November 30, 2018</td>\n",
              "      <td>2018</td>\n",
              "      <td>TV-MA</td>\n",
              "      <td>1 Season</td>\n",
              "      <td>Crime TV Shows, International TV Shows, TV Dramas</td>\n",
              "      <td>In this dark alt-history thriller, a naïve law...</td>\n",
              "      <td>2018</td>\n",
              "      <td>November</td>\n",
              "      <td>Adults</td>\n",
              "      <td>Poland</td>\n",
              "    </tr>\n",
              "    <tr>\n",
              "      <th>12</th>\n",
              "      <td>s13</td>\n",
              "      <td>TV Show</td>\n",
              "      <td>1994</td>\n",
              "      <td>Mexico</td>\n",
              "      <td>May 17, 2019</td>\n",
              "      <td>2019</td>\n",
              "      <td>TV-MA</td>\n",
              "      <td>1 Season</td>\n",
              "      <td>Crime TV Shows, Docuseries, International TV S...</td>\n",
              "      <td>Archival video and new interviews examine Mexi...</td>\n",
              "      <td>2019</td>\n",
              "      <td>May</td>\n",
              "      <td>Adults</td>\n",
              "      <td>Mexico</td>\n",
              "    </tr>\n",
              "    <tr>\n",
              "      <th>16</th>\n",
              "      <td>s17</td>\n",
              "      <td>TV Show</td>\n",
              "      <td>Feb-09</td>\n",
              "      <td>United States</td>\n",
              "      <td>March 20, 2019</td>\n",
              "      <td>2018</td>\n",
              "      <td>TV-14</td>\n",
              "      <td>1 Season</td>\n",
              "      <td>International TV Shows, TV Dramas</td>\n",
              "      <td>As a psychology professor faces Alzheimer's, h...</td>\n",
              "      <td>2019</td>\n",
              "      <td>March</td>\n",
              "      <td>Teens</td>\n",
              "      <td>United States</td>\n",
              "    </tr>\n",
              "  </tbody>\n",
              "</table>\n",
              "</div>"
            ],
            "text/plain": [
              "   show_id     type   title  ...     m_add target_age   country_main\n",
              "0       s1  TV Show      3%  ...    August     Adults         Brazil\n",
              "5       s6  TV Show      46  ...      July     Adults         Turkey\n",
              "11     s12  TV Show    1983  ...  November     Adults         Poland\n",
              "12     s13  TV Show    1994  ...       May     Adults         Mexico\n",
              "16     s17  TV Show  Feb-09  ...     March      Teens  United States\n",
              "\n",
              "[5 rows x 14 columns]"
            ]
          },
          "metadata": {
            "tags": []
          },
          "execution_count": 47
        }
      ]
    },
    {
      "cell_type": "markdown",
      "metadata": {
        "id": "ZKecVR4WdCQa"
      },
      "source": [
        "**Data Visualization**"
      ]
    },
    {
      "cell_type": "code",
      "metadata": {
        "colab": {
          "base_uri": "https://localhost:8080/",
          "height": 542
        },
        "id": "55QG_dr-cUWf",
        "outputId": "90bdb998-492f-4570-ac0e-f50ee62aff7d"
      },
      "source": [
        "x = data['type'].value_counts().reset_index()\n",
        "fig = px.pie(x,values='type',names='index',color_discrete_sequence=px.colors.sequential.RdBu)\n",
        "fig.update_traces(textposition='inside', textinfo='percent+label',marker = dict(line = dict(color = 'white', width = 1)))"
      ],
      "execution_count": 48,
      "outputs": [
        {
          "output_type": "display_data",
          "data": {
            "text/html": [
              "<html>\n",
              "<head><meta charset=\"utf-8\" /></head>\n",
              "<body>\n",
              "    <div>\n",
              "            <script src=\"https://cdnjs.cloudflare.com/ajax/libs/mathjax/2.7.5/MathJax.js?config=TeX-AMS-MML_SVG\"></script><script type=\"text/javascript\">if (window.MathJax) {MathJax.Hub.Config({SVG: {font: \"STIX-Web\"}});}</script>\n",
              "                <script type=\"text/javascript\">window.PlotlyConfig = {MathJaxConfig: 'local'};</script>\n",
              "        <script src=\"https://cdn.plot.ly/plotly-latest.min.js\"></script>    \n",
              "            <div id=\"a7e03dfd-e780-4aa7-8767-5b061b40b104\" class=\"plotly-graph-div\" style=\"height:525px; width:100%;\"></div>\n",
              "            <script type=\"text/javascript\">\n",
              "                \n",
              "                    window.PLOTLYENV=window.PLOTLYENV || {};\n",
              "                    \n",
              "                if (document.getElementById(\"a7e03dfd-e780-4aa7-8767-5b061b40b104\")) {\n",
              "                    Plotly.newPlot(\n",
              "                        'a7e03dfd-e780-4aa7-8767-5b061b40b104',\n",
              "                        [{\"domain\": {\"x\": [0.0, 1.0], \"y\": [0.0, 1.0]}, \"hoverlabel\": {\"namelength\": 0}, \"hovertemplate\": \"index=%{label}<br>type=%{value}\", \"labels\": [\"Movie\", \"TV Show\"], \"legendgroup\": \"\", \"marker\": {\"line\": {\"color\": \"white\", \"width\": 1}}, \"name\": \"\", \"showlegend\": true, \"textinfo\": \"percent+label\", \"textposition\": \"inside\", \"type\": \"pie\", \"values\": [5377, 2410]}],\n",
              "                        {\"legend\": {\"tracegroupgap\": 0}, \"margin\": {\"t\": 60}, \"piecolorway\": [\"rgb(103,0,31)\", \"rgb(178,24,43)\", \"rgb(214,96,77)\", \"rgb(244,165,130)\", \"rgb(253,219,199)\", \"rgb(247,247,247)\", \"rgb(209,229,240)\", \"rgb(146,197,222)\", \"rgb(67,147,195)\", \"rgb(33,102,172)\", \"rgb(5,48,97)\"], \"template\": {\"data\": {\"bar\": [{\"error_x\": {\"color\": \"#2a3f5f\"}, \"error_y\": {\"color\": \"#2a3f5f\"}, \"marker\": {\"line\": {\"color\": \"#E5ECF6\", \"width\": 0.5}}, \"type\": \"bar\"}], \"barpolar\": [{\"marker\": {\"line\": {\"color\": \"#E5ECF6\", \"width\": 0.5}}, \"type\": \"barpolar\"}], \"carpet\": [{\"aaxis\": {\"endlinecolor\": \"#2a3f5f\", \"gridcolor\": \"white\", \"linecolor\": \"white\", \"minorgridcolor\": \"white\", \"startlinecolor\": \"#2a3f5f\"}, \"baxis\": {\"endlinecolor\": \"#2a3f5f\", \"gridcolor\": \"white\", \"linecolor\": \"white\", \"minorgridcolor\": \"white\", \"startlinecolor\": \"#2a3f5f\"}, \"type\": \"carpet\"}], \"choropleth\": [{\"colorbar\": {\"outlinewidth\": 0, \"ticks\": \"\"}, \"type\": \"choropleth\"}], \"contour\": [{\"colorbar\": {\"outlinewidth\": 0, \"ticks\": \"\"}, \"colorscale\": [[0.0, \"#0d0887\"], [0.1111111111111111, \"#46039f\"], [0.2222222222222222, \"#7201a8\"], [0.3333333333333333, \"#9c179e\"], [0.4444444444444444, \"#bd3786\"], [0.5555555555555556, \"#d8576b\"], [0.6666666666666666, \"#ed7953\"], [0.7777777777777778, \"#fb9f3a\"], [0.8888888888888888, \"#fdca26\"], [1.0, \"#f0f921\"]], \"type\": \"contour\"}], \"contourcarpet\": [{\"colorbar\": {\"outlinewidth\": 0, \"ticks\": \"\"}, \"type\": \"contourcarpet\"}], \"heatmap\": [{\"colorbar\": {\"outlinewidth\": 0, \"ticks\": \"\"}, \"colorscale\": [[0.0, \"#0d0887\"], [0.1111111111111111, \"#46039f\"], [0.2222222222222222, \"#7201a8\"], [0.3333333333333333, \"#9c179e\"], [0.4444444444444444, \"#bd3786\"], [0.5555555555555556, \"#d8576b\"], [0.6666666666666666, \"#ed7953\"], [0.7777777777777778, \"#fb9f3a\"], [0.8888888888888888, \"#fdca26\"], [1.0, \"#f0f921\"]], \"type\": \"heatmap\"}], \"heatmapgl\": [{\"colorbar\": {\"outlinewidth\": 0, \"ticks\": \"\"}, \"colorscale\": [[0.0, \"#0d0887\"], [0.1111111111111111, \"#46039f\"], [0.2222222222222222, \"#7201a8\"], [0.3333333333333333, \"#9c179e\"], [0.4444444444444444, \"#bd3786\"], [0.5555555555555556, \"#d8576b\"], [0.6666666666666666, \"#ed7953\"], [0.7777777777777778, \"#fb9f3a\"], [0.8888888888888888, \"#fdca26\"], [1.0, \"#f0f921\"]], \"type\": \"heatmapgl\"}], \"histogram\": [{\"marker\": {\"colorbar\": {\"outlinewidth\": 0, \"ticks\": \"\"}}, \"type\": \"histogram\"}], \"histogram2d\": [{\"colorbar\": {\"outlinewidth\": 0, \"ticks\": \"\"}, \"colorscale\": [[0.0, \"#0d0887\"], [0.1111111111111111, \"#46039f\"], [0.2222222222222222, \"#7201a8\"], [0.3333333333333333, \"#9c179e\"], [0.4444444444444444, \"#bd3786\"], [0.5555555555555556, \"#d8576b\"], [0.6666666666666666, \"#ed7953\"], [0.7777777777777778, \"#fb9f3a\"], [0.8888888888888888, \"#fdca26\"], [1.0, \"#f0f921\"]], \"type\": \"histogram2d\"}], \"histogram2dcontour\": [{\"colorbar\": {\"outlinewidth\": 0, \"ticks\": \"\"}, \"colorscale\": [[0.0, \"#0d0887\"], [0.1111111111111111, \"#46039f\"], [0.2222222222222222, \"#7201a8\"], [0.3333333333333333, \"#9c179e\"], [0.4444444444444444, \"#bd3786\"], [0.5555555555555556, \"#d8576b\"], [0.6666666666666666, \"#ed7953\"], [0.7777777777777778, \"#fb9f3a\"], [0.8888888888888888, \"#fdca26\"], [1.0, \"#f0f921\"]], \"type\": \"histogram2dcontour\"}], \"mesh3d\": [{\"colorbar\": {\"outlinewidth\": 0, \"ticks\": \"\"}, \"type\": \"mesh3d\"}], \"parcoords\": [{\"line\": {\"colorbar\": {\"outlinewidth\": 0, \"ticks\": \"\"}}, \"type\": \"parcoords\"}], \"pie\": [{\"automargin\": true, \"type\": \"pie\"}], \"scatter\": [{\"marker\": {\"colorbar\": {\"outlinewidth\": 0, \"ticks\": \"\"}}, \"type\": \"scatter\"}], \"scatter3d\": [{\"line\": {\"colorbar\": {\"outlinewidth\": 0, \"ticks\": \"\"}}, \"marker\": {\"colorbar\": {\"outlinewidth\": 0, \"ticks\": \"\"}}, \"type\": \"scatter3d\"}], \"scattercarpet\": [{\"marker\": {\"colorbar\": {\"outlinewidth\": 0, \"ticks\": \"\"}}, \"type\": \"scattercarpet\"}], \"scattergeo\": [{\"marker\": {\"colorbar\": {\"outlinewidth\": 0, \"ticks\": \"\"}}, \"type\": \"scattergeo\"}], \"scattergl\": [{\"marker\": {\"colorbar\": {\"outlinewidth\": 0, \"ticks\": \"\"}}, \"type\": \"scattergl\"}], \"scattermapbox\": [{\"marker\": {\"colorbar\": {\"outlinewidth\": 0, \"ticks\": \"\"}}, \"type\": \"scattermapbox\"}], \"scatterpolar\": [{\"marker\": {\"colorbar\": {\"outlinewidth\": 0, \"ticks\": \"\"}}, \"type\": \"scatterpolar\"}], \"scatterpolargl\": [{\"marker\": {\"colorbar\": {\"outlinewidth\": 0, \"ticks\": \"\"}}, \"type\": \"scatterpolargl\"}], \"scatterternary\": [{\"marker\": {\"colorbar\": {\"outlinewidth\": 0, \"ticks\": \"\"}}, \"type\": \"scatterternary\"}], \"surface\": [{\"colorbar\": {\"outlinewidth\": 0, \"ticks\": \"\"}, \"colorscale\": [[0.0, \"#0d0887\"], [0.1111111111111111, \"#46039f\"], [0.2222222222222222, \"#7201a8\"], [0.3333333333333333, \"#9c179e\"], [0.4444444444444444, \"#bd3786\"], [0.5555555555555556, \"#d8576b\"], [0.6666666666666666, \"#ed7953\"], [0.7777777777777778, \"#fb9f3a\"], [0.8888888888888888, \"#fdca26\"], [1.0, \"#f0f921\"]], \"type\": \"surface\"}], \"table\": [{\"cells\": {\"fill\": {\"color\": \"#EBF0F8\"}, \"line\": {\"color\": \"white\"}}, \"header\": {\"fill\": {\"color\": \"#C8D4E3\"}, \"line\": {\"color\": \"white\"}}, \"type\": \"table\"}]}, \"layout\": {\"annotationdefaults\": {\"arrowcolor\": \"#2a3f5f\", \"arrowhead\": 0, \"arrowwidth\": 1}, \"coloraxis\": {\"colorbar\": {\"outlinewidth\": 0, \"ticks\": \"\"}}, \"colorscale\": {\"diverging\": [[0, \"#8e0152\"], [0.1, \"#c51b7d\"], [0.2, \"#de77ae\"], [0.3, \"#f1b6da\"], [0.4, \"#fde0ef\"], [0.5, \"#f7f7f7\"], [0.6, \"#e6f5d0\"], [0.7, \"#b8e186\"], [0.8, \"#7fbc41\"], [0.9, \"#4d9221\"], [1, \"#276419\"]], \"sequential\": [[0.0, \"#0d0887\"], [0.1111111111111111, \"#46039f\"], [0.2222222222222222, \"#7201a8\"], [0.3333333333333333, \"#9c179e\"], [0.4444444444444444, \"#bd3786\"], [0.5555555555555556, \"#d8576b\"], [0.6666666666666666, \"#ed7953\"], [0.7777777777777778, \"#fb9f3a\"], [0.8888888888888888, \"#fdca26\"], [1.0, \"#f0f921\"]], \"sequentialminus\": [[0.0, \"#0d0887\"], [0.1111111111111111, \"#46039f\"], [0.2222222222222222, \"#7201a8\"], [0.3333333333333333, \"#9c179e\"], [0.4444444444444444, \"#bd3786\"], [0.5555555555555556, \"#d8576b\"], [0.6666666666666666, \"#ed7953\"], [0.7777777777777778, \"#fb9f3a\"], [0.8888888888888888, \"#fdca26\"], [1.0, \"#f0f921\"]]}, \"colorway\": [\"#636efa\", \"#EF553B\", \"#00cc96\", \"#ab63fa\", \"#FFA15A\", \"#19d3f3\", \"#FF6692\", \"#B6E880\", \"#FF97FF\", \"#FECB52\"], \"font\": {\"color\": \"#2a3f5f\"}, \"geo\": {\"bgcolor\": \"white\", \"lakecolor\": \"white\", \"landcolor\": \"#E5ECF6\", \"showlakes\": true, \"showland\": true, \"subunitcolor\": \"white\"}, \"hoverlabel\": {\"align\": \"left\"}, \"hovermode\": \"closest\", \"mapbox\": {\"style\": \"light\"}, \"paper_bgcolor\": \"white\", \"plot_bgcolor\": \"#E5ECF6\", \"polar\": {\"angularaxis\": {\"gridcolor\": \"white\", \"linecolor\": \"white\", \"ticks\": \"\"}, \"bgcolor\": \"#E5ECF6\", \"radialaxis\": {\"gridcolor\": \"white\", \"linecolor\": \"white\", \"ticks\": \"\"}}, \"scene\": {\"xaxis\": {\"backgroundcolor\": \"#E5ECF6\", \"gridcolor\": \"white\", \"gridwidth\": 2, \"linecolor\": \"white\", \"showbackground\": true, \"ticks\": \"\", \"zerolinecolor\": \"white\"}, \"yaxis\": {\"backgroundcolor\": \"#E5ECF6\", \"gridcolor\": \"white\", \"gridwidth\": 2, \"linecolor\": \"white\", \"showbackground\": true, \"ticks\": \"\", \"zerolinecolor\": \"white\"}, \"zaxis\": {\"backgroundcolor\": \"#E5ECF6\", \"gridcolor\": \"white\", \"gridwidth\": 2, \"linecolor\": \"white\", \"showbackground\": true, \"ticks\": \"\", \"zerolinecolor\": \"white\"}}, \"shapedefaults\": {\"line\": {\"color\": \"#2a3f5f\"}}, \"ternary\": {\"aaxis\": {\"gridcolor\": \"white\", \"linecolor\": \"white\", \"ticks\": \"\"}, \"baxis\": {\"gridcolor\": \"white\", \"linecolor\": \"white\", \"ticks\": \"\"}, \"bgcolor\": \"#E5ECF6\", \"caxis\": {\"gridcolor\": \"white\", \"linecolor\": \"white\", \"ticks\": \"\"}}, \"title\": {\"x\": 0.05}, \"xaxis\": {\"automargin\": true, \"gridcolor\": \"white\", \"linecolor\": \"white\", \"ticks\": \"\", \"title\": {\"standoff\": 15}, \"zerolinecolor\": \"white\", \"zerolinewidth\": 2}, \"yaxis\": {\"automargin\": true, \"gridcolor\": \"white\", \"linecolor\": \"white\", \"ticks\": \"\", \"title\": {\"standoff\": 15}, \"zerolinecolor\": \"white\", \"zerolinewidth\": 2}}}},\n",
              "                        {\"responsive\": true}\n",
              "                    ).then(function(){\n",
              "                            \n",
              "var gd = document.getElementById('a7e03dfd-e780-4aa7-8767-5b061b40b104');\n",
              "var x = new MutationObserver(function (mutations, observer) {{\n",
              "        var display = window.getComputedStyle(gd).display;\n",
              "        if (!display || display === 'none') {{\n",
              "            console.log([gd, 'removed!']);\n",
              "            Plotly.purge(gd);\n",
              "            observer.disconnect();\n",
              "        }}\n",
              "}});\n",
              "\n",
              "// Listen for the removal of the full notebook cells\n",
              "var notebookContainer = gd.closest('#notebook-container');\n",
              "if (notebookContainer) {{\n",
              "    x.observe(notebookContainer, {childList: true});\n",
              "}}\n",
              "\n",
              "// Listen for the clearing of the current output cell\n",
              "var outputEl = gd.closest('.output');\n",
              "if (outputEl) {{\n",
              "    x.observe(outputEl, {childList: true});\n",
              "}}\n",
              "\n",
              "                        })\n",
              "                };\n",
              "                \n",
              "            </script>\n",
              "        </div>\n",
              "</body>\n",
              "</html>"
            ]
          },
          "metadata": {
            "tags": []
          }
        }
      ]
    },
    {
      "cell_type": "markdown",
      "metadata": {
        "id": "gdOdW0RqdaOI"
      },
      "source": [
        "As we can see, the content on Netflix dataset has 30.9% TV shows and 69.1% Movies.\n",
        "\n",
        "Now let's look into categorization based upon other factors."
      ]
    },
    {
      "cell_type": "code",
      "metadata": {
        "colab": {
          "base_uri": "https://localhost:8080/",
          "height": 542
        },
        "id": "A3CmUBahdefQ",
        "outputId": "ef717282-85b1-4977-91af-4f023ef3ce5a"
      },
      "source": [
        "country_df = data['country_main'].value_counts().reset_index()\n",
        "country_df = country_df[country_df['country_main'] /  country_df['country_main'].sum() > 0.01]\n",
        "\n",
        "fig = px.pie(country_df, values='country_main', names='index',color_discrete_sequence=px.colors.sequential.RdBu)\n",
        "fig.update_traces(textposition='inside', textinfo='percent+label',marker = dict(line = dict(color = 'white', width = 1)))\n",
        "fig.show()"
      ],
      "execution_count": 49,
      "outputs": [
        {
          "output_type": "display_data",
          "data": {
            "text/html": [
              "<html>\n",
              "<head><meta charset=\"utf-8\" /></head>\n",
              "<body>\n",
              "    <div>\n",
              "            <script src=\"https://cdnjs.cloudflare.com/ajax/libs/mathjax/2.7.5/MathJax.js?config=TeX-AMS-MML_SVG\"></script><script type=\"text/javascript\">if (window.MathJax) {MathJax.Hub.Config({SVG: {font: \"STIX-Web\"}});}</script>\n",
              "                <script type=\"text/javascript\">window.PlotlyConfig = {MathJaxConfig: 'local'};</script>\n",
              "        <script src=\"https://cdn.plot.ly/plotly-latest.min.js\"></script>    \n",
              "            <div id=\"7819809c-00a7-4ece-a544-26569b119333\" class=\"plotly-graph-div\" style=\"height:525px; width:100%;\"></div>\n",
              "            <script type=\"text/javascript\">\n",
              "                \n",
              "                    window.PLOTLYENV=window.PLOTLYENV || {};\n",
              "                    \n",
              "                if (document.getElementById(\"7819809c-00a7-4ece-a544-26569b119333\")) {\n",
              "                    Plotly.newPlot(\n",
              "                        '7819809c-00a7-4ece-a544-26569b119333',\n",
              "                        [{\"domain\": {\"x\": [0.0, 1.0], \"y\": [0.0, 1.0]}, \"hoverlabel\": {\"namelength\": 0}, \"hovertemplate\": \"index=%{label}<br>country_main=%{value}\", \"labels\": [\"United States\", \"India\", \"United Kingdom\", \"Canada\", \"Japan\", \"France\", \"South Korea\", \"Spain\", \"Mexico\", \"Australia\", \"Turkey\", \"Egypt\", \"Germany\", \"China\", \"Taiwan\", \"Brazil\"], \"legendgroup\": \"\", \"marker\": {\"line\": {\"color\": \"white\", \"width\": 1}}, \"name\": \"\", \"showlegend\": true, \"textinfo\": \"percent+label\", \"textposition\": \"inside\", \"type\": \"pie\", \"values\": [3390, 956, 577, 259, 237, 196, 194, 168, 123, 108, 106, 105, 92, 86, 82, 79]}],\n",
              "                        {\"legend\": {\"tracegroupgap\": 0}, \"margin\": {\"t\": 60}, \"piecolorway\": [\"rgb(103,0,31)\", \"rgb(178,24,43)\", \"rgb(214,96,77)\", \"rgb(244,165,130)\", \"rgb(253,219,199)\", \"rgb(247,247,247)\", \"rgb(209,229,240)\", \"rgb(146,197,222)\", \"rgb(67,147,195)\", \"rgb(33,102,172)\", \"rgb(5,48,97)\"], \"template\": {\"data\": {\"bar\": [{\"error_x\": {\"color\": \"#2a3f5f\"}, \"error_y\": {\"color\": \"#2a3f5f\"}, \"marker\": {\"line\": {\"color\": \"#E5ECF6\", \"width\": 0.5}}, \"type\": \"bar\"}], \"barpolar\": [{\"marker\": {\"line\": {\"color\": \"#E5ECF6\", \"width\": 0.5}}, \"type\": \"barpolar\"}], \"carpet\": [{\"aaxis\": {\"endlinecolor\": \"#2a3f5f\", \"gridcolor\": \"white\", \"linecolor\": \"white\", \"minorgridcolor\": \"white\", \"startlinecolor\": \"#2a3f5f\"}, \"baxis\": {\"endlinecolor\": \"#2a3f5f\", \"gridcolor\": \"white\", \"linecolor\": \"white\", \"minorgridcolor\": \"white\", \"startlinecolor\": \"#2a3f5f\"}, \"type\": \"carpet\"}], \"choropleth\": [{\"colorbar\": {\"outlinewidth\": 0, \"ticks\": \"\"}, \"type\": \"choropleth\"}], \"contour\": [{\"colorbar\": {\"outlinewidth\": 0, \"ticks\": \"\"}, \"colorscale\": [[0.0, \"#0d0887\"], [0.1111111111111111, \"#46039f\"], [0.2222222222222222, \"#7201a8\"], [0.3333333333333333, \"#9c179e\"], [0.4444444444444444, \"#bd3786\"], [0.5555555555555556, \"#d8576b\"], [0.6666666666666666, \"#ed7953\"], [0.7777777777777778, \"#fb9f3a\"], [0.8888888888888888, \"#fdca26\"], [1.0, \"#f0f921\"]], \"type\": \"contour\"}], \"contourcarpet\": [{\"colorbar\": {\"outlinewidth\": 0, \"ticks\": \"\"}, \"type\": \"contourcarpet\"}], \"heatmap\": [{\"colorbar\": {\"outlinewidth\": 0, \"ticks\": \"\"}, \"colorscale\": [[0.0, \"#0d0887\"], [0.1111111111111111, \"#46039f\"], [0.2222222222222222, \"#7201a8\"], [0.3333333333333333, \"#9c179e\"], [0.4444444444444444, \"#bd3786\"], [0.5555555555555556, \"#d8576b\"], [0.6666666666666666, \"#ed7953\"], [0.7777777777777778, \"#fb9f3a\"], [0.8888888888888888, \"#fdca26\"], [1.0, \"#f0f921\"]], \"type\": \"heatmap\"}], \"heatmapgl\": [{\"colorbar\": {\"outlinewidth\": 0, \"ticks\": \"\"}, \"colorscale\": [[0.0, \"#0d0887\"], [0.1111111111111111, \"#46039f\"], [0.2222222222222222, \"#7201a8\"], [0.3333333333333333, \"#9c179e\"], [0.4444444444444444, \"#bd3786\"], [0.5555555555555556, \"#d8576b\"], [0.6666666666666666, \"#ed7953\"], [0.7777777777777778, \"#fb9f3a\"], [0.8888888888888888, \"#fdca26\"], [1.0, \"#f0f921\"]], \"type\": \"heatmapgl\"}], \"histogram\": [{\"marker\": {\"colorbar\": {\"outlinewidth\": 0, \"ticks\": \"\"}}, \"type\": \"histogram\"}], \"histogram2d\": [{\"colorbar\": {\"outlinewidth\": 0, \"ticks\": \"\"}, \"colorscale\": [[0.0, \"#0d0887\"], [0.1111111111111111, \"#46039f\"], [0.2222222222222222, \"#7201a8\"], [0.3333333333333333, \"#9c179e\"], [0.4444444444444444, \"#bd3786\"], [0.5555555555555556, \"#d8576b\"], [0.6666666666666666, \"#ed7953\"], [0.7777777777777778, \"#fb9f3a\"], [0.8888888888888888, \"#fdca26\"], [1.0, \"#f0f921\"]], \"type\": \"histogram2d\"}], \"histogram2dcontour\": [{\"colorbar\": {\"outlinewidth\": 0, \"ticks\": \"\"}, \"colorscale\": [[0.0, \"#0d0887\"], [0.1111111111111111, \"#46039f\"], [0.2222222222222222, \"#7201a8\"], [0.3333333333333333, \"#9c179e\"], [0.4444444444444444, \"#bd3786\"], [0.5555555555555556, \"#d8576b\"], [0.6666666666666666, \"#ed7953\"], [0.7777777777777778, \"#fb9f3a\"], [0.8888888888888888, \"#fdca26\"], [1.0, \"#f0f921\"]], \"type\": \"histogram2dcontour\"}], \"mesh3d\": [{\"colorbar\": {\"outlinewidth\": 0, \"ticks\": \"\"}, \"type\": \"mesh3d\"}], \"parcoords\": [{\"line\": {\"colorbar\": {\"outlinewidth\": 0, \"ticks\": \"\"}}, \"type\": \"parcoords\"}], \"pie\": [{\"automargin\": true, \"type\": \"pie\"}], \"scatter\": [{\"marker\": {\"colorbar\": {\"outlinewidth\": 0, \"ticks\": \"\"}}, \"type\": \"scatter\"}], \"scatter3d\": [{\"line\": {\"colorbar\": {\"outlinewidth\": 0, \"ticks\": \"\"}}, \"marker\": {\"colorbar\": {\"outlinewidth\": 0, \"ticks\": \"\"}}, \"type\": \"scatter3d\"}], \"scattercarpet\": [{\"marker\": {\"colorbar\": {\"outlinewidth\": 0, \"ticks\": \"\"}}, \"type\": \"scattercarpet\"}], \"scattergeo\": [{\"marker\": {\"colorbar\": {\"outlinewidth\": 0, \"ticks\": \"\"}}, \"type\": \"scattergeo\"}], \"scattergl\": [{\"marker\": {\"colorbar\": {\"outlinewidth\": 0, \"ticks\": \"\"}}, \"type\": \"scattergl\"}], \"scattermapbox\": [{\"marker\": {\"colorbar\": {\"outlinewidth\": 0, \"ticks\": \"\"}}, \"type\": \"scattermapbox\"}], \"scatterpolar\": [{\"marker\": {\"colorbar\": {\"outlinewidth\": 0, \"ticks\": \"\"}}, \"type\": \"scatterpolar\"}], \"scatterpolargl\": [{\"marker\": {\"colorbar\": {\"outlinewidth\": 0, \"ticks\": \"\"}}, \"type\": \"scatterpolargl\"}], \"scatterternary\": [{\"marker\": {\"colorbar\": {\"outlinewidth\": 0, \"ticks\": \"\"}}, \"type\": \"scatterternary\"}], \"surface\": [{\"colorbar\": {\"outlinewidth\": 0, \"ticks\": \"\"}, \"colorscale\": [[0.0, \"#0d0887\"], [0.1111111111111111, \"#46039f\"], [0.2222222222222222, \"#7201a8\"], [0.3333333333333333, \"#9c179e\"], [0.4444444444444444, \"#bd3786\"], [0.5555555555555556, \"#d8576b\"], [0.6666666666666666, \"#ed7953\"], [0.7777777777777778, \"#fb9f3a\"], [0.8888888888888888, \"#fdca26\"], [1.0, \"#f0f921\"]], \"type\": \"surface\"}], \"table\": [{\"cells\": {\"fill\": {\"color\": \"#EBF0F8\"}, \"line\": {\"color\": \"white\"}}, \"header\": {\"fill\": {\"color\": \"#C8D4E3\"}, \"line\": {\"color\": \"white\"}}, \"type\": \"table\"}]}, \"layout\": {\"annotationdefaults\": {\"arrowcolor\": \"#2a3f5f\", \"arrowhead\": 0, \"arrowwidth\": 1}, \"coloraxis\": {\"colorbar\": {\"outlinewidth\": 0, \"ticks\": \"\"}}, \"colorscale\": {\"diverging\": [[0, \"#8e0152\"], [0.1, \"#c51b7d\"], [0.2, \"#de77ae\"], [0.3, \"#f1b6da\"], [0.4, \"#fde0ef\"], [0.5, \"#f7f7f7\"], [0.6, \"#e6f5d0\"], [0.7, \"#b8e186\"], [0.8, \"#7fbc41\"], [0.9, \"#4d9221\"], [1, \"#276419\"]], \"sequential\": [[0.0, \"#0d0887\"], [0.1111111111111111, \"#46039f\"], [0.2222222222222222, \"#7201a8\"], [0.3333333333333333, \"#9c179e\"], [0.4444444444444444, \"#bd3786\"], [0.5555555555555556, \"#d8576b\"], [0.6666666666666666, \"#ed7953\"], [0.7777777777777778, \"#fb9f3a\"], [0.8888888888888888, \"#fdca26\"], [1.0, \"#f0f921\"]], \"sequentialminus\": [[0.0, \"#0d0887\"], [0.1111111111111111, \"#46039f\"], [0.2222222222222222, \"#7201a8\"], [0.3333333333333333, \"#9c179e\"], [0.4444444444444444, \"#bd3786\"], [0.5555555555555556, \"#d8576b\"], [0.6666666666666666, \"#ed7953\"], [0.7777777777777778, \"#fb9f3a\"], [0.8888888888888888, \"#fdca26\"], [1.0, \"#f0f921\"]]}, \"colorway\": [\"#636efa\", \"#EF553B\", \"#00cc96\", \"#ab63fa\", \"#FFA15A\", \"#19d3f3\", \"#FF6692\", \"#B6E880\", \"#FF97FF\", \"#FECB52\"], \"font\": {\"color\": \"#2a3f5f\"}, \"geo\": {\"bgcolor\": \"white\", \"lakecolor\": \"white\", \"landcolor\": \"#E5ECF6\", \"showlakes\": true, \"showland\": true, \"subunitcolor\": \"white\"}, \"hoverlabel\": {\"align\": \"left\"}, \"hovermode\": \"closest\", \"mapbox\": {\"style\": \"light\"}, \"paper_bgcolor\": \"white\", \"plot_bgcolor\": \"#E5ECF6\", \"polar\": {\"angularaxis\": {\"gridcolor\": \"white\", \"linecolor\": \"white\", \"ticks\": \"\"}, \"bgcolor\": \"#E5ECF6\", \"radialaxis\": {\"gridcolor\": \"white\", \"linecolor\": \"white\", \"ticks\": \"\"}}, \"scene\": {\"xaxis\": {\"backgroundcolor\": \"#E5ECF6\", \"gridcolor\": \"white\", \"gridwidth\": 2, \"linecolor\": \"white\", \"showbackground\": true, \"ticks\": \"\", \"zerolinecolor\": \"white\"}, \"yaxis\": {\"backgroundcolor\": \"#E5ECF6\", \"gridcolor\": \"white\", \"gridwidth\": 2, \"linecolor\": \"white\", \"showbackground\": true, \"ticks\": \"\", \"zerolinecolor\": \"white\"}, \"zaxis\": {\"backgroundcolor\": \"#E5ECF6\", \"gridcolor\": \"white\", \"gridwidth\": 2, \"linecolor\": \"white\", \"showbackground\": true, \"ticks\": \"\", \"zerolinecolor\": \"white\"}}, \"shapedefaults\": {\"line\": {\"color\": \"#2a3f5f\"}}, \"ternary\": {\"aaxis\": {\"gridcolor\": \"white\", \"linecolor\": \"white\", \"ticks\": \"\"}, \"baxis\": {\"gridcolor\": \"white\", \"linecolor\": \"white\", \"ticks\": \"\"}, \"bgcolor\": \"#E5ECF6\", \"caxis\": {\"gridcolor\": \"white\", \"linecolor\": \"white\", \"ticks\": \"\"}}, \"title\": {\"x\": 0.05}, \"xaxis\": {\"automargin\": true, \"gridcolor\": \"white\", \"linecolor\": \"white\", \"ticks\": \"\", \"title\": {\"standoff\": 15}, \"zerolinecolor\": \"white\", \"zerolinewidth\": 2}, \"yaxis\": {\"automargin\": true, \"gridcolor\": \"white\", \"linecolor\": \"white\", \"ticks\": \"\", \"title\": {\"standoff\": 15}, \"zerolinecolor\": \"white\", \"zerolinewidth\": 2}}}},\n",
              "                        {\"responsive\": true}\n",
              "                    ).then(function(){\n",
              "                            \n",
              "var gd = document.getElementById('7819809c-00a7-4ece-a544-26569b119333');\n",
              "var x = new MutationObserver(function (mutations, observer) {{\n",
              "        var display = window.getComputedStyle(gd).display;\n",
              "        if (!display || display === 'none') {{\n",
              "            console.log([gd, 'removed!']);\n",
              "            Plotly.purge(gd);\n",
              "            observer.disconnect();\n",
              "        }}\n",
              "}});\n",
              "\n",
              "// Listen for the removal of the full notebook cells\n",
              "var notebookContainer = gd.closest('#notebook-container');\n",
              "if (notebookContainer) {{\n",
              "    x.observe(notebookContainer, {childList: true});\n",
              "}}\n",
              "\n",
              "// Listen for the clearing of the current output cell\n",
              "var outputEl = gd.closest('.output');\n",
              "if (outputEl) {{\n",
              "    x.observe(outputEl, {childList: true});\n",
              "}}\n",
              "\n",
              "                        })\n",
              "                };\n",
              "                \n",
              "            </script>\n",
              "        </div>\n",
              "</body>\n",
              "</html>"
            ]
          },
          "metadata": {
            "tags": []
          }
        }
      ]
    },
    {
      "cell_type": "markdown",
      "metadata": {
        "id": "G-nBLE7ldx3v"
      },
      "source": [
        "After dividing the dataset on the basis of country of production, we see that United States holds the highest percentage, of about half of the total content. India comes second in the list with about 14 percentage share. (Note: We have filled the NaN values in the country_main column with the mean() method. That can be counted as a factor of the dominance of United States)"
      ]
    },
    {
      "cell_type": "code",
      "metadata": {
        "id": "ES58voNXdxPT"
      },
      "source": [
        "def generate_df(df):\n",
        "    new_df = df.groupby(['y_add', 'm_add']).agg({'show_id': 'count'}).reset_index()\n",
        "    new_df = new_df[new_df['show_id'] != 0]\n",
        "    new_df.columns = ['y_add', 'm_add', 'counts']\n",
        "    new_df = new_df.sort_values('y_add')\n",
        "    return new_df"
      ],
      "execution_count": 50,
      "outputs": []
    },
    {
      "cell_type": "code",
      "metadata": {
        "colab": {
          "base_uri": "https://localhost:8080/",
          "height": 542
        },
        "id": "ZzwiRpl5d_RQ",
        "outputId": "fb37298e-4479-45c2-e664-e2e76cf19ee9"
      },
      "source": [
        "import plotly.graph_objects as go\n",
        "from plotly.subplots import make_subplots\n",
        "\n",
        "movie_new_df = generate_df(movie_df)\n",
        "tv_new_df = generate_df(tv_df)\n",
        "\n",
        "fig = make_subplots(rows=1, cols=2, specs=[[{\"type\": \"pie\"}, {\"type\": \"pie\"}]])\n",
        "fig.add_trace(\n",
        "    go.Pie(labels=movie_new_df['y_add'], values=movie_new_df['counts']),\n",
        "    row=1, col=1\n",
        ")\n",
        "\n",
        "fig.add_trace(\n",
        "    go.Pie(labels=tv_new_df['y_add'], values=tv_new_df['counts']),\n",
        "    row=1, col=2\n",
        ")\n",
        "\n",
        "fig.update_traces(textposition='inside', hole=.4, hoverinfo=\"label+percent+name\",marker = dict(line = dict(color = 'white', width = 2)))\n",
        "\n",
        "fig.update_layout(\n",
        "    title_text=\"Content distribution by Year of Adding\",\n",
        "    # Add annotations in the center of the donut pies.\n",
        "    annotations=[dict(text='Movies', x=0.18, y=0.5, font_size=17, showarrow=False, font_color='black'),dict(text='TV Shows', x=0.83, y=0.5, font_size=17, showarrow=False, font_color='black')])\n",
        "fig.show()"
      ],
      "execution_count": 51,
      "outputs": [
        {
          "output_type": "display_data",
          "data": {
            "text/html": [
              "<html>\n",
              "<head><meta charset=\"utf-8\" /></head>\n",
              "<body>\n",
              "    <div>\n",
              "            <script src=\"https://cdnjs.cloudflare.com/ajax/libs/mathjax/2.7.5/MathJax.js?config=TeX-AMS-MML_SVG\"></script><script type=\"text/javascript\">if (window.MathJax) {MathJax.Hub.Config({SVG: {font: \"STIX-Web\"}});}</script>\n",
              "                <script type=\"text/javascript\">window.PlotlyConfig = {MathJaxConfig: 'local'};</script>\n",
              "        <script src=\"https://cdn.plot.ly/plotly-latest.min.js\"></script>    \n",
              "            <div id=\"8c17985d-1d8c-4b84-b66f-b127724ef97f\" class=\"plotly-graph-div\" style=\"height:525px; width:100%;\"></div>\n",
              "            <script type=\"text/javascript\">\n",
              "                \n",
              "                    window.PLOTLYENV=window.PLOTLYENV || {};\n",
              "                    \n",
              "                if (document.getElementById(\"8c17985d-1d8c-4b84-b66f-b127724ef97f\")) {\n",
              "                    Plotly.newPlot(\n",
              "                        '8c17985d-1d8c-4b84-b66f-b127724ef97f',\n",
              "                        [{\"domain\": {\"x\": [0.0, 0.45], \"y\": [0.0, 1.0]}, \"hole\": 0.4, \"hoverinfo\": \"label+percent+name\", \"labels\": [\"2008\", \"2009\", \"2009\", \"2010\", \"2011\", \"2011\", \"2011\", \"2012\", \"2012\", \"2012\", \"2013\", \"2013\", \"2013\", \"2013\", \"2014\", \"2014\", \"2014\", \"2014\", \"2014\", \"2014\", \"2014\", \"2014\", \"2014\", \"2014\", \"2015\", \"2015\", \"2015\", \"2015\", \"2015\", \"2015\", \"2015\", \"2015\", \"2015\", \"2015\", \"2015\", \"2015\", \"2016\", \"2016\", \"2016\", \"2016\", \"2016\", \"2016\", \"2016\", \"2016\", \"2016\", \"2016\", \"2016\", \"2016\", \"2017\", \"2017\", \"2017\", \"2017\", \"2017\", \"2017\", \"2017\", \"2017\", \"2017\", \"2017\", \"2017\", \"2017\", \"2018\", \"2018\", \"2018\", \"2018\", \"2018\", \"2018\", \"2018\", \"2018\", \"2018\", \"2018\", \"2018\", \"2018\", \"2019\", \"2019\", \"2019\", \"2019\", \"2019\", \"2019\", \"2019\", \"2019\", \"2019\", \"2019\", \"2019\", \"2019\", \"2020\", \"2020\", \"2020\", \"2020\", \"2020\", \"2020\", \"2020\", \"2020\", \"2020\", \"2020\", \"2020\", \"2020\", \"2021\"], \"marker\": {\"line\": {\"color\": \"white\", \"width\": 2}}, \"textposition\": \"inside\", \"type\": \"pie\", \"values\": [1, 1, 1, 1, 1, 11, 1, 1, 1, 1, 2, 2, 1, 1, 1, 1, 4, 2, 1, 1, 1, 5, 1, 2, 3, 6, 10, 2, 5, 4, 16, 1, 3, 2, 1, 5, 29, 34, 28, 9, 14, 11, 15, 9, 52, 24, 14, 19, 102, 86, 99, 57, 63, 65, 66, 58, 66, 79, 77, 46, 83, 146, 119, 73, 137, 50, 108, 64, 126, 135, 87, 127, 119, 131, 195, 110, 92, 127, 113, 123, 172, 92, 121, 102, 117, 103, 109, 96, 119, 71, 164, 101, 83, 130, 116, 103, 88]}, {\"domain\": {\"x\": [0.55, 1.0], \"y\": [0.0, 1.0]}, \"hole\": 0.4, \"hoverinfo\": \"label+percent+name\", \"labels\": [\"2008\", \"2013\", \"2013\", \"2013\", \"2013\", \"2013\", \"2014\", \"2014\", \"2014\", \"2014\", \"2015\", \"2015\", \"2015\", \"2015\", \"2015\", \"2015\", \"2015\", \"2015\", \"2015\", \"2016\", \"2016\", \"2016\", \"2016\", \"2016\", \"2016\", \"2016\", \"2016\", \"2016\", \"2016\", \"2016\", \"2016\", \"2016\", \"2017\", \"2017\", \"2017\", \"2017\", \"2017\", \"2017\", \"2017\", \"2017\", \"2017\", \"2017\", \"2017\", \"2017\", \"2017\", \"2018\", \"2018\", \"2018\", \"2018\", \"2018\", \"2018\", \"2018\", \"2018\", \"2018\", \"2018\", \"2018\", \"2018\", \"2018\", \"2019\", \"2019\", \"2019\", \"2019\", \"2019\", \"2019\", \"2019\", \"2019\", \"2019\", \"2019\", \"2019\", \"2019\", \"2019\", \"2020\", \"2020\", \"2020\", \"2020\", \"2020\", \"2020\", \"2020\", \"2020\", \"2020\", \"2020\", \"2020\", \"2020\", \"2020\", \"2021\"], \"marker\": {\"line\": {\"color\": \"white\", \"width\": 2}}, \"textposition\": \"inside\", \"type\": \"pie\", \"values\": [1, 1, 1, 1, 1, 1, 1, 1, 1, 3, 1, 1, 1, 2, 5, 4, 4, 9, 3, 17, 18, 16, 2, 2, 10, 8, 7, 43, 17, 7, 11, 27, 28, 33, 31, 24, 36, 30, 28, 17, 36, 33, 14, 27, 24, 43, 45, 41, 26, 35, 27, 28, 16, 23, 59, 33, 30, 24, 71, 75, 49, 43, 59, 48, 47, 37, 43, 53, 49, 17, 65, 56, 55, 64, 56, 48, 53, 74, 46, 61, 58, 1, 62, 73, 29]}],\n",
              "                        {\"annotations\": [{\"font\": {\"color\": \"black\", \"size\": 17}, \"showarrow\": false, \"text\": \"Movies\", \"x\": 0.18, \"y\": 0.5}, {\"font\": {\"color\": \"black\", \"size\": 17}, \"showarrow\": false, \"text\": \"TV Shows\", \"x\": 0.83, \"y\": 0.5}], \"template\": {\"data\": {\"bar\": [{\"error_x\": {\"color\": \"#2a3f5f\"}, \"error_y\": {\"color\": \"#2a3f5f\"}, \"marker\": {\"line\": {\"color\": \"#E5ECF6\", \"width\": 0.5}}, \"type\": \"bar\"}], \"barpolar\": [{\"marker\": {\"line\": {\"color\": \"#E5ECF6\", \"width\": 0.5}}, \"type\": \"barpolar\"}], \"carpet\": [{\"aaxis\": {\"endlinecolor\": \"#2a3f5f\", \"gridcolor\": \"white\", \"linecolor\": \"white\", \"minorgridcolor\": \"white\", \"startlinecolor\": \"#2a3f5f\"}, \"baxis\": {\"endlinecolor\": \"#2a3f5f\", \"gridcolor\": \"white\", \"linecolor\": \"white\", \"minorgridcolor\": \"white\", \"startlinecolor\": \"#2a3f5f\"}, \"type\": \"carpet\"}], \"choropleth\": [{\"colorbar\": {\"outlinewidth\": 0, \"ticks\": \"\"}, \"type\": \"choropleth\"}], \"contour\": [{\"colorbar\": {\"outlinewidth\": 0, \"ticks\": \"\"}, \"colorscale\": [[0.0, \"#0d0887\"], [0.1111111111111111, \"#46039f\"], [0.2222222222222222, \"#7201a8\"], [0.3333333333333333, \"#9c179e\"], [0.4444444444444444, \"#bd3786\"], [0.5555555555555556, \"#d8576b\"], [0.6666666666666666, \"#ed7953\"], [0.7777777777777778, \"#fb9f3a\"], [0.8888888888888888, \"#fdca26\"], [1.0, \"#f0f921\"]], \"type\": \"contour\"}], \"contourcarpet\": [{\"colorbar\": {\"outlinewidth\": 0, \"ticks\": \"\"}, \"type\": \"contourcarpet\"}], \"heatmap\": [{\"colorbar\": {\"outlinewidth\": 0, \"ticks\": \"\"}, \"colorscale\": [[0.0, \"#0d0887\"], [0.1111111111111111, \"#46039f\"], [0.2222222222222222, \"#7201a8\"], [0.3333333333333333, \"#9c179e\"], [0.4444444444444444, \"#bd3786\"], [0.5555555555555556, \"#d8576b\"], [0.6666666666666666, \"#ed7953\"], [0.7777777777777778, \"#fb9f3a\"], [0.8888888888888888, \"#fdca26\"], [1.0, \"#f0f921\"]], \"type\": \"heatmap\"}], \"heatmapgl\": [{\"colorbar\": {\"outlinewidth\": 0, \"ticks\": \"\"}, \"colorscale\": [[0.0, \"#0d0887\"], [0.1111111111111111, \"#46039f\"], [0.2222222222222222, \"#7201a8\"], [0.3333333333333333, \"#9c179e\"], [0.4444444444444444, \"#bd3786\"], [0.5555555555555556, \"#d8576b\"], [0.6666666666666666, \"#ed7953\"], [0.7777777777777778, \"#fb9f3a\"], [0.8888888888888888, \"#fdca26\"], [1.0, \"#f0f921\"]], \"type\": \"heatmapgl\"}], \"histogram\": [{\"marker\": {\"colorbar\": {\"outlinewidth\": 0, \"ticks\": \"\"}}, \"type\": \"histogram\"}], \"histogram2d\": [{\"colorbar\": {\"outlinewidth\": 0, \"ticks\": \"\"}, \"colorscale\": [[0.0, \"#0d0887\"], [0.1111111111111111, \"#46039f\"], [0.2222222222222222, \"#7201a8\"], [0.3333333333333333, \"#9c179e\"], [0.4444444444444444, \"#bd3786\"], [0.5555555555555556, \"#d8576b\"], [0.6666666666666666, \"#ed7953\"], [0.7777777777777778, \"#fb9f3a\"], [0.8888888888888888, \"#fdca26\"], [1.0, \"#f0f921\"]], \"type\": \"histogram2d\"}], \"histogram2dcontour\": [{\"colorbar\": {\"outlinewidth\": 0, \"ticks\": \"\"}, \"colorscale\": [[0.0, \"#0d0887\"], [0.1111111111111111, \"#46039f\"], [0.2222222222222222, \"#7201a8\"], [0.3333333333333333, \"#9c179e\"], [0.4444444444444444, \"#bd3786\"], [0.5555555555555556, \"#d8576b\"], [0.6666666666666666, \"#ed7953\"], [0.7777777777777778, \"#fb9f3a\"], [0.8888888888888888, \"#fdca26\"], [1.0, \"#f0f921\"]], \"type\": \"histogram2dcontour\"}], \"mesh3d\": [{\"colorbar\": {\"outlinewidth\": 0, \"ticks\": \"\"}, \"type\": \"mesh3d\"}], \"parcoords\": [{\"line\": {\"colorbar\": {\"outlinewidth\": 0, \"ticks\": \"\"}}, \"type\": \"parcoords\"}], \"pie\": [{\"automargin\": true, \"type\": \"pie\"}], \"scatter\": [{\"marker\": {\"colorbar\": {\"outlinewidth\": 0, \"ticks\": \"\"}}, \"type\": \"scatter\"}], \"scatter3d\": [{\"line\": {\"colorbar\": {\"outlinewidth\": 0, \"ticks\": \"\"}}, \"marker\": {\"colorbar\": {\"outlinewidth\": 0, \"ticks\": \"\"}}, \"type\": \"scatter3d\"}], \"scattercarpet\": [{\"marker\": {\"colorbar\": {\"outlinewidth\": 0, \"ticks\": \"\"}}, \"type\": \"scattercarpet\"}], \"scattergeo\": [{\"marker\": {\"colorbar\": {\"outlinewidth\": 0, \"ticks\": \"\"}}, \"type\": \"scattergeo\"}], \"scattergl\": [{\"marker\": {\"colorbar\": {\"outlinewidth\": 0, \"ticks\": \"\"}}, \"type\": \"scattergl\"}], \"scattermapbox\": [{\"marker\": {\"colorbar\": {\"outlinewidth\": 0, \"ticks\": \"\"}}, \"type\": \"scattermapbox\"}], \"scatterpolar\": [{\"marker\": {\"colorbar\": {\"outlinewidth\": 0, \"ticks\": \"\"}}, \"type\": \"scatterpolar\"}], \"scatterpolargl\": [{\"marker\": {\"colorbar\": {\"outlinewidth\": 0, \"ticks\": \"\"}}, \"type\": \"scatterpolargl\"}], \"scatterternary\": [{\"marker\": {\"colorbar\": {\"outlinewidth\": 0, \"ticks\": \"\"}}, \"type\": \"scatterternary\"}], \"surface\": [{\"colorbar\": {\"outlinewidth\": 0, \"ticks\": \"\"}, \"colorscale\": [[0.0, \"#0d0887\"], [0.1111111111111111, \"#46039f\"], [0.2222222222222222, \"#7201a8\"], [0.3333333333333333, \"#9c179e\"], [0.4444444444444444, \"#bd3786\"], [0.5555555555555556, \"#d8576b\"], [0.6666666666666666, \"#ed7953\"], [0.7777777777777778, \"#fb9f3a\"], [0.8888888888888888, \"#fdca26\"], [1.0, \"#f0f921\"]], \"type\": \"surface\"}], \"table\": [{\"cells\": {\"fill\": {\"color\": \"#EBF0F8\"}, \"line\": {\"color\": \"white\"}}, \"header\": {\"fill\": {\"color\": \"#C8D4E3\"}, \"line\": {\"color\": \"white\"}}, \"type\": \"table\"}]}, \"layout\": {\"annotationdefaults\": {\"arrowcolor\": \"#2a3f5f\", \"arrowhead\": 0, \"arrowwidth\": 1}, \"coloraxis\": {\"colorbar\": {\"outlinewidth\": 0, \"ticks\": \"\"}}, \"colorscale\": {\"diverging\": [[0, \"#8e0152\"], [0.1, \"#c51b7d\"], [0.2, \"#de77ae\"], [0.3, \"#f1b6da\"], [0.4, \"#fde0ef\"], [0.5, \"#f7f7f7\"], [0.6, \"#e6f5d0\"], [0.7, \"#b8e186\"], [0.8, \"#7fbc41\"], [0.9, \"#4d9221\"], [1, \"#276419\"]], \"sequential\": [[0.0, \"#0d0887\"], [0.1111111111111111, \"#46039f\"], [0.2222222222222222, \"#7201a8\"], [0.3333333333333333, \"#9c179e\"], [0.4444444444444444, \"#bd3786\"], [0.5555555555555556, \"#d8576b\"], [0.6666666666666666, \"#ed7953\"], [0.7777777777777778, \"#fb9f3a\"], [0.8888888888888888, \"#fdca26\"], [1.0, \"#f0f921\"]], \"sequentialminus\": [[0.0, \"#0d0887\"], [0.1111111111111111, \"#46039f\"], [0.2222222222222222, \"#7201a8\"], [0.3333333333333333, \"#9c179e\"], [0.4444444444444444, \"#bd3786\"], [0.5555555555555556, \"#d8576b\"], [0.6666666666666666, \"#ed7953\"], [0.7777777777777778, \"#fb9f3a\"], [0.8888888888888888, \"#fdca26\"], [1.0, \"#f0f921\"]]}, \"colorway\": [\"#636efa\", \"#EF553B\", \"#00cc96\", \"#ab63fa\", \"#FFA15A\", \"#19d3f3\", \"#FF6692\", \"#B6E880\", \"#FF97FF\", \"#FECB52\"], \"font\": {\"color\": \"#2a3f5f\"}, \"geo\": {\"bgcolor\": \"white\", \"lakecolor\": \"white\", \"landcolor\": \"#E5ECF6\", \"showlakes\": true, \"showland\": true, \"subunitcolor\": \"white\"}, \"hoverlabel\": {\"align\": \"left\"}, \"hovermode\": \"closest\", \"mapbox\": {\"style\": \"light\"}, \"paper_bgcolor\": \"white\", \"plot_bgcolor\": \"#E5ECF6\", \"polar\": {\"angularaxis\": {\"gridcolor\": \"white\", \"linecolor\": \"white\", \"ticks\": \"\"}, \"bgcolor\": \"#E5ECF6\", \"radialaxis\": {\"gridcolor\": \"white\", \"linecolor\": \"white\", \"ticks\": \"\"}}, \"scene\": {\"xaxis\": {\"backgroundcolor\": \"#E5ECF6\", \"gridcolor\": \"white\", \"gridwidth\": 2, \"linecolor\": \"white\", \"showbackground\": true, \"ticks\": \"\", \"zerolinecolor\": \"white\"}, \"yaxis\": {\"backgroundcolor\": \"#E5ECF6\", \"gridcolor\": \"white\", \"gridwidth\": 2, \"linecolor\": \"white\", \"showbackground\": true, \"ticks\": \"\", \"zerolinecolor\": \"white\"}, \"zaxis\": {\"backgroundcolor\": \"#E5ECF6\", \"gridcolor\": \"white\", \"gridwidth\": 2, \"linecolor\": \"white\", \"showbackground\": true, \"ticks\": \"\", \"zerolinecolor\": \"white\"}}, \"shapedefaults\": {\"line\": {\"color\": \"#2a3f5f\"}}, \"ternary\": {\"aaxis\": {\"gridcolor\": \"white\", \"linecolor\": \"white\", \"ticks\": \"\"}, \"baxis\": {\"gridcolor\": \"white\", \"linecolor\": \"white\", \"ticks\": \"\"}, \"bgcolor\": \"#E5ECF6\", \"caxis\": {\"gridcolor\": \"white\", \"linecolor\": \"white\", \"ticks\": \"\"}}, \"title\": {\"x\": 0.05}, \"xaxis\": {\"automargin\": true, \"gridcolor\": \"white\", \"linecolor\": \"white\", \"ticks\": \"\", \"title\": {\"standoff\": 15}, \"zerolinecolor\": \"white\", \"zerolinewidth\": 2}, \"yaxis\": {\"automargin\": true, \"gridcolor\": \"white\", \"linecolor\": \"white\", \"ticks\": \"\", \"title\": {\"standoff\": 15}, \"zerolinecolor\": \"white\", \"zerolinewidth\": 2}}}, \"title\": {\"text\": \"Content distribution by Year of Adding\"}},\n",
              "                        {\"responsive\": true}\n",
              "                    ).then(function(){\n",
              "                            \n",
              "var gd = document.getElementById('8c17985d-1d8c-4b84-b66f-b127724ef97f');\n",
              "var x = new MutationObserver(function (mutations, observer) {{\n",
              "        var display = window.getComputedStyle(gd).display;\n",
              "        if (!display || display === 'none') {{\n",
              "            console.log([gd, 'removed!']);\n",
              "            Plotly.purge(gd);\n",
              "            observer.disconnect();\n",
              "        }}\n",
              "}});\n",
              "\n",
              "// Listen for the removal of the full notebook cells\n",
              "var notebookContainer = gd.closest('#notebook-container');\n",
              "if (notebookContainer) {{\n",
              "    x.observe(notebookContainer, {childList: true});\n",
              "}}\n",
              "\n",
              "// Listen for the clearing of the current output cell\n",
              "var outputEl = gd.closest('.output');\n",
              "if (outputEl) {{\n",
              "    x.observe(outputEl, {childList: true});\n",
              "}}\n",
              "\n",
              "                        })\n",
              "                };\n",
              "                \n",
              "            </script>\n",
              "        </div>\n",
              "</body>\n",
              "</html>"
            ]
          },
          "metadata": {
            "tags": []
          }
        }
      ]
    },
    {
      "cell_type": "markdown",
      "metadata": {
        "id": "HCYfBD03e0nx"
      },
      "source": [
        "Conclusion: The above plot shows the distribution of Movies and TV Shows separately based upon the year of adding. There is a noticable increase in the number of shows added throughout the years. For movies 2019 records the maximum number while for TV shows the year 2020 records the maximum number of addition of shows."
      ]
    },
    {
      "cell_type": "code",
      "metadata": {
        "id": "j3cCspaXe8fH"
      },
      "source": [
        "def generate_year_df(df,year):\n",
        "    new_df = df.groupby(['target_age', 'y_add']).agg({'show_id': 'count'}).reset_index()\n",
        "    new_df = new_df[new_df['show_id'] != 0]\n",
        "    new_df.columns = ['target_age', 'y_add', 'counts']\n",
        "    new_df = new_df.sort_values('y_add')\n",
        "    new_df= new_df[new_df['y_add']==year]\n",
        "    return new_df"
      ],
      "execution_count": 52,
      "outputs": []
    },
    {
      "cell_type": "code",
      "metadata": {
        "colab": {
          "base_uri": "https://localhost:8080/",
          "height": 542
        },
        "id": "0fkT8fuFfHtO",
        "outputId": "e04e1825-4bf9-49d6-e495-76cfaf25fe45"
      },
      "source": [
        "group_2012 = generate_year_df(data,'2012')\n",
        "group_2015 = generate_year_df(data,'2015')\n",
        "group_2020 = generate_year_df(data,'2020')\n",
        "\n",
        "fig = make_subplots(1, 3, specs=[[{'type':'pie'}, {'type':'pie'}, {'type':'pie'}]],\n",
        "                    subplot_titles=['2012', '2015','2020'])\n",
        "fig.add_trace(go.Pie(labels=group_2012['target_age'], values=group_2012['counts'],scalegroup='one', \n",
        "                     name=\"Target audience 2012\"), 1, 1)\n",
        "\n",
        "fig.add_trace(go.Pie(labels=group_2015['target_age'], values=group_2015['counts'],scalegroup='one', \n",
        "                     name=\"Target audience 2015\"), 1, 2)\n",
        "fig.add_trace(go.Pie(labels=group_2020['target_age'], values=group_2020['counts'],scalegroup='one', \n",
        "                     name=\"Target audience 2020\"), 1, 3)\n",
        "\n",
        "fig.update_traces(textposition='inside',  hoverinfo=\"label+percent+name\",\n",
        "                  marker = dict(line = dict(color = 'white', width = 1),\n",
        "                                colors = ['#3D0C02', '#800000' , '#C11B17','#C0C0C0'],))\n",
        "\n",
        "fig.update_layout(title_text='Content distribution by target audience 2012 vs 2015 vs 2020')\n",
        "fig.show()"
      ],
      "execution_count": 53,
      "outputs": [
        {
          "output_type": "display_data",
          "data": {
            "text/html": [
              "<html>\n",
              "<head><meta charset=\"utf-8\" /></head>\n",
              "<body>\n",
              "    <div>\n",
              "            <script src=\"https://cdnjs.cloudflare.com/ajax/libs/mathjax/2.7.5/MathJax.js?config=TeX-AMS-MML_SVG\"></script><script type=\"text/javascript\">if (window.MathJax) {MathJax.Hub.Config({SVG: {font: \"STIX-Web\"}});}</script>\n",
              "                <script type=\"text/javascript\">window.PlotlyConfig = {MathJaxConfig: 'local'};</script>\n",
              "        <script src=\"https://cdn.plot.ly/plotly-latest.min.js\"></script>    \n",
              "            <div id=\"93b1d72c-c6f4-44b7-8ab3-790a1791100e\" class=\"plotly-graph-div\" style=\"height:525px; width:100%;\"></div>\n",
              "            <script type=\"text/javascript\">\n",
              "                \n",
              "                    window.PLOTLYENV=window.PLOTLYENV || {};\n",
              "                    \n",
              "                if (document.getElementById(\"93b1d72c-c6f4-44b7-8ab3-790a1791100e\")) {\n",
              "                    Plotly.newPlot(\n",
              "                        '93b1d72c-c6f4-44b7-8ab3-790a1791100e',\n",
              "                        [{\"domain\": {\"x\": [0.0, 0.2888888888888889], \"y\": [0.0, 1.0]}, \"hoverinfo\": \"label+percent+name\", \"labels\": [\"Adults\", \"Older Kids\"], \"marker\": {\"colors\": [\"#3D0C02\", \"#800000\", \"#C11B17\", \"#C0C0C0\"], \"line\": {\"color\": \"white\", \"width\": 1}}, \"name\": \"Target audience 2012\", \"scalegroup\": \"one\", \"textposition\": \"inside\", \"type\": \"pie\", \"values\": [1, 2]}, {\"domain\": {\"x\": [0.35555555555555557, 0.6444444444444445], \"y\": [0.0, 1.0]}, \"hoverinfo\": \"label+percent+name\", \"labels\": [\"Teens\", \"Older Kids\", \"Adults\", \"Kids\"], \"marker\": {\"colors\": [\"#3D0C02\", \"#800000\", \"#C11B17\", \"#C0C0C0\"], \"line\": {\"color\": \"white\", \"width\": 1}}, \"name\": \"Target audience 2015\", \"scalegroup\": \"one\", \"textposition\": \"inside\", \"type\": \"pie\", \"values\": [17, 17, 37, 17]}, {\"domain\": {\"x\": [0.7111111111111111, 1.0], \"y\": [0.0, 1.0]}, \"hoverinfo\": \"label+percent+name\", \"labels\": [\"Older Kids\", \"Kids\", \"Teens\", \"Adults\"], \"marker\": {\"colors\": [\"#3D0C02\", \"#800000\", \"#C11B17\", \"#C0C0C0\"], \"line\": {\"color\": \"white\", \"width\": 1}}, \"name\": \"Target audience 2020\", \"scalegroup\": \"one\", \"textposition\": \"inside\", \"type\": \"pie\", \"values\": [310, 196, 599, 914]}],\n",
              "                        {\"annotations\": [{\"font\": {\"size\": 16}, \"showarrow\": false, \"text\": \"2012\", \"x\": 0.14444444444444446, \"xanchor\": \"center\", \"xref\": \"paper\", \"y\": 1.0, \"yanchor\": \"bottom\", \"yref\": \"paper\"}, {\"font\": {\"size\": 16}, \"showarrow\": false, \"text\": \"2015\", \"x\": 0.5, \"xanchor\": \"center\", \"xref\": \"paper\", \"y\": 1.0, \"yanchor\": \"bottom\", \"yref\": \"paper\"}, {\"font\": {\"size\": 16}, \"showarrow\": false, \"text\": \"2020\", \"x\": 0.8555555555555556, \"xanchor\": \"center\", \"xref\": \"paper\", \"y\": 1.0, \"yanchor\": \"bottom\", \"yref\": \"paper\"}], \"template\": {\"data\": {\"bar\": [{\"error_x\": {\"color\": \"#2a3f5f\"}, \"error_y\": {\"color\": \"#2a3f5f\"}, \"marker\": {\"line\": {\"color\": \"#E5ECF6\", \"width\": 0.5}}, \"type\": \"bar\"}], \"barpolar\": [{\"marker\": {\"line\": {\"color\": \"#E5ECF6\", \"width\": 0.5}}, \"type\": \"barpolar\"}], \"carpet\": [{\"aaxis\": {\"endlinecolor\": \"#2a3f5f\", \"gridcolor\": \"white\", \"linecolor\": \"white\", \"minorgridcolor\": \"white\", \"startlinecolor\": \"#2a3f5f\"}, \"baxis\": {\"endlinecolor\": \"#2a3f5f\", \"gridcolor\": \"white\", \"linecolor\": \"white\", \"minorgridcolor\": \"white\", \"startlinecolor\": \"#2a3f5f\"}, \"type\": \"carpet\"}], \"choropleth\": [{\"colorbar\": {\"outlinewidth\": 0, \"ticks\": \"\"}, \"type\": \"choropleth\"}], \"contour\": [{\"colorbar\": {\"outlinewidth\": 0, \"ticks\": \"\"}, \"colorscale\": [[0.0, \"#0d0887\"], [0.1111111111111111, \"#46039f\"], [0.2222222222222222, \"#7201a8\"], [0.3333333333333333, \"#9c179e\"], [0.4444444444444444, \"#bd3786\"], [0.5555555555555556, \"#d8576b\"], [0.6666666666666666, \"#ed7953\"], [0.7777777777777778, \"#fb9f3a\"], [0.8888888888888888, \"#fdca26\"], [1.0, \"#f0f921\"]], \"type\": \"contour\"}], \"contourcarpet\": [{\"colorbar\": {\"outlinewidth\": 0, \"ticks\": \"\"}, \"type\": \"contourcarpet\"}], \"heatmap\": [{\"colorbar\": {\"outlinewidth\": 0, \"ticks\": \"\"}, \"colorscale\": [[0.0, \"#0d0887\"], [0.1111111111111111, \"#46039f\"], [0.2222222222222222, \"#7201a8\"], [0.3333333333333333, \"#9c179e\"], [0.4444444444444444, \"#bd3786\"], [0.5555555555555556, \"#d8576b\"], [0.6666666666666666, \"#ed7953\"], [0.7777777777777778, \"#fb9f3a\"], [0.8888888888888888, \"#fdca26\"], [1.0, \"#f0f921\"]], \"type\": \"heatmap\"}], \"heatmapgl\": [{\"colorbar\": {\"outlinewidth\": 0, \"ticks\": \"\"}, \"colorscale\": [[0.0, \"#0d0887\"], [0.1111111111111111, \"#46039f\"], [0.2222222222222222, \"#7201a8\"], [0.3333333333333333, \"#9c179e\"], [0.4444444444444444, \"#bd3786\"], [0.5555555555555556, \"#d8576b\"], [0.6666666666666666, \"#ed7953\"], [0.7777777777777778, \"#fb9f3a\"], [0.8888888888888888, \"#fdca26\"], [1.0, \"#f0f921\"]], \"type\": \"heatmapgl\"}], \"histogram\": [{\"marker\": {\"colorbar\": {\"outlinewidth\": 0, \"ticks\": \"\"}}, \"type\": \"histogram\"}], \"histogram2d\": [{\"colorbar\": {\"outlinewidth\": 0, \"ticks\": \"\"}, \"colorscale\": [[0.0, \"#0d0887\"], [0.1111111111111111, \"#46039f\"], [0.2222222222222222, \"#7201a8\"], [0.3333333333333333, \"#9c179e\"], [0.4444444444444444, \"#bd3786\"], [0.5555555555555556, \"#d8576b\"], [0.6666666666666666, \"#ed7953\"], [0.7777777777777778, \"#fb9f3a\"], [0.8888888888888888, \"#fdca26\"], [1.0, \"#f0f921\"]], \"type\": \"histogram2d\"}], \"histogram2dcontour\": [{\"colorbar\": {\"outlinewidth\": 0, \"ticks\": \"\"}, \"colorscale\": [[0.0, \"#0d0887\"], [0.1111111111111111, \"#46039f\"], [0.2222222222222222, \"#7201a8\"], [0.3333333333333333, \"#9c179e\"], [0.4444444444444444, \"#bd3786\"], [0.5555555555555556, \"#d8576b\"], [0.6666666666666666, \"#ed7953\"], [0.7777777777777778, \"#fb9f3a\"], [0.8888888888888888, \"#fdca26\"], [1.0, \"#f0f921\"]], \"type\": \"histogram2dcontour\"}], \"mesh3d\": [{\"colorbar\": {\"outlinewidth\": 0, \"ticks\": \"\"}, \"type\": \"mesh3d\"}], \"parcoords\": [{\"line\": {\"colorbar\": {\"outlinewidth\": 0, \"ticks\": \"\"}}, \"type\": \"parcoords\"}], \"pie\": [{\"automargin\": true, \"type\": \"pie\"}], \"scatter\": [{\"marker\": {\"colorbar\": {\"outlinewidth\": 0, \"ticks\": \"\"}}, \"type\": \"scatter\"}], \"scatter3d\": [{\"line\": {\"colorbar\": {\"outlinewidth\": 0, \"ticks\": \"\"}}, \"marker\": {\"colorbar\": {\"outlinewidth\": 0, \"ticks\": \"\"}}, \"type\": \"scatter3d\"}], \"scattercarpet\": [{\"marker\": {\"colorbar\": {\"outlinewidth\": 0, \"ticks\": \"\"}}, \"type\": \"scattercarpet\"}], \"scattergeo\": [{\"marker\": {\"colorbar\": {\"outlinewidth\": 0, \"ticks\": \"\"}}, \"type\": \"scattergeo\"}], \"scattergl\": [{\"marker\": {\"colorbar\": {\"outlinewidth\": 0, \"ticks\": \"\"}}, \"type\": \"scattergl\"}], \"scattermapbox\": [{\"marker\": {\"colorbar\": {\"outlinewidth\": 0, \"ticks\": \"\"}}, \"type\": \"scattermapbox\"}], \"scatterpolar\": [{\"marker\": {\"colorbar\": {\"outlinewidth\": 0, \"ticks\": \"\"}}, \"type\": \"scatterpolar\"}], \"scatterpolargl\": [{\"marker\": {\"colorbar\": {\"outlinewidth\": 0, \"ticks\": \"\"}}, \"type\": \"scatterpolargl\"}], \"scatterternary\": [{\"marker\": {\"colorbar\": {\"outlinewidth\": 0, \"ticks\": \"\"}}, \"type\": \"scatterternary\"}], \"surface\": [{\"colorbar\": {\"outlinewidth\": 0, \"ticks\": \"\"}, \"colorscale\": [[0.0, \"#0d0887\"], [0.1111111111111111, \"#46039f\"], [0.2222222222222222, \"#7201a8\"], [0.3333333333333333, \"#9c179e\"], [0.4444444444444444, \"#bd3786\"], [0.5555555555555556, \"#d8576b\"], [0.6666666666666666, \"#ed7953\"], [0.7777777777777778, \"#fb9f3a\"], [0.8888888888888888, \"#fdca26\"], [1.0, \"#f0f921\"]], \"type\": \"surface\"}], \"table\": [{\"cells\": {\"fill\": {\"color\": \"#EBF0F8\"}, \"line\": {\"color\": \"white\"}}, \"header\": {\"fill\": {\"color\": \"#C8D4E3\"}, \"line\": {\"color\": \"white\"}}, \"type\": \"table\"}]}, \"layout\": {\"annotationdefaults\": {\"arrowcolor\": \"#2a3f5f\", \"arrowhead\": 0, \"arrowwidth\": 1}, \"coloraxis\": {\"colorbar\": {\"outlinewidth\": 0, \"ticks\": \"\"}}, \"colorscale\": {\"diverging\": [[0, \"#8e0152\"], [0.1, \"#c51b7d\"], [0.2, \"#de77ae\"], [0.3, \"#f1b6da\"], [0.4, \"#fde0ef\"], [0.5, \"#f7f7f7\"], [0.6, \"#e6f5d0\"], [0.7, \"#b8e186\"], [0.8, \"#7fbc41\"], [0.9, \"#4d9221\"], [1, \"#276419\"]], \"sequential\": [[0.0, \"#0d0887\"], [0.1111111111111111, \"#46039f\"], [0.2222222222222222, \"#7201a8\"], [0.3333333333333333, \"#9c179e\"], [0.4444444444444444, \"#bd3786\"], [0.5555555555555556, \"#d8576b\"], [0.6666666666666666, \"#ed7953\"], [0.7777777777777778, \"#fb9f3a\"], [0.8888888888888888, \"#fdca26\"], [1.0, \"#f0f921\"]], \"sequentialminus\": [[0.0, \"#0d0887\"], [0.1111111111111111, \"#46039f\"], [0.2222222222222222, \"#7201a8\"], [0.3333333333333333, \"#9c179e\"], [0.4444444444444444, \"#bd3786\"], [0.5555555555555556, \"#d8576b\"], [0.6666666666666666, \"#ed7953\"], [0.7777777777777778, \"#fb9f3a\"], [0.8888888888888888, \"#fdca26\"], [1.0, \"#f0f921\"]]}, \"colorway\": [\"#636efa\", \"#EF553B\", \"#00cc96\", \"#ab63fa\", \"#FFA15A\", \"#19d3f3\", \"#FF6692\", \"#B6E880\", \"#FF97FF\", \"#FECB52\"], \"font\": {\"color\": \"#2a3f5f\"}, \"geo\": {\"bgcolor\": \"white\", \"lakecolor\": \"white\", \"landcolor\": \"#E5ECF6\", \"showlakes\": true, \"showland\": true, \"subunitcolor\": \"white\"}, \"hoverlabel\": {\"align\": \"left\"}, \"hovermode\": \"closest\", \"mapbox\": {\"style\": \"light\"}, \"paper_bgcolor\": \"white\", \"plot_bgcolor\": \"#E5ECF6\", \"polar\": {\"angularaxis\": {\"gridcolor\": \"white\", \"linecolor\": \"white\", \"ticks\": \"\"}, \"bgcolor\": \"#E5ECF6\", \"radialaxis\": {\"gridcolor\": \"white\", \"linecolor\": \"white\", \"ticks\": \"\"}}, \"scene\": {\"xaxis\": {\"backgroundcolor\": \"#E5ECF6\", \"gridcolor\": \"white\", \"gridwidth\": 2, \"linecolor\": \"white\", \"showbackground\": true, \"ticks\": \"\", \"zerolinecolor\": \"white\"}, \"yaxis\": {\"backgroundcolor\": \"#E5ECF6\", \"gridcolor\": \"white\", \"gridwidth\": 2, \"linecolor\": \"white\", \"showbackground\": true, \"ticks\": \"\", \"zerolinecolor\": \"white\"}, \"zaxis\": {\"backgroundcolor\": \"#E5ECF6\", \"gridcolor\": \"white\", \"gridwidth\": 2, \"linecolor\": \"white\", \"showbackground\": true, \"ticks\": \"\", \"zerolinecolor\": \"white\"}}, \"shapedefaults\": {\"line\": {\"color\": \"#2a3f5f\"}}, \"ternary\": {\"aaxis\": {\"gridcolor\": \"white\", \"linecolor\": \"white\", \"ticks\": \"\"}, \"baxis\": {\"gridcolor\": \"white\", \"linecolor\": \"white\", \"ticks\": \"\"}, \"bgcolor\": \"#E5ECF6\", \"caxis\": {\"gridcolor\": \"white\", \"linecolor\": \"white\", \"ticks\": \"\"}}, \"title\": {\"x\": 0.05}, \"xaxis\": {\"automargin\": true, \"gridcolor\": \"white\", \"linecolor\": \"white\", \"ticks\": \"\", \"title\": {\"standoff\": 15}, \"zerolinecolor\": \"white\", \"zerolinewidth\": 2}, \"yaxis\": {\"automargin\": true, \"gridcolor\": \"white\", \"linecolor\": \"white\", \"ticks\": \"\", \"title\": {\"standoff\": 15}, \"zerolinecolor\": \"white\", \"zerolinewidth\": 2}}}, \"title\": {\"text\": \"Content distribution by target audience 2012 vs 2015 vs 2020\"}},\n",
              "                        {\"responsive\": true}\n",
              "                    ).then(function(){\n",
              "                            \n",
              "var gd = document.getElementById('93b1d72c-c6f4-44b7-8ab3-790a1791100e');\n",
              "var x = new MutationObserver(function (mutations, observer) {{\n",
              "        var display = window.getComputedStyle(gd).display;\n",
              "        if (!display || display === 'none') {{\n",
              "            console.log([gd, 'removed!']);\n",
              "            Plotly.purge(gd);\n",
              "            observer.disconnect();\n",
              "        }}\n",
              "}});\n",
              "\n",
              "// Listen for the removal of the full notebook cells\n",
              "var notebookContainer = gd.closest('#notebook-container');\n",
              "if (notebookContainer) {{\n",
              "    x.observe(notebookContainer, {childList: true});\n",
              "}}\n",
              "\n",
              "// Listen for the clearing of the current output cell\n",
              "var outputEl = gd.closest('.output');\n",
              "if (outputEl) {{\n",
              "    x.observe(outputEl, {childList: true});\n",
              "}}\n",
              "\n",
              "                        })\n",
              "                };\n",
              "                \n",
              "            </script>\n",
              "        </div>\n",
              "</body>\n",
              "</html>"
            ]
          },
          "metadata": {
            "tags": []
          }
        }
      ]
    },
    {
      "cell_type": "markdown",
      "metadata": {
        "id": "-3ut7UHHfUdu"
      },
      "source": [
        "Conclusion: The above plot shows content distribution by target age. The sizes of te plot is relative to the number of content added in the mentioned years. As it is clear from the plot, there was a huge increase in the number of content from the year 2012 to 2015 to 2020."
      ]
    },
    {
      "cell_type": "code",
      "metadata": {
        "colab": {
          "base_uri": "https://localhost:8080/",
          "height": 542
        },
        "id": "_nlGn9emfaMH",
        "outputId": "e88916ca-3688-4f23-9ab6-be4fdae49960"
      },
      "source": [
        "fig = px.histogram(data, x='country_main',color_discrete_sequence=['indianred'])\n",
        "fig.update_xaxes(categoryorder='total ascending')\n",
        "fig.show()"
      ],
      "execution_count": 54,
      "outputs": [
        {
          "output_type": "display_data",
          "data": {
            "text/html": [
              "<html>\n",
              "<head><meta charset=\"utf-8\" /></head>\n",
              "<body>\n",
              "    <div>\n",
              "            <script src=\"https://cdnjs.cloudflare.com/ajax/libs/mathjax/2.7.5/MathJax.js?config=TeX-AMS-MML_SVG\"></script><script type=\"text/javascript\">if (window.MathJax) {MathJax.Hub.Config({SVG: {font: \"STIX-Web\"}});}</script>\n",
              "                <script type=\"text/javascript\">window.PlotlyConfig = {MathJaxConfig: 'local'};</script>\n",
              "        <script src=\"https://cdn.plot.ly/plotly-latest.min.js\"></script>    \n",
              "            <div id=\"9734562b-051d-4d95-abd3-ba652419ba33\" class=\"plotly-graph-div\" style=\"height:525px; width:100%;\"></div>\n",
              "            <script type=\"text/javascript\">\n",
              "                \n",
              "                    window.PLOTLYENV=window.PLOTLYENV || {};\n",
              "                    \n",
              "                if (document.getElementById(\"9734562b-051d-4d95-abd3-ba652419ba33\")) {\n",
              "                    Plotly.newPlot(\n",
              "                        '9734562b-051d-4d95-abd3-ba652419ba33',\n",
              "                        [{\"alignmentgroup\": \"True\", \"bingroup\": \"x\", \"hoverlabel\": {\"namelength\": 0}, \"hovertemplate\": \"country_main=%{x}<br>count=%{y}\", \"legendgroup\": \"\", \"marker\": {\"color\": \"indianred\"}, \"name\": \"\", \"offsetgroup\": \"\", \"orientation\": \"v\", \"showlegend\": false, \"type\": \"histogram\", \"x\": [\"Brazil\", \"Mexico\", \"Singapore\", \"United States\", \"United States\", \"Turkey\", \"Egypt\", \"United States\", \"India\", \"India\", \"United States\", \"Poland\", \"Mexico\", \"Thailand\", \"United States\", \"Nigeria\", \"United States\", \"Norway\", \"India\", \"United Kingdom\", \"India\", \"India\", \"India\", \"India\", \"Japan\", \"United States\", \"United States\", \"South Korea\", \"Italy\", \"United States\", \"Canada\", \"Indonesia\", \"Indonesia\", \"United States\", \"Canada\", \"United States\", \"Romania\", \"Romania\", \"United States\", \"Spain\", \"Turkey\", \"Iceland\", \"Turkey\", \"Nigeria\", \"United States\", \"Turkey\", \"United States\", \"United States\", \"South Africa\", \"France\", \"United States\", \"South Korea\", \"Spain\", \"United States\", \"Portugal\", \"United States\", \"United States\", \"Indonesia\", \"United Kingdom\", \"India\", \"United States\", \"South Korea\", \"United States\", \"United States\", \"United States\", \"United States\", \"United States\", \"United States\", \"Hong Kong\", \"United States\", \"United States\", \"United States\", \"United States\", \"Italy\", \"Spain\", \"United States\", \"United States\", \"France\", \"India\", \"United States\", \"Turkey\", \"South Korea\", \"United Kingdom\", \"United States\", \"United States\", \"United Kingdom\", \"India\", \"Canada\", \"United States\", \"South Africa\", \"India\", \"South Korea\", \"Argentina\", \"United Kingdom\", \"United States\", \"South Korea\", \"United States\", \"United States\", \"United States\", \"Indonesia\", \"India\", \"Canada\", \"Germany\", \"Egypt\", \"United States\", \"Denmark\", \"Poland\", \"Japan\", \"United States\", \"Kenya\", \"United States\", \"Italy\", \"Spain\", \"Canada\", \"Spain\", \"United States\", \"Nigeria\", \"United States\", \"United States\", \"Italy\", \"United States\", \"United States\", \"United States\", \"Indonesia\", \"Romania\", \"United States\", \"New Zealand\", \"United States\", \"United States\", \"India\", \"United States\", \"United States\", \"India\", \"Spain\", \"United States\", \"Pakistan\", \"India\", \"Australia\", \"Australia\", \"Australia\", \"Australia\", \"United States\", \"United States\", \"India\", \"Nigeria\", \"Australia\", \"Mexico\", \"United States\", \"United States\", \"China\", \"India\", \"United States\", \"Taiwan\", \"United States\", \"United States\", \"United States\", \"Turkey\", \"Taiwan\", \"Canada\", \"United States\", \"United States\", \"United States\", \"France\", \"United States\", \"United States\", \"United Kingdom\", \"United States\", \"United States\", \"United States\", \"Netherlands\", \"Canada\", \"United States\", \"India\", \"Denmark\", \"United States\", \"United States\", \"United States\", \"United States\", \"United States\", \"United States\", \"Taiwan\", \"United Kingdom\", \"United States\", \"United States\", \"United States\", \"Germany\", \"United States\", \"Hong Kong\", \"Taiwan\", \"United States\", \"United States\", \"South Korea\", \"France\", \"United States\", \"Argentina\", \"United States\", \"United Kingdom\", \"United States\", \"China\", \"South Korea\", \"United States\", \"Philippines\", \"South Korea\", \"France\", \"United States\", \"United Kingdom\", \"United Arab Emirates\", \"United States\", \"Brazil\", \"United States\", \"United States\", \"Netherlands\", \"United Kingdom\", \"Germany\", \"United States\", \"United States\", \"United Kingdom\", \"United States\", \"Brazil\", \"Spain\", \"Canada\", \"India\", \"Philippines\", \"United States\", \"Iran\", \"United States\", \"United States\", \"United Kingdom\", \"Japan\", \"United States\", \"Argentina\", \"United States\", \"United States\", \"United States\", \"Taiwan\", \"Taiwan\", \"Israel\", \"United States\", \"United States\", \"Taiwan\", \"United States\", \"Taiwan\", \"United States\", \"Nigeria\", \"India\", \"Uruguay\", \"United States\", \"United States\", \"France\", \"Philippines\", \"United States\", \"India\", \"United States\", \"Japan\", \"Canada\", \"United States\", \"United States\", \"Singapore\", \"United Kingdom\", \"United States\", \"Japan\", \"Canada\", \"United States\", \"Turkey\", \"India\", \"India\", \"India\", \"India\", \"India\", \"India\", \"India\", \"India\", \"India\", \"India\", \"India\", \"India\", \"United States\", \"India\", \"India\", \"India\", \"Egypt\", \"United States\", \"Pakistan\", \"India\", \"South Korea\", \"United States\", \"United Kingdom\", \"United Kingdom\", \"United States\", \"United States\", \"South Korea\", \"Argentina\", \"Mexico\", \"Hong Kong\", \"China\", \"United States\", \"Canada\", \"United States\", \"United States\", \"Turkey\", \"India\", \"Bulgaria\", \"Canada\", \"France\", \"Spain\", \"United States\", \"United States\", \"United States\", \"United States\", \"France\", \"United States\", \"India\", \"India\", \"Australia\", \"Hong Kong\", \"India\", \"United States\", \"Canada\", \"United Arab Emirates\", \"United States\", \"Brazil\", \"United Kingdom\", \"Brazil\", \"United States\", \"United Kingdom\", \"United States\", \"United States\", \"United States\", \"United States\", \"United States\", \"United Kingdom\", \"United States\", \"United States\", \"Singapore\", \"United Kingdom\", \"United Kingdom\", \"United States\", \"Taiwan\", \"Germany\", \"Mauritius\", \"India\", \"Japan\", \"Japan\", \"India\", \"Argentina\", \"India\", \"India\", \"United States\", \"Japan\", \"Japan\", \"United Kingdom\", \"United States\", \"United States\", \"India\", \"India\", \"India\", \"India\", \"United States\", \"India\", \"United States\", \"Japan\", \"India\", \"India\", \"Japan\", \"India\", \"United States\", \"United States\", \"Lebanon\", \"India\", \"United States\", \"Mexico\", \"Egypt\", \"United States\", \"India\", \"United States\", \"Colombia\", \"Spain\", \"Uruguay\", \"Mexico\", \"United States\", \"United States\", \"Egypt\", \"France\", \"Uruguay\", \"United Arab Emirates\", \"Turkey\", \"United States\", \"United States\", \"Australia\", \"Canada\", \"United States\", \"Soviet Union\", \"United States\", \"Japan\", \"Brazil\", \"United States\", \"United States\", \"United States\", \"United Kingdom\", \"United States\", \"United States\", \"Sweden\", \"South Africa\", \"United States\", \"United States\", \"United States\", \"Malaysia\", \"United States\", \"Ireland\", \"Colombia\", \"Spain\", \"United States\", \"United States\", \"United States\", \"United States\", \"United States\", \"Philippines\", \"United States\", \"United States\", \"United Kingdom\", \"Mexico\", \"Brazil\", \"United States\", \"Hong Kong\", \"Germany\", \"United States\", \"Argentina\", \"United States\", \"United States\", \"United Kingdom\", \"Philippines\", \"United States\", \"United States\", \"United States\", \"United Kingdom\", \"United States\", \"United States\", \"United States\", \"Japan\", \"United States\", \"Colombia\", \"Philippines\", \"Denmark\", \"South Africa\", \"Spain\", \"United Kingdom\", \"India\", \"Egypt\", \"United States\", \"United Kingdom\", \"United Kingdom\", \"United States\", \"United States\", \"United States\", \"United States\", \"United States\", \"United States\", \"United States\", \"United States\", \"United States\", \"United States\", \"United States\", \"United States\", \"United States\", \"Canada\", \"Canada\", \"United States\", \"United Kingdom\", \"United States\", \"United States\", \"United States\", \"United States\", \"United States\", \"United States\", \"United States\", \"United States\", \"United States\", \"India\", \"Philippines\", \"Turkey\", \"India\", \"United Kingdom\", \"United States\", \"United States\", \"India\", \"United States\", \"United States\", \"United States\", \"United States\", \"France\", \"Egypt\", \"United Kingdom\", \"Egypt\", \"United States\", \"Taiwan\", \"United States\", \"Serbia\", \"Colombia\", \"Egypt\", \"Brazil\", \"India\", \"India\", \"Spain\", \"Canada\", \"United States\", \"Iceland\", \"Egypt\", \"India\", \"India\", \"United States\", \"India\", \"Singapore\", \"France\", \"United States\", \"India\", \"Taiwan\", \"Japan\", \"United States\", \"United States\", \"Ireland\", \"United States\", \"United States\", \"United States\", \"Finland\", \"India\", \"United States\", \"India\", \"United Kingdom\", \"China\", \"China\", \"Spain\", \"Brazil\", \"India\", \"India\", \"India\", \"United States\", \"India\", \"India\", \"United States\", \"Canada\", \"Japan\", \"United Kingdom\", \"Brazil\", \"United States\", \"South Korea\", \"United States\", \"United States\", \"Egypt\", \"United States\", \"United States\", \"United States\", \"United States\", \"India\", \"United States\", \"United States\", \"India\", \"Japan\", \"United States\", \"Argentina\", \"Spain\", \"India\", \"United States\", \"United States\", \"United Kingdom\", \"France\", \"United States\", \"France\", \"United States\", \"Colombia\", \"Japan\", \"United States\", \"India\", \"France\", \"Egypt\", \"United States\", \"Netherlands\", \"South Korea\", \"Iceland\", \"United States\", \"United States\", \"Indonesia\", \"India\", \"Canada\", \"United States\", \"United States\", \"United States\", \"South Korea\", \"United States\", \"United Kingdom\", \"India\", \"Indonesia\", \"United States\", \"United States\", \"India\", \"India\", \"United States\", \"China\", \"Australia\", \"United States\", \"India\", \"United States\", \"Norway\", \"United States\", \"United States\", \"Peru\", \"India\", \"South Korea\", \"United States\", \"Canada\", \"Taiwan\", \"Japan\", \"United States\", \"France\", \"United States\", \"United States\", \"Canada\", \"Japan\", \"United Kingdom\", \"Chile\", \"United States\", \"United States\", \"Australia\", \"Romania\", \"United Kingdom\", \"Australia\", \"United States\", \"United States\", \"United States\", \"India\", \"Bulgaria\", \"Taiwan\", \"United States\", \"United States\", \"Indonesia\", \"United Kingdom\", \"United States\", \"Sweden\", \"United Kingdom\", \"United States\", \"United States\", \"United States\", \"United States\", \"India\", \"India\", \"India\", \"Mexico\", \"Ghana\", \"India\", \"United States\", \"United States\", \"United States\", \"Japan\", \"India\", \"India\", \"India\", \"India\", \"India\", \"United States\", \"United States\", \"United States\", \"India\", \"United States\", \"United States\", \"India\", \"Turkey\", \"Turkey\", \"France\", \"United States\", \"Italy\", \"United Kingdom\", \"India\", \"South Africa\", \"Germany\", \"India\", \"Brazil\", \"Australia\", \"Japan\", \"Taiwan\", \"United States\", \"Thailand\", \"United States\", \"Canada\", \"United States\", \"United States\", \"Australia\", \"Canada\", \"India\", \"United States\", \"United States\", \"United Kingdom\", \"United Kingdom\", \"Thailand\", \"United States\", \"South Korea\", \"South Korea\", \"Singapore\", \"United States\", \"France\", \"India\", \"India\", \"India\", \"United States\", \"United States\", \"Japan\", \"United States\", \"Japan\", \"United States\", \"Chile\", \"United States\", \"United States\", \"United States\", \"Pakistan\", \"Turkey\", \"Nigeria\", \"United States\", \"United States\", \"United States\", \"India\", \"Thailand\", \"India\", \"United States\", \"Thailand\", \"Thailand\", \"United States\", \"Thailand\", \"Thailand\", \"Thailand\", \"Thailand\", \"Spain\", \"India\", \"Saudi Arabia\", \"Germany\", \"Australia\", \"United States\", \"United States\", \"United States\", \"United States\", \"United States\", \"United States\", \"United States\", \"United States\", \"United States\", \"United States\", \"United States\", \"United States\", \"United States\", \"United States\", \"United States\", \"United States\", \"Philippines\", \"India\", \"India\", \"United States\", \"India\", \"Chile\", \"United States\", \"India\", \"United States\", \"United States\", \"United States\", \"Italy\", \"United States\", \"India\", \"United States\", \"United States\", \"Norway\", \"United States\", \"United States\", \"United Kingdom\", \"United States\", \"India\", \"Namibia\", \"Mexico\", \"India\", \"India\", \"United States\", \"United States\", \"Taiwan\", \"Taiwan\", \"Russia\", \"Germany\", \"United Kingdom\", \"United States\", \"Canada\", \"Japan\", \"United States\", \"Australia\", \"Australia\", \"South Korea\", \"United States\", \"Mexico\", \"Canada\", \"Philippines\", \"United States\", \"United States\", \"United States\", \"Indonesia\", \"South Korea\", \"Egypt\", \"United States\", \"Mexico\", \"United Kingdom\", \"United States\", \"United States\", \"United States\", \"Nigeria\", \"United States\", \"United States\", \"United States\", \"Egypt\", \"Japan\", \"United States\", \"United States\", \"United States\", \"United States\", \"Turkey\", \"India\", \"United Kingdom\", \"United States\", \"United States\", \"Nigeria\", \"United States\", \"Lebanon\", \"Belgium\", \"New Zealand\", \"United States\", \"Uruguay\", \"Canada\", \"United Kingdom\", \"United States\", \"United States\", \"United States\", \"United States\", \"United States\", \"United Arab Emirates\", \"United States\", \"United States\", \"United States\", \"Germany\", \"Turkey\", \"Australia\", \"Germany\", \"Germany\", \"Japan\", \"Japan\", \"Japan\", \"United States\", \"United States\", \"United States\", \"United States\", \"South Korea\", \"United States\", \"United States\", \"Canada\", \"United States\", \"United States\", \"India\", \"United States\", \"United States\", \"Russia\", \"United States\", \"United States\", \"Canada\", \"Philippines\", \"United States\", \"Spain\", \"India\", \"Egypt\", \"Japan\", \"United States\", \"Japan\", \"United States\", \"Japan\", \"Turkey\", \"United States\", \"United States\", \"United States\", \"United States\", \"India\", \"India\", \"India\", \"India\", \"India\", \"India\", \"India\", \"India\", \"India\", \"India\", \"India\", \"United States\", \"India\", \"India\", \"India\", \"India\", \"Germany\", \"Germany\", \"Germany\", \"Germany\", \"United States\", \"United States\", \"United States\", \"United States\", \"United Kingdom\", \"United States\", \"United States\", \"United States\", \"United States\", \"United States\", \"Denmark\", \"United States\", \"France\", \"United States\", \"United Kingdom\", \"United States\", \"United States\", \"United States\", \"United States\", \"United States\", \"United States\", \"United Kingdom\", \"United States\", \"United Kingdom\", \"United Kingdom\", \"United States\", \"United States\", \"United States\", \"India\", \"United Kingdom\", \"United States\", \"United States\", \"India\", \"Germany\", \"India\", \"Turkey\", \"United States\", \"United States\", \"Philippines\", \"Canada\", \"United States\", \"Vietnam\", \"Canada\", \"Spain\", \"Egypt\", \"India\", \"India\", \"Ireland\", \"United States\", \"Japan\", \"Saudi Arabia\", \"United Kingdom\", \"India\", \"United States\", \"Turkey\", \"United States\", \"United States\", \"Spain\", \"United Kingdom\", \"United States\", \"Turkey\", \"United States\", \"Russia\", \"United Kingdom\", \"United States\", \"United States\", \"Argentina\", \"France\", \"Canada\", \"United States\", \"United States\", \"United States\", \"Japan\", \"United States\", \"Japan\", \"Japan\", \"Japan\", \"Japan\", \"United States\", \"Germany\", \"France\", \"Hong Kong\", \"United States\", \"Australia\", \"South Africa\", \"France\", \"Thailand\", \"South Africa\", \"France\", \"India\", \"United States\", \"Brazil\", \"Argentina\", \"United States\", \"Norway\", \"United States\", \"Canada\", \"Japan\", \"France\", \"United States\", \"United States\", \"United States\", \"United Kingdom\", \"United States\", \"Germany\", \"United States\", \"India\", \"Canada\", \"Japan\", \"Thailand\", \"United States\", \"United States\", \"Canada\", \"United States\", \"United States\", \"Canada\", \"Denmark\", \"United States\", \"India\", \"India\", \"United States\", \"United Kingdom\", \"Ireland\", \"United States\", \"India\", \"India\", \"Spain\", \"United States\", \"United States\", \"United States\", \"Colombia\", \"India\", \"United States\", \"Spain\", \"United Arab Emirates\", \"India\", \"New Zealand\", \"United States\", \"Netherlands\", \"Canada\", \"Canada\", \"Australia\", \"United States\", \"United States\", \"Sweden\", \"Russia\", \"United States\", \"India\", \"United States\", \"Canada\", \"United Kingdom\", \"Norway\", \"Finland\", \"Denmark\", \"Brazil\", \"Philippines\", \"Spain\", \"Denmark\", \"New Zealand\", \"United States\", \"United Kingdom\", \"India\", \"Lebanon\", \"United Kingdom\", \"United States\", \"Canada\", \"Singapore\", \"Egypt\", \"Brazil\", \"United States\", \"Spain\", \"Bulgaria\", \"South Korea\", \"United States\", \"India\", \"United States\", \"United States\", \"United States\", \"United States\", \"United States\", \"Canada\", \"United States\", \"United States\", \"Canada\", \"United States\", \"United States\", \"France\", \"United States\", \"India\", \"Hong Kong\", \"United States\", \"United States\", \"India\", \"United Kingdom\", \"United States\", \"Australia\", \"United States\", \"United States\", \"United States\", \"United States\", \"Philippines\", \"Indonesia\", \"United States\", \"United Kingdom\", \"United States\", \"United States\", \"India\", \"South Korea\", \"United States\", \"United States\", \"United Kingdom\", \"United States\", \"Taiwan\", \"United States\", \"France\", \"Turkey\", \"United States\", \"Brazil\", \"China\", \"India\", \"United States\", \"Canada\", \"Canada\", \"Canada\", \"India\", \"France\", \"United States\", \"United Kingdom\", \"Brazil\", \"United States\", \"United States\", \"India\", \"Indonesia\", \"Netherlands\", \"India\", \"India\", \"Bulgaria\", \"United States\", \"United States\", \"United States\", \"United States\", \"United States\", \"United States\", \"United States\", \"United States\", \"France\", \"Turkey\", \"South Korea\", \"United States\", \"United States\", \"United Kingdom\", \"United States\", \"South Korea\", \"United States\", \"United States\", \"Philippines\", \"Philippines\", \"France\", \"Kuwait\", \"Turkey\", \"India\", \"India\", \"Belgium\", \"United States\", \"United Kingdom\", \"Spain\", \"Norway\", \"Japan\", \"Indonesia\", \"Argentina\", \"South Korea\", \"Egypt\", \"United Kingdom\", \"India\", \"United Kingdom\", \"United States\", \"United States\", \"United States\", \"United States\", \"United States\", \"Sweden\", \"Italy\", \"France\", \"United Kingdom\", \"United States\", \"United States\", \"United States\", \"Spain\", \"Mexico\", \"United States\", \"United States\", \"Canada\", \"United States\", \"South Korea\", \"Canada\", \"Ireland\", \"United States\", \"Philippines\", \"Egypt\", \"United States\", \"Taiwan\", \"India\", \"United States\", \"France\", \"United States\", \"United States\", \"France\", \"India\", \"United States\", \"United States\", \"United Kingdom\", \"United States\", \"France\", \"Ireland\", \"Japan\", \"United States\", \"United States\", \"India\", \"Philippines\", \"India\", \"United States\", \"Mexico\", \"Mexico\", \"Argentina\", \"United States\", \"Canada\", \"United Kingdom\", \"Japan\", \"United States\", \"United States\", \"United States\", \"United States\", \"France\", \"Iceland\", \"United States\", \"Japan\", \"United Kingdom\", \"Hong Kong\", \"Hong Kong\", \"United States\", \"Nigeria\", \"United States\", \"United States\", \"United States\", \"United States\", \"South Africa\", \"China\", \"United States\", \"Spain\", \"United States\", \"Canada\", \"United Kingdom\", \"Norway\", \"United States\", \"United States\", \"Japan\", \"India\", \"Indonesia\", \"United States\", \"India\", \"India\", \"India\", \"India\", \"India\", \"India\", \"Pakistan\", \"United States\", \"India\", \"India\", \"India\", \"United States\", \"India\", \"United States\", \"India\", \"Germany\", \"United States\", \"Indonesia\", \"United States\", \"South Africa\", \"Germany\", \"United States\", \"United Kingdom\", \"United States\", \"United States\", \"United States\", \"United States\", \"United States\", \"Canada\", \"India\", \"India\", \"United States\", \"United States\", \"United States\", \"Canada\", \"Hong Kong\", \"United States\", \"Brazil\", \"India\", \"Australia\", \"Indonesia\", \"United States\", \"United States\", \"United States\", \"South Korea\", \"United States\", \"South Korea\", \"United States\", \"United States\", \"United States\", \"United States\", \"United States\", \"United States\", \"United States\", \"India\", \"United States\", \"United States\", \"United Kingdom\", \"United Kingdom\", \"India\", \"India\", \"United States\", \"United States\", \"United States\", \"United States\", \"India\", \"South Korea\", \"India\", \"United States\", \"United States\", \"United States\", \"United States\", \"Nigeria\", \"South Korea\", \"United States\", \"Lebanon\", \"United Kingdom\", \"Japan\", \"Japan\", \"United States\", \"India\", \"United States\", \"China\", \"United States\", \"United Kingdom\", \"India\", \"United States\", \"United Kingdom\", \"United States\", \"South Korea\", \"United States\", \"India\", \"India\", \"China\", \"United States\", \"United States\", \"United States\", \"United States\", \"United States\", \"United States\", \"United States\", \"United States\", \"United States\", \"United States\", \"United Kingdom\", \"United States\", \"Germany\", \"Canada\", \"United States\", \"United States\", \"United States\", \"United Kingdom\", \"Canada\", \"Canada\", \"Canada\", \"United States\", \"United States\", \"United States\", \"Argentina\", \"United States\", \"India\", \"United States\", \"United States\", \"United States\", \"United States\", \"Malaysia\", \"India\", \"Pakistan\", \"India\", \"United Kingdom\", \"India\", \"Turkey\", \"South Korea\", \"United States\", \"United States\", \"United States\", \"United States\", \"United States\", \"United States\", \"United States\", \"Nigeria\", \"Taiwan\", \"United Kingdom\", \"Brazil\", \"Brazil\", \"United States\", \"United Kingdom\", \"United Kingdom\", \"Turkey\", \"Japan\", \"United States\", \"United States\", \"United States\", \"India\", \"United States\", \"India\", \"Spain\", \"United States\", \"Australia\", \"United States\", \"United Kingdom\", \"United States\", \"United States\", \"United Kingdom\", \"France\", \"Taiwan\", \"United Kingdom\", \"Germany\", \"France\", \"United States\", \"United States\", \"United States\", \"Mexico\", \"United States\", \"United States\", \"United States\", \"United States\", \"United States\", \"United States\", \"United States\", \"Mexico\", \"United States\", \"United States\", \"United States\", \"United Kingdom\", \"Spain\", \"Mexico\", \"United States\", \"United States\", \"Canada\", \"Japan\", \"France\", \"United States\", \"United States\", \"Italy\", \"India\", \"United States\", \"United States\", \"United States\", \"Nigeria\", \"South Africa\", \"United States\", \"United States\", \"United States\", \"India\", \"United Kingdom\", \"India\", \"Germany\", \"United States\", \"South Korea\", \"India\", \"Canada\", \"United States\", \"United States\", \"United States\", \"United States\", \"United States\", \"United States\", \"United States\", \"Mexico\", \"India\", \"United Kingdom\", \"United States\", \"Czech Republic\", \"United States\", \"Vietnam\", \"United Kingdom\", \"Ireland\", \"Turkey\", \"Turkey\", \"United Kingdom\", \"United States\", \"India\", \"Mexico\", \"United States\", \"United States\", \"Zimbabwe\", \"United States\", \"United States\", \"United States\", \"United States\", \"Canada\", \"United States\", \"United States\", \"United States\", \"United States\", \"United States\", \"Netherlands\", \"United States\", \"Canada\", \"United States\", \"United States\", \"Nigeria\", \"Brazil\", \"Australia\", \"United States\", \"United States\", \"United States\", \"United States\", \"United States\", \"United States\", \"South Korea\", \"United Kingdom\", \"Indonesia\", \"Philippines\", \"United Kingdom\", \"United States\", \"Nigeria\", \"Nigeria\", \"United Kingdom\", \"India\", \"United States\", \"Argentina\", \"United States\", \"United States\", \"United Kingdom\", \"India\", \"Mexico\", \"Mexico\", \"France\", \"United States\", \"United States\", \"Germany\", \"Spain\", \"United Kingdom\", \"United States\", \"United States\", \"United States\", \"Malaysia\", \"Taiwan\", \"China\", \"United States\", \"United Kingdom\", \"Philippines\", \"United States\", \"United States\", \"Canada\", \"Italy\", \"United Kingdom\", \"Hungary\", \"United States\", \"United States\", \"France\", \"Japan\", \"Japan\", \"India\", \"United States\", \"United States\", \"United States\", \"United States\", \"Turkey\", \"Turkey\", \"United States\", \"Australia\", \"India\", \"Turkey\", \"Turkey\", \"Turkey\", \"United States\", \"Mexico\", \"United Kingdom\", \"United States\", \"United States\", \"Argentina\", \"India\", \"United States\", \"United States\", \"United States\", \"United States\", \"United States\", \"Australia\", \"Germany\", \"United States\", \"United States\", \"United States\", \"Germany\", \"United States\", \"Mexico\", \"India\", \"United Kingdom\", \"United Kingdom\", \"United States\", \"United Kingdom\", \"United States\", \"Mexico\", \"Mexico\", \"United States\", \"United States\", \"Indonesia\", \"France\", \"United States\", \"United States\", \"Ireland\", \"Germany\", \"India\", \"United Kingdom\", \"Mexico\", \"Mexico\", \"United States\", \"Canada\", \"United States\", \"United States\", \"New Zealand\", \"Egypt\", \"India\", \"India\", \"India\", \"United States\", \"United States\", \"Brazil\", \"United States\", \"United Kingdom\", \"United States\", \"United States\", \"United States\", \"United States\", \"United States\", \"Sweden\", \"United Kingdom\", \"United States\", \"Canada\", \"United States\", \"United States\", \"United States\", \"China\", \"Bulgaria\", \"United States\", \"Taiwan\", \"United States\", \"United States\", \"United States\", \"Netherlands\", \"United States\", \"United Kingdom\", \"Philippines\", \"United Kingdom\", \"United States\", \"United States\", \"India\", \"United States\", \"United States\", \"Finland\", \"United States\", \"United States\", \"India\", \"United States\", \"Taiwan\", \"South Korea\", \"Canada\", \"United States\", \"India\", \"United States\", \"United States\", \"Colombia\", \"United States\", \"United States\", \"United States\", \"United States\", \"United States\", \"United Kingdom\", \"Turkey\", \"India\", \"Spain\", \"United States\", \"Australia\", \"India\", \"India\", \"United States\", \"United States\", \"United States\", \"Canada\", \"United States\", \"India\", \"India\", \"India\", \"Turkey\", \"Turkey\", \"United States\", \"United States\", \"United States\", \"United States\", \"Denmark\", \"United States\", \"United States\", \"United States\", \"United States\", \"United Kingdom\", \"United States\", \"United States\", \"United Kingdom\", \"United Kingdom\", \"United States\", \"United Kingdom\", \"United Kingdom\", \"United States\", \"South Korea\", \"Argentina\", \"United States\", \"United States\", \"United States\", \"Argentina\", \"Spain\", \"France\", \"Taiwan\", \"Egypt\", \"United Kingdom\", \"United States\", \"India\", \"United States\", \"Finland\", \"Canada\", \"Japan\", \"India\", \"India\", \"United States\", \"India\", \"United Kingdom\", \"India\", \"India\", \"India\", \"India\", \"Malaysia\", \"India\", \"India\", \"China\", \"Mexico\", \"United States\", \"United States\", \"China\", \"United States\", \"United Kingdom\", \"United Kingdom\", \"France\", \"United States\", \"United Kingdom\", \"South Africa\", \"Germany\", \"United States\", \"United States\", \"India\", \"India\", \"India\", \"India\", \"India\", \"India\", \"Indonesia\", \"Indonesia\", \"India\", \"United States\", \"United States\", \"United States\", \"Canada\", \"Japan\", \"United States\", \"United States\", \"United States\", \"United States\", \"Egypt\", \"Hong Kong\", \"United States\", \"India\", \"Kenya\", \"United States\", \"United States\", \"United States\", \"United States\", \"South Africa\", \"United States\", \"France\", \"Brazil\", \"United States\", \"France\", \"South Korea\", \"India\", \"India\", \"United Kingdom\", \"United States\", \"United States\", \"United States\", \"United States\", \"Germany\", \"United States\", \"Lebanon\", \"India\", \"United Kingdom\", \"United States\", \"United States\", \"United States\", \"United States\", \"Denmark\", \"India\", \"India\", \"United States\", \"United States\", \"United States\", \"France\", \"France\", \"France\", \"United Kingdom\", \"Hong Kong\", \"Hong Kong\", \"United Kingdom\", \"United Kingdom\", \"United States\", \"Spain\", \"United States\", \"United States\", \"United Kingdom\", \"United States\", \"United States\", \"India\", \"United States\", \"India\", \"Japan\", \"India\", \"Brazil\", \"United States\", \"China\", \"Hong Kong\", \"United States\", \"Russia\", \"United States\", \"United States\", \"United States\", \"United States\", \"France\", \"United States\", \"United Kingdom\", \"Japan\", \"Japan\", \"Hong Kong\", \"United States\", \"United States\", \"United States\", \"United States\", \"United States\", \"United States\", \"United States\", \"United States\", \"United States\", \"United States\", \"United States\", \"United States\", \"United States\", \"United States\", \"United States\", \"Germany\", \"United States\", \"United States\", \"United States\", \"United States\", \"United States\", \"United States\", \"United States\", \"United States\", \"United States\", \"United States\", \"Germany\", \"Japan\", \"Hong Kong\", \"India\", \"India\", \"United States\", \"United States\", \"United States\", \"Spain\", \"United States\", \"United States\", \"Chile\", \"Japan\", \"United States\", \"China\", \"United States\", \"United States\", \"Pakistan\", \"India\", \"United States\", \"United States\", \"India\", \"India\", \"Japan\", \"United States\", \"Spain\", \"United States\", \"United Kingdom\", \"United States\", \"France\", \"United States\", \"Brazil\", \"United Kingdom\", \"United States\", \"United Kingdom\", \"United States\", \"United States\", \"United States\", \"United States\", \"Taiwan\", \"United States\", \"India\", \"United States\", \"United Kingdom\", \"United States\", \"United States\", \"United States\", \"United States\", \"United States\", \"United Kingdom\", \"Argentina\", \"Brazil\", \"Italy\", \"India\", \"India\", \"Philippines\", \"United Kingdom\", \"Indonesia\", \"India\", \"France\", \"Egypt\", \"India\", \"India\", \"India\", \"India\", \"India\", \"India\", \"Turkey\", \"United States\", \"Spain\", \"United States\", \"United States\", \"Colombia\", \"Colombia\", \"Mexico\", \"Mexico\", \"Venezuela\", \"United States\", \"Spain\", \"Mexico\", \"United States\", \"Mexico\", \"Mexico\", \"Spain\", \"United States\", \"Argentina\", \"Argentina\", \"United States\", \"Chile\", \"United States\", \"Colombia\", \"Mexico\", \"Colombia\", \"United States\", \"United States\", \"Egypt\", \"India\", \"Brazil\", \"Netherlands\", \"Nigeria\", \"United States\", \"United States\", \"United States\", \"Spain\", \"Spain\", \"United Kingdom\", \"United States\", \"United States\", \"France\", \"United States\", \"United States\", \"Canada\", \"United Kingdom\", \"United States\", \"India\", \"Brazil\", \"United States\", \"United States\", \"Indonesia\", \"Australia\", \"United States\", \"Czech Republic\", \"Canada\", \"United States\", \"United States\", \"India\", \"United Kingdom\", \"United States\", \"United States\", \"United States\", \"Canada\", \"India\", \"India\", \"Germany\", \"United States\", \"United Kingdom\", \"South Korea\", \"Canada\", \"United States\", \"Hong Kong\", \"France\", \"United Kingdom\", \"United States\", \"United States\", \"United States\", \"Denmark\", \"Japan\", \"United States\", \"United States\", \"Spain\", \"United States\", \"Poland\", \"Egypt\", \"United States\", \"Argentina\", \"Mexico\", \"China\", \"India\", \"Turkey\", \"Egypt\", \"Italy\", \"United States\", \"United States\", \"United States\", \"Japan\", \"Spain\", \"United Kingdom\", \"Spain\", \"India\", \"United Kingdom\", \"Canada\", \"United States\", \"Spain\", \"Philippines\", \"United Kingdom\", \"Philippines\", \"United States\", \"United States\", \"United States\", \"United States\", \"India\", \"United Kingdom\", \"China\", \"Spain\", \"United States\", \"United States\", \"Philippines\", \"United States\", \"Norway\", \"United States\", \"United States\", \"United States\", \"Germany\", \"Japan\", \"United States\", \"United States\", \"United States\", \"United States\", \"South Korea\", \"United Kingdom\", \"United States\", \"United States\", \"United States\", \"Spain\", \"Turkey\", \"Turkey\", \"Turkey\", \"Turkey\", \"United States\", \"United States\", \"United States\", \"United States\", \"Chile\", \"India\", \"United States\", \"France\", \"Japan\", \"United States\", \"United Kingdom\", \"Singapore\", \"India\", \"United States\", \"Taiwan\", \"United States\", \"Sweden\", \"United States\", \"Mexico\", \"United States\", \"South Korea\", \"Germany\", \"United States\", \"France\", \"United States\", \"India\", \"United Arab Emirates\", \"United States\", \"Poland\", \"India\", \"Canada\", \"Philippines\", \"Australia\", \"Egypt\", \"Russia\", \"France\", \"France\", \"India\", \"United States\", \"United States\", \"United States\", \"United States\", \"United States\", \"Japan\", \"Japan\", \"Japan\", \"Japan\", \"Japan\", \"United Kingdom\", \"United States\", \"United States\", \"India\", \"Israel\", \"United States\", \"United States\", \"India\", \"Canada\", \"United Kingdom\", \"United States\", \"United States\", \"United States\", \"United States\", \"Brazil\", \"Germany\", \"United States\", \"Colombia\", \"Argentina\", \"India\", \"United States\", \"India\", \"United States\", \"Poland\", \"Nigeria\", \"United States\", \"Nigeria\", \"United Kingdom\", \"United States\", \"United States\", \"Turkey\", \"United States\", \"Indonesia\", \"United States\", \"United States\", \"United States\", \"Japan\", \"Philippines\", \"United States\", \"Philippines\", \"Italy\", \"United States\", \"United States\", \"India\", \"India\", \"India\", \"United Kingdom\", \"United States\", \"United States\", \"Japan\", \"United States\", \"United States\", \"United Kingdom\", \"Netherlands\", \"Philippines\", \"United States\", \"United States\", \"Cambodia\", \"United Kingdom\", \"United Kingdom\", \"United States\", \"United States\", \"Brazil\", \"United States\", \"India\", \"United Arab Emirates\", \"United States\", \"Hong Kong\", \"United States\", \"United States\", \"India\", \"United States\", \"Canada\", \"China\", \"China\", \"Egypt\", \"United Kingdom\", \"United States\", \"United States\", \"United States\", \"South Korea\", \"United Kingdom\", \"Hong Kong\", \"United Arab Emirates\", \"United States\", \"Japan\", \"Argentina\", \"Japan\", \"United States\", \"United States\", \"Spain\", \"United States\", \"United States\", \"Mexico\", \"United States\", \"United Kingdom\", \"United States\", \"Philippines\", \"United States\", \"Canada\", \"United States\", \"Spain\", \"United Kingdom\", \"United States\", \"India\", \"United Kingdom\", \"India\", \"United States\", \"Japan\", \"Brazil\", \"United Kingdom\", \"United States\", \"United Kingdom\", \"Italy\", \"South Korea\", \"United States\", \"United Kingdom\", \"United States\", \"Germany\", \"Spain\", \"Philippines\", \"United Kingdom\", \"United States\", \"United States\", \"United States\", \"United States\", \"Italy\", \"Mexico\", \"Mexico\", \"United States\", \"United States\", \"Germany\", \"United States\", \"United States\", \"United States\", \"United States\", \"United States\", \"Germany\", \"United States\", \"United States\", \"United Kingdom\", \"United States\", \"United States\", \"United States\", \"United States\", \"United States\", \"United States\", \"United Arab Emirates\", \"United States\", \"Egypt\", \"United States\", \"South Africa\", \"United States\", \"United States\", \"Austria\", \"United States\", \"United States\", \"Germany\", \"United States\", \"United States\", \"India\", \"United Arab Emirates\", \"United States\", \"Egypt\", \"United States\", \"France\", \"United States\", \"United States\", \"Canada\", \"United Kingdom\", \"United Kingdom\", \"United Kingdom\", \"United States\", \"United States\", \"Spain\", \"India\", \"United States\", \"India\", \"United States\", \"Canada\", \"United States\", \"United States\", \"Japan\", \"Japan\", \"United States\", \"France\", \"United States\", \"Canada\", \"Vietnam\", \"United States\", \"United States\", \"United States\", \"Italy\", \"United States\", \"Turkey\", \"Turkey\", \"India\", \"United States\", \"United States\", \"Brazil\", \"United States\", \"India\", \"United States\", \"France\", \"India\", \"United States\", \"Russia\", \"United States\", \"Indonesia\", \"India\", \"United States\", \"Egypt\", \"United States\", \"India\", \"United States\", \"United States\", \"Taiwan\", \"United States\", \"France\", \"India\", \"India\", \"United States\", \"Japan\", \"India\", \"Kenya\", \"United States\", \"United States\", \"South Korea\", \"United States\", \"Japan\", \"United States\", \"Indonesia\", \"Indonesia\", \"Taiwan\", \"Nigeria\", \"Japan\", \"India\", \"India\", \"United States\", \"United States\", \"United States\", \"United States\", \"India\", \"United Kingdom\", \"United Kingdom\", \"United States\", \"Sweden\", \"United States\", \"United States\", \"United States\", \"Italy\", \"United Kingdom\", \"United States\", \"France\", \"United States\", \"United States\", \"United Kingdom\", \"United States\", \"United States\", \"Spain\", \"United States\", \"Lebanon\", \"India\", \"India\", \"Thailand\", \"Japan\", \"United States\", \"Japan\", \"Canada\", \"United States\", \"India\", \"Japan\", \"United States\", \"Japan\", \"United States\", \"United Kingdom\", \"India\", \"India\", \"Indonesia\", \"United States\", \"United States\", \"United States\", \"United States\", \"United States\", \"France\", \"United States\", \"United Kingdom\", \"United Kingdom\", \"India\", \"United Kingdom\", \"Netherlands\", \"Thailand\", \"United States\", \"Philippines\", \"Taiwan\", \"United States\", \"United States\", \"United States\", \"United States\", \"India\", \"United States\", \"Japan\", \"Japan\", \"France\", \"United States\", \"United States\", \"Australia\", \"United States\", \"Japan\", \"Japan\", \"United States\", \"United Kingdom\", \"United States\", \"United States\", \"United Kingdom\", \"Australia\", \"United States\", \"United States\", \"Argentina\", \"Argentina\", \"United States\", \"Japan\", \"United States\", \"China\", \"United States\", \"United States\", \"United Kingdom\", \"United States\", \"Japan\", \"Japan\", \"Japan\", \"South Korea\", \"Australia\", \"India\", \"Japan\", \"United Kingdom\", \"United States\", \"United States\", \"Australia\", \"India\", \"India\", \"India\", \"Italy\", \"United States\", \"Turkey\", \"Egypt\", \"United States\", \"Turkey\", \"United States\", \"United States\", \"United States\", \"United States\", \"United States\", \"Egypt\", \"United States\", \"Japan\", \"Brazil\", \"United States\", \"United States\", \"United States\", \"United States\", \"United States\", \"South Korea\", \"United States\", \"United States\", \"United States\", \"United States\", \"Canada\", \"Canada\", \"United States\", \"India\", \"Spain\", \"United States\", \"United States\", \"United States\", \"United States\", \"India\", \"Philippines\", \"United States\", \"South Korea\", \"Germany\", \"Japan\", \"United States\", \"United Kingdom\", \"Spain\", \"India\", \"United States\", \"India\", \"United Arab Emirates\", \"United Arab Emirates\", \"United States\", \"United States\", \"United States\", \"United Kingdom\", \"United States\", \"Japan\", \"United Kingdom\", \"United States\", \"United Kingdom\", \"Taiwan\", \"United Kingdom\", \"Colombia\", \"United States\", \"Nigeria\", \"United States\", \"United States\", \"United Kingdom\", \"Argentina\", \"United States\", \"Canada\", \"Italy\", \"United States\", \"Canada\", \"France\", \"United States\", \"United States\", \"Uruguay\", \"United States\", \"Argentina\", \"India\", \"India\", \"Spain\", \"Canada\", \"India\", \"India\", \"Japan\", \"India\", \"Japan\", \"India\", \"United States\", \"United Kingdom\", \"India\", \"United States\", \"France\", \"Chile\", \"Turkey\", \"Turkey\", \"Australia\", \"Germany\", \"United States\", \"India\", \"India\", \"Indonesia\", \"Spain\", \"Turkey\", \"India\", \"Japan\", \"United States\", \"United States\", \"United Arab Emirates\", \"United Arab Emirates\", \"Nigeria\", \"United States\", \"India\", \"India\", \"United States\", \"United States\", \"United States\", \"India\", \"United States\", \"India\", \"Egypt\", \"Ireland\", \"China\", \"United States\", \"United States\", \"United States\", \"United States\", \"Australia\", \"Australia\", \"United States\", \"United States\", \"Netherlands\", \"United Kingdom\", \"Malaysia\", \"United States\", \"Taiwan\", \"South Korea\", \"United States\", \"Italy\", \"India\", \"United States\", \"United States\", \"India\", \"Thailand\", \"Mexico\", \"United Kingdom\", \"United States\", \"United States\", \"India\", \"India\", \"United States\", \"United States\", \"United Kingdom\", \"Russia\", \"Ireland\", \"United States\", \"India\", \"United States\", \"United States\", \"United States\", \"United States\", \"United States\", \"United Kingdom\", \"United States\", \"Malaysia\", \"United States\", \"United States\", \"United States\", \"India\", \"United States\", \"United States\", \"India\", \"India\", \"Israel\", \"India\", \"Mexico\", \"United States\", \"United States\", \"Indonesia\", \"India\", \"United States\", \"United States\", \"United States\", \"United States\", \"United States\", \"United States\", \"Australia\", \"Canada\", \"United States\", \"India\", \"Turkey\", \"Ireland\", \"India\", \"Germany\", \"France\", \"United States\", \"Canada\", \"United States\", \"United States\", \"Australia\", \"Indonesia\", \"United States\", \"France\", \"United States\", \"United States\", \"Australia\", \"United States\", \"Canada\", \"United States\", \"Lebanon\", \"South Korea\", \"Canada\", \"United States\", \"France\", \"Argentina\", \"Hong Kong\", \"United States\", \"United States\", \"Canada\", \"United States\", \"United States\", \"India\", \"United States\", \"Philippines\", \"South Korea\", \"United States\", \"United States\", \"Philippines\", \"United States\", \"United States\", \"Colombia\", \"United States\", \"India\", \"United States\", \"China\", \"Lebanon\", \"Hong Kong\", \"United States\", \"Spain\", \"United States\", \"India\", \"Denmark\", \"United States\", \"South Korea\", \"Japan\", \"Japan\", \"United States\", \"United States\", \"South Korea\", \"Egypt\", \"India\", \"China\", \"Japan\", \"Japan\", \"Japan\", \"Japan\", \"United States\", \"India\", \"United States\", \"United States\", \"United States\", \"Spain\", \"South Korea\", \"Romania\", \"Thailand\", \"Australia\", \"India\", \"Canada\", \"United States\", \"Japan\", \"United Kingdom\", \"United States\", \"India\", \"United Kingdom\", \"Canada\", \"United Kingdom\", \"United Kingdom\", \"India\", \"Argentina\", \"United States\", \"United Kingdom\", \"India\", \"United States\", \"Australia\", \"United States\", \"United States\", \"West Germany\", \"United Kingdom\", \"United Kingdom\", \"France\", \"Denmark\", \"Pakistan\", \"United States\", \"United Kingdom\", \"United States\", \"Turkey\", \"United States\", \"Australia\", \"South Africa\", \"United States\", \"United States\", \"United States\", \"United States\", \"Germany\", \"United States\", \"United States\", \"United States\", \"Spain\", \"United States\", \"Spain\", \"United States\", \"Thailand\", \"Thailand\", \"India\", \"Norway\", \"United States\", \"United States\", \"United States\", \"United States\", \"United States\", \"Chile\", \"Canada\", \"United States\", \"United States\", \"India\", \"United Kingdom\", \"Hong Kong\", \"United States\", \"United States\", \"United States\", \"United States\", \"India\", \"Thailand\", \"United States\", \"United States\", \"Thailand\", \"United States\", \"United Kingdom\", \"United Kingdom\", \"United Kingdom\", \"India\", \"United States\", \"South Korea\", \"Ireland\", \"United States\", \"United States\", \"United States\", \"United States\", \"Japan\", \"United States\", \"United States\", \"United Kingdom\", \"United States\", \"Turkey\", \"Belgium\", \"Germany\", \"Poland\", \"United States\", \"United States\", \"India\", \"United States\", \"United States\", \"United States\", \"United States\", \"Slovenia\", \"United States\", \"United States\", \"United States\", \"United States\", \"Mexico\", \"United States\", \"Canada\", \"United States\", \"United States\", \"Peru\", \"United States\", \"United States\", \"South Africa\", \"Germany\", \"United Kingdom\", \"United States\", \"United States\", \"United Kingdom\", \"India\", \"United States\", \"United States\", \"United Kingdom\", \"United States\", \"India\", \"India\", \"United States\", \"India\", \"India\", \"Pakistan\", \"United Kingdom\", \"New Zealand\", \"Canada\", \"Indonesia\", \"Japan\", \"United States\", \"India\", \"United Kingdom\", \"United States\", \"United States\", \"United States\", \"India\", \"United States\", \"United States\", \"South Korea\", \"South Korea\", \"United States\", \"United States\", \"United States\", \"Argentina\", \"India\", \"United Kingdom\", \"United Kingdom\", \"United Kingdom\", \"United States\", \"United States\", \"France\", \"India\", \"United States\", \"Mexico\", \"United States\", \"Australia\", \"France\", \"China\", \"United States\", \"Switzerland\", \"China\", \"Canada\", \"United Kingdom\", \"United Kingdom\", \"Australia\", \"United States\", \"Sweden\", \"United States\", \"United States\", \"United States\", \"Thailand\", \"India\", \"United States\", \"United States\", \"France\", \"Spain\", \"United States\", \"United States\", \"United Kingdom\", \"United States\", \"United States\", \"United States\", \"United States\", \"United States\", \"Mexico\", \"United States\", \"United States\", \"United States\", \"South Korea\", \"United States\", \"United Kingdom\", \"United States\", \"China\", \"Canada\", \"China\", \"Japan\", \"India\", \"United States\", \"United States\", \"Spain\", \"United States\", \"United States\", \"India\", \"United States\", \"United States\", \"United States\", \"United States\", \"United States\", \"South Korea\", \"United States\", \"India\", \"United States\", \"France\", \"South Korea\", \"Turkey\", \"Singapore\", \"United States\", \"United States\", \"United States\", \"Taiwan\", \"United Kingdom\", \"United States\", \"Spain\", \"Thailand\", \"United States\", \"Nigeria\", \"United States\", \"Kuwait\", \"United States\", \"Kuwait\", \"United States\", \"United Kingdom\", \"France\", \"United States\", \"Canada\", \"Japan\", \"Taiwan\", \"United States\", \"United States\", \"Turkey\", \"Serbia\", \"India\", \"United Kingdom\", \"United States\", \"United States\", \"India\", \"United Kingdom\", \"Canada\", \"United States\", \"United States\", \"United States\", \"United States\", \"United States\", \"United States\", \"United States\", \"United Kingdom\", \"Germany\", \"Mexico\", \"Japan\", \"South Korea\", \"Thailand\", \"France\", \"China\", \"United States\", \"India\", \"Germany\", \"India\", \"Turkey\", \"India\", \"United States\", \"United States\", \"United States\", \"United States\", \"United Kingdom\", \"United States\", \"Israel\", \"United States\", \"United Kingdom\", \"United States\", \"Canada\", \"United Kingdom\", \"Australia\", \"Mexico\", \"Canada\", \"United Kingdom\", \"United States\", \"India\", \"Turkey\", \"United States\", \"United States\", \"Canada\", \"United Kingdom\", \"Belgium\", \"United States\", \"Argentina\", \"Japan\", \"Japan\", \"Japan\", \"Japan\", \"Japan\", \"South Korea\", \"United States\", \"Argentina\", \"Canada\", \"South Africa\", \"United States\", \"Hong Kong\", \"Hong Kong\", \"China\", \"Hong Kong\", \"India\", \"India\", \"South Korea\", \"United States\", \"Australia\", \"Taiwan\", \"United States\", \"Canada\", \"Finland\", \"United States\", \"Japan\", \"India\", \"Philippines\", \"India\", \"India\", \"India\", \"Germany\", \"Indonesia\", \"United Kingdom\", \"Nigeria\", \"South Korea\", \"India\", \"United States\", \"United States\", \"Philippines\", \"United States\", \"United States\", \"United States\", \"Nigeria\", \"Spain\", \"South Korea\", \"Egypt\", \"South Korea\", \"India\", \"United States\", \"Nigeria\", \"United States\", \"Australia\", \"United States\", \"Taiwan\", \"India\", \"India\", \"India\", \"India\", \"India\", \"France\", \"Canada\", \"United States\", \"United Kingdom\", \"United Kingdom\", \"United Kingdom\", \"United Kingdom\", \"United States\", \"United Kingdom\", \"Vietnam\", \"United States\", \"India\", \"Sweden\", \"Malaysia\", \"India\", \"India\", \"India\", \"United States\", \"Cambodia\", \"United States\", \"India\", \"India\", \"United Kingdom\", \"India\", \"Pakistan\", \"United Kingdom\", \"United States\", \"Chile\", \"India\", \"Japan\", \"Japan\", \"Israel\", \"India\", \"India\", \"United States\", \"Poland\", \"Spain\", \"United States\", \"United States\", \"United States\", \"United States\", \"United States\", \"United States\", \"United States\", \"United States\", \"United States\", \"United States\", \"United States\", \"United States\", \"United States\", \"United States\", \"United States\", \"United States\", \"United States\", \"Mexico\", \"United States\", \"United States\", \"United States\", \"United States\", \"United States\", \"United States\", \"United States\", \"United States\", \"Ireland\", \"United States\", \"United States\", \"United Kingdom\", \"India\", \"India\", \"Canada\", \"United States\", \"United States\", \"United States\", \"United States\", \"United States\", \"United States\", \"United States\", \"United States\", \"United States\", \"United States\", \"United States\", \"United Kingdom\", \"United States\", \"United States\", \"Japan\", \"India\", \"United States\", \"Russia\", \"Jordan\", \"United States\", \"United States\", \"United States\", \"United States\", \"United States\", \"United States\", \"South Korea\", \"United States\", \"United States\", \"United States\", \"India\", \"United Kingdom\", \"United States\", \"United States\", \"United States\", \"India\", \"United Kingdom\", \"United States\", \"India\", \"United States\", \"United States\", \"United States\", \"United States\", \"United States\", \"United States\", \"United States\", \"United States\", \"United States\", \"Japan\", \"Taiwan\", \"India\", \"India\", \"Brazil\", \"United States\", \"United Kingdom\", \"India\", \"United States\", \"United States\", \"United States\", \"France\", \"Austria\", \"Japan\", \"Chile\", \"Mexico\", \"United States\", \"United States\", \"United States\", \"India\", \"India\", \"India\", \"United States\", \"United States\", \"United States\", \"United States\", \"United States\", \"United States\", \"Kuwait\", \"South Korea\", \"United States\", \"United States\", \"United States\", \"United States\", \"Brazil\", \"Denmark\", \"Germany\", \"Argentina\", \"Philippines\", \"Taiwan\", \"United States\", \"United States\", \"Hong Kong\", \"United States\", \"United States\", \"Canada\", \"United States\", \"United States\", \"Japan\", \"United Kingdom\", \"Japan\", \"Japan\", \"South Korea\", \"United States\", \"Taiwan\", \"Turkey\", \"Turkey\", \"India\", \"India\", \"India\", \"India\", \"India\", \"India\", \"India\", \"India\", \"India\", \"Japan\", \"India\", \"India\", \"India\", \"India\", \"India\", \"India\", \"United States\", \"India\", \"India\", \"United States\", \"India\", \"India\", \"United Kingdom\", \"United Arab Emirates\", \"Philippines\", \"India\", \"South Africa\", \"India\", \"India\", \"South Africa\", \"India\", \"India\", \"Japan\", \"India\", \"India\", \"Turkey\", \"Brazil\", \"Egypt\", \"United States\", \"India\", \"Indonesia\", \"India\", \"Nigeria\", \"United States\", \"United States\", \"Australia\", \"Australia\", \"India\", \"United States\", \"United Kingdom\", \"United States\", \"United States\", \"United States\", \"United States\", \"United States\", \"United States\", \"India\", \"United States\", \"India\", \"India\", \"Australia\", \"India\", \"United States\", \"United States\", \"United States\", \"United States\", \"United States\", \"United States\", \"United States\", \"India\", \"United States\", \"United States\", \"United States\", \"United States\", \"United States\", \"United States\", \"United States\", \"United States\", \"United States\", \"United States\", \"United States\", \"United States\", \"Pakistan\", \"India\", \"India\", \"India\", \"India\", \"India\", \"India\", \"India\", \"India\", \"India\", \"India\", \"India\", \"China\", \"United States\", \"United States\", \"United States\", \"United States\", \"Philippines\", \"Russia\", \"Netherlands\", \"Germany\", \"Turkey\", \"United States\", \"United States\", \"United States\", \"United Kingdom\", \"France\", \"Japan\", \"Turkey\", \"United States\", \"United States\", \"United States\", \"India\", \"United States\", \"United States\", \"United States\", \"United States\", \"United Kingdom\", \"United States\", \"United States\", \"United States\", \"Hungary\", \"United Kingdom\", \"Canada\", \"United States\", \"Nigeria\", \"China\", \"United States\", \"China\", \"United States\", \"United Kingdom\", \"United States\", \"United States\", \"France\", \"South Africa\", \"United States\", \"India\", \"India\", \"India\", \"Canada\", \"United Kingdom\", \"United States\", \"United States\", \"United States\", \"Brazil\", \"Philippines\", \"United Kingdom\", \"Malaysia\", \"Spain\", \"United States\", \"Japan\", \"United States\", \"United States\", \"United States\", \"United States\", \"Taiwan\", \"United States\", \"Turkey\", \"Turkey\", \"Canada\", \"India\", \"United Kingdom\", \"India\", \"Bangladesh\", \"United States\", \"United Kingdom\", \"United States\", \"United States\", \"Malaysia\", \"United States\", \"India\", \"Norway\", \"United States\", \"United States\", \"United States\", \"United States\", \"India\", \"United States\", \"United States\", \"United States\", \"United States\", \"India\", \"United States\", \"India\", \"United States\", \"India\", \"United States\", \"India\", \"India\", \"India\", \"United States\", \"United States\", \"Hong Kong\", \"Mexico\", \"United States\", \"United States\", \"China\", \"Indonesia\", \"United States\", \"India\", \"Japan\", \"Japan\", \"United Kingdom\", \"Turkey\", \"Turkey\", \"India\", \"India\", \"India\", \"United States\", \"India\", \"India\", \"United States\", \"United States\", \"Argentina\", \"United States\", \"United States\", \"Spain\", \"Italy\", \"United States\", \"Colombia\", \"United States\", \"United States\", \"United States\", \"Taiwan\", \"Spain\", \"Mexico\", \"France\", \"Colombia\", \"United States\", \"Mexico\", \"France\", \"Mexico\", \"Taiwan\", \"Mexico\", \"Colombia\", \"India\", \"India\", \"Thailand\", \"India\", \"India\", \"United States\", \"Hong Kong\", \"United States\", \"United States\", \"United States\", \"France\", \"United States\", \"Colombia\", \"Brazil\", \"India\", \"United States\", \"India\", \"India\", \"India\", \"India\", \"United Kingdom\", \"Singapore\", \"Nigeria\", \"United States\", \"United States\", \"United States\", \"Russia\", \"United States\", \"Colombia\", \"South Korea\", \"United Kingdom\", \"United States\", \"United States\", \"Nigeria\", \"Japan\", \"United Kingdom\", \"United States\", \"United Kingdom\", \"United States\", \"Germany\", \"United States\", \"Taiwan\", \"United States\", \"United States\", \"United Kingdom\", \"Netherlands\", \"France\", \"France\", \"United States\", \"United States\", \"United States\", \"France\", \"United States\", \"United States\", \"United States\", \"United States\", \"United States\", \"United Kingdom\", \"India\", \"United States\", \"United States\", \"United States\", \"United Kingdom\", \"United States\", \"China\", \"Mexico\", \"Mexico\", \"Hong Kong\", \"United States\", \"United States\", \"United States\", \"United States\", \"United States\", \"United States\", \"United States\", \"Denmark\", \"Denmark\", \"United States\", \"United States\", \"United States\", \"United States\", \"United States\", \"United States\", \"United States\", \"Canada\", \"Denmark\", \"Denmark\", \"United States\", \"United States\", \"India\", \"United States\", \"United States\", \"India\", \"United States\", \"United States\", \"France\", \"United Kingdom\", \"United States\", \"United States\", \"United States\", \"United States\", \"United States\", \"Egypt\", \"Malaysia\", \"South Korea\", \"Japan\", \"Turkey\", \"Turkey\", \"United States\", \"United States\", \"India\", \"United States\", \"Canada\", \"South Africa\", \"South Korea\", \"United States\", \"United States\", \"India\", \"United States\", \"India\", \"India\", \"United States\", \"Sweden\", \"Taiwan\", \"United States\", \"United Kingdom\", \"Egypt\", \"Canada\", \"Hong Kong\", \"Nigeria\", \"United States\", \"United States\", \"Mexico\", \"United States\", \"United States\", \"India\", \"Norway\", \"India\", \"United Kingdom\", \"United States\", \"China\", \"United States\", \"Taiwan\", \"Egypt\", \"Nigeria\", \"Brazil\", \"Lebanon\", \"United States\", \"United States\", \"United Kingdom\", \"United States\", \"Hong Kong\", \"United States\", \"Australia\", \"Australia\", \"Australia\", \"United States\", \"United Kingdom\", \"United States\", \"United States\", \"India\", \"United States\", \"United States\", \"United States\", \"United States\", \"United States\", \"United States\", \"United States\", \"United States\", \"India\", \"Japan\", \"United States\", \"United States\", \"South Korea\", \"Spain\", \"South Korea\", \"Nigeria\", \"United States\", \"United States\", \"United States\", \"United States\", \"United States\", \"Mexico\", \"Spain\", \"Mexico\", \"United Kingdom\", \"India\", \"United States\", \"United Kingdom\", \"United Kingdom\", \"Canada\", \"Turkey\", \"Spain\", \"France\", \"Mexico\", \"Russia\", \"India\", \"United States\", \"Philippines\", \"South Korea\", \"United Kingdom\", \"Germany\", \"United Kingdom\", \"United States\", \"United Kingdom\", \"United States\", \"Canada\", \"United States\", \"United States\", \"Hong Kong\", \"Hong Kong\", \"Germany\", \"India\", \"Mexico\", \"United States\", \"Mexico\", \"United States\", \"Colombia\", \"United States\", \"United States\", \"United States\", \"Canada\", \"France\", \"Canada\", \"United States\", \"Nigeria\", \"United States\", \"Japan\", \"United States\", \"United States\", \"United States\", \"United States\", \"United States\", \"Taiwan\", \"Sweden\", \"Turkey\", \"India\", \"South Korea\", \"Japan\", \"Japan\", \"India\", \"Taiwan\", \"United States\", \"Taiwan\", \"Taiwan\", \"United States\", \"Taiwan\", \"Indonesia\", \"Indonesia\", \"South Korea\", \"Hong Kong\", \"Romania\", \"United States\", \"United Kingdom\", \"Nigeria\", \"Canada\", \"United States\", \"Indonesia\", \"Turkey\", \"Taiwan\", \"India\", \"Taiwan\", \"China\", \"China\", \"Hong Kong\", \"Australia\", \"India\", \"South Korea\", \"United States\", \"United States\", \"Egypt\", \"United States\", \"United Kingdom\", \"Philippines\", \"Indonesia\", \"United Kingdom\", \"Japan\", \"United States\", \"United States\", \"Germany\", \"Turkey\", \"Brazil\", \"United States\", \"United States\", \"South Korea\", \"United States\", \"United Kingdom\", \"United States\", \"Colombia\", \"Hong Kong\", \"India\", \"Japan\", \"United States\", \"Brazil\", \"United States\", \"Brazil\", \"Brazil\", \"Argentina\", \"Argentina\", \"South Korea\", \"United States\", \"India\", \"India\", \"India\", \"China\", \"India\", \"India\", \"Brazil\", \"Mexico\", \"India\", \"Italy\", \"United States\", \"Canada\", \"Australia\", \"China\", \"United States\", \"Japan\", \"India\", \"Argentina\", \"India\", \"India\", \"United States\", \"India\", \"United States\", \"United States\", \"India\", \"United States\", \"India\", \"United States\", \"Mexico\", \"Australia\", \"United States\", \"United States\", \"United States\", \"Hong Kong\", \"India\", \"United States\", \"United States\", \"United States\", \"India\", \"United States\", \"India\", \"India\", \"Chile\", \"Italy\", \"Japan\", \"Japan\", \"United States\", \"South Korea\", \"France\", \"Uruguay\", \"France\", \"India\", \"United States\", \"Norway\", \"India\", \"United States\", \"India\", \"India\", \"United Kingdom\", \"India\", \"Hong Kong\", \"Turkey\", \"Japan\", \"India\", \"India\", \"India\", \"India\", \"India\", \"United States\", \"United States\", \"United States\", \"Germany\", \"Australia\", \"Israel\", \"India\", \"India\", \"India\", \"Argentina\", \"United Kingdom\", \"United States\", \"United States\", \"United States\", \"United States\", \"India\", \"Egypt\", \"United Kingdom\", \"United Kingdom\", \"United States\", \"South Korea\", \"United Kingdom\", \"United States\", \"United States\", \"India\", \"India\", \"United States\", \"United States\", \"United States\", \"China\", \"United States\", \"United States\", \"India\", \"India\", \"United States\", \"India\", \"India\", \"United Kingdom\", \"India\", \"India\", \"United Kingdom\", \"United States\", \"India\", \"India\", \"India\", \"India\", \"India\", \"Canada\", \"Spain\", \"United Kingdom\", \"Argentina\", \"Canada\", \"United States\", \"United States\", \"United States\", \"United Kingdom\", \"Japan\", \"United States\", \"Brazil\", \"United States\", \"United States\", \"Philippines\", \"United States\", \"United States\", \"United States\", \"France\", \"United States\", \"United States\", \"United States\", \"United States\", \"United States\", \"India\", \"India\", \"United Kingdom\", \"United States\", \"United States\", \"France\", \"Hong Kong\", \"United States\", \"United States\", \"Canada\", \"India\", \"United States\", \"United States\", \"Japan\", \"United States\", \"United States\", \"United States\", \"United States\", \"United States\", \"United States\", \"United States\", \"United States\", \"United States\", \"United States\", \"Japan\", \"India\", \"United States\", \"United Kingdom\", \"India\", \"Saudi Arabia\", \"Saudi Arabia\", \"United States\", \"Russia\", \"United States\", \"United States\", \"India\", \"India\", \"South Korea\", \"United States\", \"Hong Kong\", \"United States\", \"Argentina\", \"South Africa\", \"India\", \"Mexico\", \"India\", \"Brazil\", \"United States\", \"Indonesia\", \"Hong Kong\", \"Egypt\", \"United States\", \"France\", \"China\", \"United States\", \"United States\", \"India\", \"Mexico\", \"Mexico\", \"Canada\", \"United States\", \"United States\", \"United States\", \"United States\", \"United States\", \"Italy\", \"Canada\", \"Poland\", \"United Kingdom\", \"Nigeria\", \"United Kingdom\", \"United Kingdom\", \"Japan\", \"Australia\", \"India\", \"India\", \"India\", \"United States\", \"United States\", \"South Korea\", \"Argentina\", \"South Korea\", \"Germany\", \"United States\", \"United States\", \"United States\", \"South Korea\", \"Saudi Arabia\", \"United States\", \"Canada\", \"Indonesia\", \"New Zealand\", \"France\", \"United States\", \"United States\", \"United States\", \"United States\", \"India\", \"India\", \"Spain\", \"United Kingdom\", \"United States\", \"Nigeria\", \"Nigeria\", \"India\", \"United Kingdom\", \"United States\", \"United States\", \"United States\", \"China\", \"India\", \"Mexico\", \"United States\", \"France\", \"Chile\", \"Argentina\", \"India\", \"United Kingdom\", \"Netherlands\", \"India\", \"United States\", \"United States\", \"Canada\", \"United Kingdom\", \"United States\", \"United States\", \"United States\", \"United States\", \"United States\", \"Canada\", \"Japan\", \"Japan\", \"India\", \"United States\", \"United States\", \"Canada\", \"United States\", \"India\", \"India\", \"India\", \"United States\", \"United States\", \"India\", \"United States\", \"United States\", \"United States\", \"United States\", \"United States\", \"United States\", \"Czech Republic\", \"United States\", \"Indonesia\", \"United States\", \"France\", \"United States\", \"Argentina\", \"United States\", \"United Kingdom\", \"Japan\", \"Singapore\", \"Austria\", \"United Kingdom\", \"United States\", \"United States\", \"United States\", \"United States\", \"France\", \"United States\", \"South Korea\", \"United States\", \"India\", \"United States\", \"Canada\", \"Turkey\", \"France\", \"Spain\", \"Japan\", \"United States\", \"United States\", \"India\", \"South Korea\", \"India\", \"Netherlands\", \"Netherlands\", \"India\", \"United States\", \"United States\", \"Mexico\", \"Japan\", \"Taiwan\", \"India\", \"Singapore\", \"Norway\", \"United States\", \"South Korea\", \"United States\", \"Taiwan\", \"United States\", \"United States\", \"United States\", \"United States\", \"United States\", \"India\", \"United Kingdom\", \"Malaysia\", \"United States\", \"United States\", \"United States\", \"United Kingdom\", \"Japan\", \"Japan\", \"Japan\", \"Japan\", \"United States\", \"India\", \"Egypt\", \"United States\", \"India\", \"United States\", \"Nigeria\", \"France\", \"China\", \"India\", \"South Korea\", \"Nigeria\", \"United States\", \"Mexico\", \"United States\", \"United States\", \"Spain\", \"United States\", \"Turkey\", \"United States\", \"United Kingdom\", \"Thailand\", \"Canada\", \"Egypt\", \"Germany\", \"United States\", \"United States\", \"United States\", \"United States\", \"United States\", \"United States\", \"United States\", \"United States\", \"United States\", \"United States\", \"United States\", \"United States\", \"United States\", \"United States\", \"United States\", \"India\", \"Canada\", \"United States\", \"United Kingdom\", \"Japan\", \"United Kingdom\", \"United Kingdom\", \"United Kingdom\", \"United Kingdom\", \"United States\", \"United Kingdom\", \"United Kingdom\", \"United States\", \"United Kingdom\", \"United Kingdom\", \"United Kingdom\", \"United Kingdom\", \"United Kingdom\", \"United Kingdom\", \"United States\", \"Argentina\", \"United Kingdom\", \"United States\", \"France\", \"Pakistan\", \"Egypt\", \"Netherlands\", \"Germany\", \"France\", \"United States\", \"India\", \"United States\", \"Israel\", \"Brazil\", \"Canada\", \"United States\", \"Japan\", \"United States\", \"India\", \"India\", \"Australia\", \"India\", \"Australia\", \"United States\", \"United States\", \"United States\", \"United States\", \"United Kingdom\", \"India\", \"United States\", \"United States\", \"Israel\", \"United States\", \"United States\", \"Mexico\", \"United States\", \"United States\", \"United States\", \"South Korea\", \"Hong Kong\", \"United States\", \"Canada\", \"India\", \"Egypt\", \"India\", \"Chile\", \"France\", \"United States\", \"Turkey\", \"United States\", \"United States\", \"India\", \"Chile\", \"India\", \"India\", \"Malaysia\", \"India\", \"India\", \"India\", \"India\", \"Malaysia\", \"India\", \"France\", \"United States\", \"India\", \"India\", \"India\", \"United Kingdom\", \"United States\", \"United States\", \"United States\", \"United States\", \"United States\", \"Taiwan\", \"India\", \"Philippines\", \"United States\", \"Spain\", \"United Kingdom\", \"Mexico\", \"United States\", \"India\", \"Philippines\", \"Canada\", \"Canada\", \"United Kingdom\", \"Spain\", \"India\", \"India\", \"South Korea\", \"United States\", \"Taiwan\", \"Thailand\", \"Egypt\", \"United States\", \"Philippines\", \"Canada\", \"South Korea\", \"India\", \"Germany\", \"United States\", \"Georgia\", \"United States\", \"Italy\", \"Egypt\", \"United Kingdom\", \"Japan\", \"Switzerland\", \"United States\", \"South Korea\", \"United States\", \"United States\", \"United States\", \"United States\", \"United States\", \"United States\", \"United States\", \"South Korea\", \"United States\", \"Taiwan\", \"United States\", \"United States\", \"South Africa\", \"South Korea\", \"United States\", \"United States\", \"Canada\", \"Canada\", \"United States\", \"South Korea\", \"South Korea\", \"Hong Kong\", \"United Kingdom\", \"South Korea\", \"South Korea\", \"United States\", \"Egypt\", \"Turkey\", \"Indonesia\", \"Indonesia\", \"United States\", \"United Kingdom\", \"United States\", \"Turkey\", \"Thailand\", \"Italy\", \"United Kingdom\", \"South Africa\", \"United States\", \"Brazil\", \"United States\", \"United States\", \"United States\", \"South Korea\", \"United States\", \"Singapore\", \"India\", \"France\", \"United Kingdom\", \"India\", \"India\", \"India\", \"United States\", \"United Kingdom\", \"Italy\", \"Japan\", \"United States\", \"France\", \"Germany\", \"United States\", \"Mexico\", \"Spain\", \"Ireland\", \"United States\", \"United States\", \"India\", \"India\", \"United States\", \"Thailand\", \"United States\", \"United States\", \"United States\", \"Mexico\", \"United States\", \"Japan\", \"Japan\", \"Japan\", \"Japan\", \"Japan\", \"Japan\", \"Japan\", \"Japan\", \"Japan\", \"India\", \"Uruguay\", \"Chile\", \"United States\", \"United States\", \"United States\", \"United States\", \"India\", \"United States\", \"United States\", \"United States\", \"United States\", \"India\", \"United States\", \"United States\", \"United Kingdom\", \"United States\", \"United States\", \"United States\", \"United States\", \"United Kingdom\", \"United Kingdom\", \"India\", \"United States\", \"United States\", \"United States\", \"China\", \"United States\", \"United States\", \"India\", \"India\", \"United States\", \"Japan\", \"Chile\", \"Turkey\", \"United States\", \"United States\", \"United States\", \"United States\", \"Nigeria\", \"United States\", \"United States\", \"United States\", \"United States\", \"India\", \"China\", \"United States\", \"India\", \"Puerto Rico\", \"United States\", \"United States\", \"United States\", \"Turkey\", \"United Kingdom\", \"United Kingdom\", \"United States\", \"United States\", \"United States\", \"South Korea\", \"United States\", \"United States\", \"United States\", \"India\", \"Nigeria\", \"Germany\", \"Japan\", \"Canada\", \"Japan\", \"Spain\", \"Turkey\", \"India\", \"United Kingdom\", \"India\", \"Chile\", \"Japan\", \"Japan\", \"United States\", \"Egypt\", \"India\", \"Mexico\", \"Philippines\", \"United States\", \"Argentina\", \"United States\", \"Norway\", \"India\", \"Chile\", \"Poland\", \"Netherlands\", \"Brazil\", \"United States\", \"France\", \"United States\", \"United States\", \"United States\", \"India\", \"United States\", \"United States\", \"Norway\", \"United Kingdom\", \"Canada\", \"United States\", \"Argentina\", \"United Kingdom\", \"France\", \"Brazil\", \"Brazil\", \"United States\", \"United States\", \"United States\", \"United States\", \"United States\", \"United States\", \"United States\", \"United States\", \"United States\", \"United States\", \"United States\", \"United States\", \"United States\", \"United States\", \"United States\", \"United States\", \"United States\", \"United States\", \"United States\", \"United States\", \"France\", \"United States\", \"United States\", \"United States\", \"United Kingdom\", \"Taiwan\", \"Germany\", \"United States\", \"United Kingdom\", \"Israel\", \"Italy\", \"Japan\", \"United States\", \"United Kingdom\", \"Denmark\", \"Denmark\", \"Brazil\", \"United States\", \"United Kingdom\", \"United States\", \"France\", \"Australia\", \"Norway\", \"United States\", \"United States\", \"United States\", \"Hong Kong\", \"United States\", \"United States\", \"United Kingdom\", \"United Kingdom\", \"United Kingdom\", \"United States\", \"United States\", \"India\", \"United States\", \"Spain\", \"Spain\", \"Taiwan\", \"United States\", \"Germany\", \"Australia\", \"France\", \"India\", \"South Korea\", \"Thailand\", \"Thailand\", \"United States\", \"India\", \"Canada\", \"Canada\", \"United States\", \"Romania\", \"India\", \"United States\", \"United States\", \"Nigeria\", \"Nigeria\", \"South Korea\", \"Japan\", \"United States\", \"Germany\", \"Brazil\", \"United States\", \"United States\", \"France\", \"Denmark\", \"United States\", \"India\", \"Egypt\", \"Egypt\", \"Brazil\", \"Hungary\", \"Taiwan\", \"United States\", \"Italy\", \"Nigeria\", \"Hong Kong\", \"Brazil\", \"India\", \"Hong Kong\", \"India\", \"United States\", \"United States\", \"United States\", \"United States\", \"United States\", \"United States\", \"United States\", \"United States\", \"Egypt\", \"China\", \"United Kingdom\", \"India\", \"India\", \"Italy\", \"India\", \"India\", \"Thailand\", \"United States\", \"Indonesia\", \"India\", \"United States\", \"India\", \"United States\", \"Canada\", \"United States\", \"United States\", \"South Korea\", \"Philippines\", \"India\", \"United States\", \"United States\", \"Japan\", \"South Korea\", \"United States\", \"Thailand\", \"Japan\", \"Turkey\", \"United States\", \"Denmark\", \"United States\", \"Australia\", \"United States\", \"United States\", \"Brazil\", \"United States\", \"South Korea\", \"United Kingdom\", \"China\", \"United States\", \"United Kingdom\", \"South Korea\", \"China\", \"United States\", \"Hong Kong\", \"United States\", \"United States\", \"Spain\", \"United States\", \"Philippines\", \"United States\", \"Turkey\", \"United States\", \"India\", \"France\", \"France\", \"United States\", \"United Kingdom\", \"Australia\", \"India\", \"India\", \"United Kingdom\", \"Canada\", \"United States\", \"Spain\", \"United States\", \"United Kingdom\", \"China\", \"United States\", \"Japan\", \"France\", \"United States\", \"United States\", \"Australia\", \"United States\", \"United States\", \"United Kingdom\", \"United Kingdom\", \"United States\", \"United States\", \"Germany\", \"China\", \"Turkey\", \"Thailand\", \"India\", \"United States\", \"United Kingdom\", \"India\", \"United States\", \"United States\", \"India\", \"United States\", \"India\", \"India\", \"United Kingdom\", \"Colombia\", \"Venezuela\", \"United States\", \"United States\", \"France\", \"Australia\", \"Peru\", \"India\", \"United States\", \"United States\", \"Philippines\", \"India\", \"India\", \"India\", \"Thailand\", \"United States\", \"United States\", \"Hong Kong\", \"United States\", \"United States\", \"Argentina\", \"United Kingdom\", \"Spain\", \"Mexico\", \"United States\", \"India\", \"South Korea\", \"United States\", \"India\", \"Lebanon\", \"Canada\", \"India\", \"Canada\", \"United States\", \"Spain\", \"France\", \"Brazil\", \"United States\", \"United States\", \"United Kingdom\", \"Egypt\", \"United States\", \"United States\", \"Canada\", \"United States\", \"Japan\", \"Spain\", \"India\", \"India\", \"Pakistan\", \"United States\", \"France\", \"South Korea\", \"United States\", \"India\", \"United Kingdom\", \"United States\", \"United States\", \"Colombia\", \"Malaysia\", \"United States\", \"United States\", \"United States\", \"India\", \"United States\", \"Mexico\", \"United Kingdom\", \"United States\", \"United States\", \"Turkey\", \"United States\", \"United States\", \"United States\", \"United States\", \"United Kingdom\", \"India\", \"United States\", \"Nigeria\", \"India\", \"India\", \"United Kingdom\", \"Lebanon\", \"Germany\", \"Thailand\", \"United States\", \"United States\", \"United States\", \"India\", \"China\", \"Turkey\", \"Malaysia\", \"India\", \"Colombia\", \"United Kingdom\", \"United States\", \"Ireland\", \"United Kingdom\", \"United States\", \"Hong Kong\", \"Uruguay\", \"Argentina\", \"Canada\", \"United States\", \"Germany\", \"United States\", \"United States\", \"South Korea\", \"France\", \"United States\", \"United States\", \"United States\", \"Germany\", \"India\", \"United States\", \"Germany\", \"United States\", \"India\", \"France\", \"United States\", \"India\", \"India\", \"India\", \"Thailand\", \"Nigeria\", \"India\", \"India\", \"United States\", \"Colombia\", \"Canada\", \"United States\", \"United States\", \"India\", \"United States\", \"India\", \"Australia\", \"United States\", \"India\", \"United States\", \"United States\", \"Pakistan\", \"United States\", \"United States\", \"India\", \"India\", \"Argentina\", \"France\", \"India\", \"France\", \"Spain\", \"United Kingdom\", \"United Kingdom\", \"United States\", \"France\", \"United States\", \"India\", \"United States\", \"United States\", \"Canada\", \"United States\", \"United States\", \"United Kingdom\", \"Spain\", \"United States\", \"Spain\", \"United States\", \"United States\", \"United States\", \"United States\", \"France\", \"United States\", \"Japan\", \"Japan\", \"United States\", \"Japan\", \"Japan\", \"United States\", \"United States\", \"Canada\", \"Canada\", \"India\", \"Japan\", \"South Africa\", \"Switzerland\", \"United States\", \"United States\", \"South Korea\", \"United States\", \"Portugal\", \"United States\", \"United States\", \"Indonesia\", \"India\", \"South Korea\", \"United Kingdom\", \"India\", \"Ghana\", \"United States\", \"India\", \"United States\", \"India\", \"United States\", \"United States\", \"United States\", \"United States\", \"United States\", \"United States\", \"United States\", \"France\", \"United States\", \"United States\", \"United States\", \"United States\", \"United States\", \"United States\", \"United States\", \"United States\", \"United States\", \"United States\", \"United States\", \"United States\", \"United States\", \"United States\", \"United States\", \"United States\", \"United States\", \"United States\", \"United States\", \"United States\", \"United States\", \"United States\", \"United States\", \"India\", \"India\", \"United States\", \"United States\", \"India\", \"India\", \"United States\", \"South Korea\", \"United States\", \"United States\", \"United States\", \"South Africa\", \"United States\", \"India\", \"Hong Kong\", \"United States\", \"United States\", \"United States\", \"United States\", \"United States\", \"South Korea\", \"United States\", \"South Korea\", \"United States\", \"India\", \"United States\", \"United States\", \"India\", \"United States\", \"India\", \"United States\", \"Thailand\", \"United States\", \"Canada\", \"Canada\", \"Argentina\", \"India\", \"South Korea\", \"United States\", \"Japan\", \"Argentina\", \"United States\", \"Ireland\", \"India\", \"Malaysia\", \"United States\", \"Canada\", \"United States\", \"Canada\", \"Canada\", \"Canada\", \"United States\", \"India\", \"United Kingdom\", \"United States\", \"United States\", \"China\", \"India\", \"India\", \"India\", \"India\", \"India\", \"United States\", \"India\", \"United States\", \"India\", \"China\", \"India\", \"Netherlands\", \"United States\", \"United States\", \"United Kingdom\", \"United Kingdom\", \"India\", \"Taiwan\", \"United States\", \"United States\", \"South Africa\", \"United States\", \"United States\", \"United States\", \"United States\", \"Spain\", \"Sweden\", \"United States\", \"Australia\", \"United States\", \"United States\", \"India\", \"United States\", \"India\", \"India\", \"United States\", \"France\", \"Malaysia\", \"India\", \"India\", \"United States\", \"United States\", \"Brazil\", \"United States\", \"India\", \"United States\", \"India\", \"United States\", \"Brazil\", \"United States\", \"India\", \"India\", \"Norway\", \"India\", \"United States\", \"China\", \"United States\", \"India\", \"South Korea\", \"United States\", \"United States\", \"Australia\", \"France\", \"India\", \"India\", \"India\", \"India\", \"India\", \"Australia\", \"India\", \"United States\", \"United States\", \"United States\", \"United States\", \"India\", \"India\", \"India\", \"India\", \"Singapore\", \"India\", \"Canada\", \"South Korea\", \"India\", \"India\", \"United States\", \"India\", \"Pakistan\", \"United States\", \"United States\", \"United States\", \"United States\", \"United States\", \"Canada\", \"United States\", \"United States\", \"India\", \"Japan\", \"Japan\", \"Egypt\", \"India\", \"Mexico\", \"United Kingdom\", \"United Kingdom\", \"United States\", \"United States\", \"United States\", \"Brazil\", \"United Kingdom\", \"United States\", \"Mexico\", \"Ireland\", \"United States\", \"Canada\", \"Canada\", \"Australia\", \"Japan\", \"South Korea\", \"United States\", \"United States\", \"Australia\", \"United States\", \"India\", \"United Kingdom\", \"United States\", \"United Kingdom\", \"Taiwan\", \"United States\", \"Egypt\", \"United States\", \"United Kingdom\", \"India\", \"India\", \"United States\", \"United States\", \"United States\", \"United States\", \"United States\", \"United States\", \"United States\", \"United States\", \"United States\", \"United States\", \"Malaysia\", \"Canada\", \"United States\", \"United Kingdom\", \"Mexico\", \"South Korea\", \"South Korea\", \"South Korea\", \"Canada\", \"United Kingdom\", \"Germany\", \"United States\", \"United States\", \"Canada\", \"United States\", \"United States\", \"United States\", \"Turkey\", \"Peru\", \"United Kingdom\", \"Egypt\", \"Hong Kong\", \"India\", \"United States\", \"Hong Kong\", \"Singapore\", \"South Korea\", \"United States\", \"Japan\", \"United Kingdom\", \"United Kingdom\", \"South Korea\", \"United States\", \"Mexico\", \"United States\", \"United States\", \"United Kingdom\", \"United States\", \"United States\", \"Mexico\", \"Mexico\", \"Colombia\", \"United States\", \"Brazil\", \"United States\", \"United States\", \"United Kingdom\", \"Australia\", \"United States\", \"United States\", \"Germany\", \"United States\", \"Japan\", \"United States\", \"Malaysia\", \"India\", \"United States\", \"Australia\", \"Netherlands\", \"United Kingdom\", \"United States\", \"India\", \"Malaysia\", \"India\", \"Germany\", \"United Kingdom\", \"Denmark\", \"India\", \"Argentina\", \"Japan\", \"United States\", \"United States\", \"Japan\", \"Mexico\", \"India\", \"Nigeria\", \"United States\", \"United States\", \"Italy\", \"United Kingdom\", \"South Korea\", \"South Korea\", \"United States\", \"United Kingdom\", \"France\", \"Germany\", \"India\", \"United States\", \"United States\", \"India\", \"United States\", \"United States\", \"United States\", \"United States\", \"United States\", \"United States\", \"United States\", \"France\", \"United States\", \"United States\", \"Egypt\", \"United States\", \"United States\", \"United States\", \"United States\", \"Mexico\", \"Canada\", \"Japan\", \"South Korea\", \"Turkey\", \"Turkey\", \"India\", \"India\", \"Mexico\", \"United States\", \"United States\", \"United States\", \"South Korea\", \"Ireland\", \"France\", \"Canada\", \"United Kingdom\", \"Thailand\", \"India\", \"United States\", \"United States\", \"United States\", \"Mexico\", \"Italy\", \"United States\", \"United States\", \"United States\", \"United States\", \"India\", \"United States\", \"United States\", \"Mexico\", \"Indonesia\", \"South Korea\", \"Germany\", \"India\", \"Mexico\", \"Hong Kong\", \"United States\", \"India\", \"South Korea\", \"United States\", \"United States\", \"United States\", \"United States\", \"India\", \"Japan\", \"Canada\", \"United States\", \"United Kingdom\", \"United States\", \"United States\", \"United States\", \"United States\", \"United States\", \"United States\", \"Canada\", \"India\", \"United States\", \"Italy\", \"Hong Kong\", \"United States\", \"United States\", \"India\", \"India\", \"India\", \"India\", \"Pakistan\", \"India\", \"Indonesia\", \"India\", \"Italy\", \"Spain\", \"Turkey\", \"Canada\", \"India\", \"Pakistan\", \"India\", \"United Kingdom\", \"United States\", \"France\", \"India\", \"India\", \"Japan\", \"Japan\", \"India\", \"Philippines\", \"India\", \"Senegal\", \"India\", \"Egypt\", \"United States\", \"Egypt\", \"United States\", \"United States\", \"United States\", \"United States\", \"United States\", \"United States\", \"United States\", \"India\", \"Brazil\", \"India\", \"United States\", \"Egypt\", \"France\", \"United States\", \"South Africa\", \"United States\", \"Japan\", \"United States\", \"India\", \"United States\", \"Israel\", \"United States\", \"India\", \"India\", \"Italy\", \"India\", \"United States\", \"United States\", \"United States\", \"United States\", \"Australia\", \"South Africa\", \"Colombia\", \"Spain\", \"United States\", \"United States\", \"France\", \"Austria\", \"Canada\", \"Australia\", \"India\", \"United States\", \"United States\", \"India\", \"India\", \"India\", \"India\", \"United States\", \"United States\", \"India\", \"Indonesia\", \"India\", \"United States\", \"United States\", \"India\", \"United Kingdom\", \"United States\", \"Egypt\", \"South Korea\", \"United States\", \"Italy\", \"United States\", \"United States\", \"United States\", \"India\", \"United States\", \"United States\", \"United States\", \"United States\", \"Japan\", \"United States\", \"Italy\", \"United States\", \"Egypt\", \"United States\", \"United States\", \"United States\", \"Canada\", \"United States\", \"France\", \"Germany\", \"United States\", \"China\", \"United States\", \"United States\", \"United States\", \"United States\", \"United States\", \"United States\", \"United States\", \"United States\", \"Hong Kong\", \"Mexico\", \"United States\", \"United States\", \"United States\", \"Sweden\", \"United States\", \"Argentina\", \"United States\", \"United States\", \"United States\", \"South Korea\", \"Hong Kong\", \"South Korea\", \"Australia\", \"United States\", \"United States\", \"United States\", \"Egypt\", \"India\", \"Argentina\", \"Taiwan\", \"United States\", \"United States\", \"United Kingdom\", \"United States\", \"United Kingdom\", \"United States\", \"United Kingdom\", \"United States\", \"United States\", \"United Kingdom\", \"United Kingdom\", \"United States\", \"United States\", \"United States\", \"United States\", \"United States\", \"India\", \"United States\", \"India\", \"Mexico\", \"United States\", \"United States\", \"United States\", \"Mexico\", \"Turkey\", \"United Kingdom\", \"United States\", \"Canada\", \"South Korea\", \"United States\", \"Guatemala\", \"United States\", \"United Kingdom\", \"India\", \"South Africa\", \"Ukraine\", \"United States\", \"China\", \"United States\", \"United States\", \"United States\", \"India\", \"India\", \"India\", \"United States\", \"United States\", \"France\", \"United States\", \"United States\", \"United States\", \"Philippines\", \"Spain\", \"United States\", \"United States\", \"United States\", \"United Kingdom\", \"United States\", \"United Kingdom\", \"United States\", \"Mexico\", \"United States\", \"Hong Kong\", \"United States\", \"France\", \"India\", \"China\", \"Israel\", \"India\", \"India\", \"Italy\", \"India\", \"United States\", \"India\", \"China\", \"India\", \"Hong Kong\", \"United States\", \"United States\", \"United Kingdom\", \"United Kingdom\", \"United Kingdom\", \"India\", \"United States\", \"United Kingdom\", \"India\", \"United States\", \"Egypt\", \"United States\", \"Philippines\", \"United States\", \"United States\", \"Philippines\", \"United States\", \"United States\", \"South Africa\", \"United Kingdom\", \"United States\", \"India\", \"India\", \"Canada\", \"United States\", \"Brazil\", \"United States\", \"India\", \"India\", \"United States\", \"India\", \"United States\", \"United States\", \"Australia\", \"Australia\", \"India\", \"India\", \"United States\", \"India\", \"United States\", \"United States\", \"United States\", \"United Kingdom\", \"United States\", \"United States\", \"Israel\", \"India\", \"India\", \"Thailand\", \"Indonesia\", \"Indonesia\", \"Indonesia\", \"Colombia\", \"Italy\", \"United Kingdom\", \"United States\", \"India\", \"United States\", \"India\", \"South Korea\", \"Poland\", \"United States\", \"United States\", \"Canada\", \"United States\", \"India\", \"United States\", \"United States\", \"Russia\", \"France\", \"United Kingdom\", \"United States\", \"Mexico\", \"United States\", \"Colombia\", \"United States\", \"United States\", \"Bangladesh\", \"United States\", \"Germany\", \"Spain\", \"India\", \"Singapore\", \"India\", \"India\", \"Indonesia\", \"United States\", \"Australia\", \"China\", \"Switzerland\", \"United States\", \"Peru\", \"Brazil\", \"United States\", \"Japan\", \"United States\", \"United States\", \"United States\", \"Philippines\", \"Australia\", \"Pakistan\", \"Saudi Arabia\", \"Nigeria\", \"United States\", \"Thailand\", \"United States\", \"United States\", \"Spain\", \"China\", \"United States\", \"China\", \"Vietnam\", \"United States\", \"South Korea\", \"United States\", \"Germany\", \"Italy\", \"Canada\", \"United States\", \"United States\", \"Thailand\", \"Thailand\", \"Thailand\", \"United States\", \"United States\", \"United States\", \"United States\", \"Nigeria\", \"United Kingdom\", \"Canada\", \"United States\", \"United States\", \"United States\", \"United States\", \"Spain\", \"Japan\", \"United States\", \"United States\", \"United States\", \"United States\", \"United Kingdom\", \"South Korea\", \"Argentina\", \"India\", \"United States\", \"United States\", \"Indonesia\", \"Mexico\", \"Mexico\", \"United States\", \"India\", \"Japan\", \"India\", \"Spain\", \"Mexico\", \"United States\", \"United States\", \"Czech Republic\", \"Canada\", \"United States\", \"United States\", \"United States\", \"Mexico\", \"Taiwan\", \"Spain\", \"South Korea\", \"United States\", \"India\", \"United States\", \"China\", \"United States\", \"United States\", \"Australia\", \"Egypt\", \"United States\", \"India\", \"Japan\", \"United States\", \"Nigeria\", \"India\", \"Egypt\", \"Thailand\", \"Japan\", \"Mexico\", \"United States\", \"United States\", \"United States\", \"United Kingdom\", \"United States\", \"United States\", \"United States\", \"United States\", \"United States\", \"Spain\", \"South Korea\", \"United States\", \"France\", \"Russia\", \"United States\", \"United States\", \"India\", \"Canada\", \"United States\", \"Brazil\", \"United States\", \"United Kingdom\", \"United States\", \"United States\", \"United States\", \"United States\", \"United States\", \"United States\", \"United States\", \"United States\", \"United States\", \"United States\", \"United States\", \"United States\", \"United States\", \"United Kingdom\", \"United States\", \"United States\", \"United States\", \"United States\", \"United States\", \"United Kingdom\", \"United States\", \"United States\", \"United States\", \"Jamaica\", \"United States\", \"United States\", \"United States\", \"United States\", \"United States\", \"Spain\", \"India\", \"United States\", \"United States\", \"United States\", \"Canada\", \"Canada\", \"United States\", \"United States\", \"United States\", \"United States\", \"United States\", \"United States\", \"United States\", \"United States\", \"Canada\", \"United Kingdom\", \"United States\", \"United Kingdom\", \"United States\", \"United States\", \"South Korea\", \"Philippines\", \"Australia\", \"Switzerland\", \"United States\", \"Japan\", \"United States\", \"United States\", \"United States\", \"South Korea\", \"United States\", \"Egypt\", \"United States\", \"United States\", \"Germany\", \"United Kingdom\", \"United States\", \"India\", \"Thailand\", \"United Kingdom\", \"United States\", \"United States\", \"United States\", \"Spain\", \"South Korea\", \"United States\", \"Australia\", \"United States\", \"India\", \"India\", \"United States\", \"United States\", \"Canada\", \"United States\", \"United States\", \"South Korea\", \"United States\", \"United States\", \"South Korea\", \"France\", \"Lebanon\", \"India\", \"France\", \"United States\", \"United States\", \"United States\", \"United States\", \"Australia\", \"Netherlands\", \"United States\", \"United States\", \"United States\", \"South Korea\", \"United States\", \"Brazil\", \"South Korea\", \"United States\", \"Poland\", \"Germany\", \"United States\", \"Turkey\", \"United States\", \"Turkey\", \"United Kingdom\", \"United States\", \"United States\", \"United States\", \"Italy\", \"Italy\", \"Thailand\", \"India\", \"Singapore\", \"United Kingdom\", \"United States\", \"United States\", \"United States\", \"Israel\", \"United Kingdom\", \"South Korea\", \"United States\", \"Denmark\", \"Italy\", \"Mexico\", \"Spain\", \"United Kingdom\", \"India\", \"Belarus\", \"India\", \"India\", \"India\", \"United States\", \"India\", \"Brazil\", \"United States\", \"United States\", \"Canada\", \"United States\", \"United States\", \"United States\", \"United States\", \"United States\", \"Canada\", \"United States\", \"Canada\", \"United States\", \"India\", \"United States\", \"United States\", \"United States\", \"United States\", \"Spain\", \"United States\", \"United States\", \"United States\", \"United Kingdom\", \"United States\", \"India\", \"India\", \"Indonesia\", \"United States\", \"Indonesia\", \"Indonesia\", \"United States\", \"United States\", \"United States\", \"United States\", \"United States\", \"United States\", \"United States\", \"United States\", \"United States\", \"Indonesia\", \"South Korea\", \"India\", \"India\", \"United States\", \"Canada\", \"Canada\", \"United States\", \"United States\", \"United States\", \"United States\", \"United States\", \"United States\", \"Japan\", \"Japan\", \"Japan\", \"China\", \"Hong Kong\", \"United States\", \"Japan\", \"Nigeria\", \"United States\", \"Germany\", \"India\", \"India\", \"Belgium\", \"United States\", \"India\", \"India\", \"United States\", \"United States\", \"China\", \"United States\", \"Spain\", \"United States\", \"France\", \"United States\", \"Saudi Arabia\", \"India\", \"Malaysia\", \"Australia\", \"United States\", \"United States\", \"United Kingdom\", \"Cyprus\", \"United States\", \"United States\", \"India\", \"India\", \"United States\", \"Lebanon\", \"Argentina\", \"India\", \"India\", \"Egypt\", \"Indonesia\", \"France\", \"Indonesia\", \"United States\", \"United States\", \"Egypt\", \"Nigeria\", \"United States\", \"Lebanon\", \"United States\", \"Egypt\", \"United States\", \"United States\", \"South Korea\", \"United States\", \"India\", \"United States\", \"United States\", \"United States\", \"United States\", \"Japan\", \"Thailand\", \"Pakistan\", \"India\", \"United States\", \"India\", \"United States\", \"United States\", \"Hong Kong\", \"United States\", \"United States\", \"India\", \"United Kingdom\", \"United States\", \"Japan\", \"Argentina\", \"Hong Kong\", \"India\", \"Mexico\", \"United States\", \"United States\", \"United States\", \"France\", \"United States\", \"Japan\", \"Japan\", \"Japan\", \"United States\", \"United States\", \"India\", \"United Kingdom\", \"India\", \"India\", \"India\", \"India\", \"United States\", \"India\", \"India\", \"United States\", \"Philippines\", \"South Korea\", \"United States\", \"United States\", \"Sweden\", \"Norway\", \"United States\", \"United States\", \"United States\", \"Indonesia\", \"Indonesia\", \"United States\", \"United States\", \"Mexico\", \"Taiwan\", \"United Kingdom\", \"Nigeria\", \"Canada\", \"United States\", \"United States\", \"Canada\", \"Australia\", \"United States\", \"United States\", \"United States\", \"United States\", \"Argentina\", \"France\", \"United States\", \"South Korea\", \"Spain\", \"Philippines\", \"United States\", \"United States\", \"United States\", \"United States\", \"United States\", \"United States\", \"United States\", \"Israel\", \"Finland\", \"United States\", \"Egypt\", \"Singapore\", \"Spain\", \"Italy\", \"United States\", \"Nigeria\", \"Poland\", \"Canada\", \"United States\", \"France\", \"United States\", \"France\", \"United Kingdom\", \"Switzerland\", \"United States\", \"United States\", \"United States\", \"United States\", \"United States\", \"United States\", \"United States\", \"United States\", \"United Kingdom\", \"United States\", \"United States\", \"United States\", \"Spain\", \"Hong Kong\", \"Spain\", \"United States\", \"United States\", \"United States\", \"Egypt\", \"Italy\", \"Hong Kong\", \"United States\", \"United States\", \"Brazil\", \"Brazil\", \"United States\", \"United Kingdom\", \"United Kingdom\", \"United Kingdom\", \"United Kingdom\", \"United States\", \"United States\", \"Italy\", \"United States\", \"United States\", \"China\", \"United States\", \"United Kingdom\", \"United States\", \"Canada\", \"United States\", \"Egypt\", \"United States\", \"Australia\", \"Chile\", \"Nigeria\", \"United States\", \"Egypt\", \"United Kingdom\", \"India\", \"India\", \"Canada\", \"United States\", \"United Kingdom\", \"France\", \"United States\", \"Saudi Arabia\", \"United States\", \"United States\", \"United States\", \"France\", \"United States\", \"United States\", \"United States\", \"United States\", \"United Kingdom\", \"United States\", \"United Kingdom\", \"United States\", \"United States\", \"United States\", \"United States\", \"United States\", \"Ireland\", \"Belgium\", \"United States\", \"United States\", \"New Zealand\", \"Philippines\", \"South Korea\", \"Nigeria\", \"Taiwan\", \"South Korea\", \"United States\", \"United States\", \"United States\", \"Hong Kong\", \"Ghana\", \"United States\", \"Turkey\", \"United States\", \"United States\", \"United States\", \"United States\", \"Israel\", \"South Korea\", \"India\", \"Canada\", \"United States\", \"United States\", \"United States\", \"United States\", \"New Zealand\", \"Canada\", \"Egypt\", \"Nigeria\", \"France\", \"United States\", \"United States\", \"United States\", \"United States\", \"United States\", \"Australia\", \"Egypt\", \"Spain\", \"Brazil\", \"Mexico\", \"United Kingdom\", \"United States\", \"Canada\", \"United States\", \"United States\", \"United States\", \"Brazil\", \"United States\", \"United States\", \"United States\", \"France\", \"United States\", \"Mexico\", \"United Kingdom\", \"Poland\", \"United States\", \"France\", \"United States\", \"United States\", \"United States\", \"United States\", \"United States\", \"Canada\", \"United States\", \"Israel\", \"United States\", \"Egypt\", \"Japan\", \"United States\", \"South Korea\", \"United States\", \"India\", \"France\", \"Poland\", \"Argentina\", \"United States\", \"United States\", \"United Kingdom\", \"Poland\", \"United Kingdom\", \"United States\", \"France\", \"United States\", \"United States\", \"United Kingdom\", \"United States\", \"India\", \"Indonesia\", \"United Kingdom\", \"United States\", \"United Kingdom\", \"India\", \"United Kingdom\", \"United States\", \"Australia\", \"Austria\", \"United States\", \"Canada\", \"Mexico\", \"Denmark\", \"Egypt\", \"Greece\", \"Romania\", \"United Kingdom\", \"United Kingdom\", \"United States\", \"Canada\", \"Canada\", \"China\", \"United States\", \"Nigeria\", \"United States\", \"Argentina\", \"United States\", \"United States\", \"Italy\", \"United States\", \"Japan\", \"United States\", \"Taiwan\", \"United States\", \"Czech Republic\", \"United States\", \"United States\", \"United States\", \"United States\", \"Japan\", \"Japan\", \"United States\", \"Argentina\", \"United States\", \"Indonesia\", \"Indonesia\", \"United States\", \"Singapore\", \"Singapore\", \"Indonesia\", \"United States\", \"South Korea\", \"Canada\", \"United Kingdom\", \"United States\", \"United States\", \"United States\", \"United States\", \"United Kingdom\", \"Brazil\", \"United States\", \"United Kingdom\", \"United States\", \"Egypt\", \"Kuwait\", \"Japan\", \"United Kingdom\", \"United States\", \"United States\", \"Spain\", \"United Kingdom\", \"United States\", \"United States\", \"United States\", \"United Kingdom\", \"United States\", \"United States\", \"United States\", \"France\", \"United States\", \"United Kingdom\", \"United Kingdom\", \"United States\", \"Taiwan\", \"United States\", \"Nigeria\", \"United States\", \"United States\", \"United States\", \"United States\", \"Brazil\", \"United States\", \"United Kingdom\", \"Hong Kong\", \"United States\", \"United States\", \"United States\", \"United States\", \"United States\", \"Hong Kong\", \"United States\", \"United States\", \"United Kingdom\", \"United States\", \"Japan\", \"Japan\", \"United Kingdom\", \"United States\", \"United States\", \"United States\", \"United Kingdom\", \"New Zealand\", \"France\", \"United States\", \"United States\", \"United Kingdom\", \"Spain\", \"Norway\", \"United States\", \"United States\", \"Japan\", \"France\", \"Indonesia\", \"United States\", \"United States\", \"Nigeria\", \"Taiwan\", \"United States\", \"Spain\", \"Turkey\", \"Philippines\", \"Spain\", \"United States\", \"United States\", \"India\", \"Israel\", \"Colombia\", \"United States\", \"United States\", \"South Korea\", \"United States\", \"United States\", \"United States\", \"United States\", \"United Kingdom\", \"United States\", \"United States\", \"United States\", \"Nigeria\", \"Hong Kong\", \"South Korea\", \"United Kingdom\", \"United States\", \"United Kingdom\", \"United States\", \"India\", \"United States\", \"Colombia\", \"Hong Kong\", \"United States\", \"United Kingdom\", \"United States\", \"United States\", \"China\", \"United Kingdom\", \"South Korea\", \"United States\", \"United States\", \"United States\", \"United States\", \"United States\", \"United States\", \"Poland\", \"United States\", \"United States\", \"United States\", \"United States\", \"United States\", \"Spain\", \"United States\", \"Indonesia\", \"United States\", \"Canada\", \"United States\", \"Canada\", \"Spain\", \"United States\", \"United States\", \"United States\", \"Spain\", \"United States\", \"United States\", \"Canada\", \"United States\", \"United States\", \"Thailand\", \"United States\", \"United States\", \"France\", \"India\", \"Mexico\", \"United States\", \"United States\", \"India\", \"Philippines\", \"India\", \"Canada\", \"Canada\", \"United States\", \"United Kingdom\", \"United Kingdom\", \"United States\", \"United States\", \"Spain\", \"United States\", \"United Kingdom\", \"Spain\", \"Singapore\", \"Australia\", \"United Kingdom\", \"Mexico\", \"United States\", \"Denmark\", \"United States\", \"Canada\", \"United States\", \"Spain\", \"United States\", \"Mexico\", \"United States\", \"United States\", \"United Kingdom\", \"United Kingdom\", \"United Kingdom\", \"Egypt\", \"Australia\", \"France\", \"United States\", \"United Kingdom\", \"Spain\", \"Spain\", \"United States\", \"United States\", \"United States\", \"United States\", \"United Kingdom\", \"Japan\", \"Nigeria\", \"United Kingdom\", \"Austria\", \"France\", \"United States\", \"United States\", \"United States\", \"United States\", \"Thailand\", \"India\", \"Indonesia\", \"South Korea\", \"United States\", \"United States\", \"United States\", \"Brazil\", \"Ireland\", \"United States\", \"United States\", \"United Kingdom\", \"South Korea\", \"China\", \"United Kingdom\", \"Argentina\", \"United Kingdom\", \"United Kingdom\", \"Lebanon\", \"United States\", \"United States\", \"Canada\", \"South Korea\", \"United States\", \"United States\", \"Egypt\", \"India\", \"Egypt\", \"United States\", \"Belgium\", \"South Korea\", \"United States\", \"India\", \"United States\", \"United States\", \"United States\", \"United States\", \"Australia\", \"France\", \"United States\", \"Brazil\", \"Chile\", \"United States\", \"United Kingdom\", \"United States\", \"United Kingdom\", \"United States\", \"Egypt\", \"United States\", \"Paraguay\", \"United Kingdom\", \"United States\", \"United States\", \"United States\", \"Germany\", \"United States\", \"United States\", \"Spain\", \"United States\", \"United States\", \"Spain\", \"United States\", \"India\", \"China\", \"United States\", \"United States\", \"India\", \"China\", \"Australia\", \"United Kingdom\", \"South Africa\", \"United States\", \"South Korea\", \"United States\", \"South Korea\", \"Italy\", \"India\", \"United States\", \"Spain\", \"Norway\", \"Canada\", \"United States\", \"United States\", \"France\", \"Spain\", \"Netherlands\", \"France\", \"Germany\", \"United States\", \"Ireland\", \"Ireland\", \"United States\", \"United States\", \"United States\", \"United States\", \"United States\", \"Denmark\", \"New Zealand\", \"New Zealand\", \"Argentina\", \"United States\", \"Nigeria\", \"Philippines\", \"United Kingdom\", \"United States\", \"United States\", \"United Kingdom\", \"Poland\", \"Hong Kong\", \"United States\", \"Canada\", \"United States\", \"Canada\", \"United States\", \"Canada\", \"United States\", \"United States\", \"United Kingdom\", \"India\", \"United States\", \"Italy\", \"France\", \"Japan\", \"Egypt\", \"United States\", \"United States\", \"United States\", \"United States\", \"Italy\", \"United States\", \"United States\", \"United States\", \"Spain\", \"United States\", \"South Korea\", \"United Kingdom\", \"Brazil\", \"Chile\", \"United States\", \"United States\", \"Spain\", \"United States\", \"Russia\", \"United States\", \"Hong Kong\", \"United States\", \"United States\", \"Germany\", \"Nigeria\", \"United States\", \"United States\", \"United States\", \"France\", \"Spain\", \"Spain\", \"South Korea\", \"Poland\", \"United Kingdom\", \"United States\", \"Canada\", \"Philippines\", \"United Kingdom\", \"Denmark\", \"United States\", \"New Zealand\", \"United States\", \"Belgium\", \"Sweden\", \"United States\", \"United States\", \"Spain\", \"United States\", \"United States\", \"United States\", \"United Kingdom\", \"Italy\", \"Japan\", \"United States\", \"United States\", \"United States\", \"United States\", \"Spain\", \"United States\", \"United States\", \"Australia\", \"Canada\", \"United States\", \"Spain\", \"Canada\", \"United States\", \"Indonesia\", \"United States\", \"United States\", \"Germany\", \"Canada\", \"United States\", \"United States\", \"Singapore\", \"Spain\", \"United States\", \"United States\", \"Mexico\", \"France\", \"United States\", \"Philippines\", \"Canada\", \"United States\", \"United States\", \"United States\", \"France\", \"United States\", \"United States\", \"France\", \"Turkey\", \"United States\", \"United States\", \"United States\", \"Taiwan\", \"United States\", \"Philippines\", \"Croatia\", \"Spain\", \"United States\", \"United Kingdom\", \"United Kingdom\", \"United States\", \"United States\", \"United States\", \"United States\", \"Mexico\", \"United States\", \"Ghana\", \"United States\", \"United States\", \"United Kingdom\", \"United States\", \"Spain\", \"Germany\", \"United States\", \"United States\", \"Somalia\", \"United Kingdom\", \"United States\", \"United States\", \"Poland\", \"India\", \"United Arab Emirates\", \"United States\", \"Egypt\", \"Italy\", \"United States\", \"United States\", \"United States\", \"Canada\", \"South Korea\", \"France\", \"United States\", \"United States\", \"China\", \"Taiwan\", \"United States\", \"United States\", \"United States\", \"China\", \"South Korea\", \"Ireland\", \"United States\", \"Spain\", \"Japan\", \"Turkey\", \"United States\", \"United States\", \"United States\", \"Canada\", \"United States\", \"Colombia\", \"Colombia\", \"United States\", \"United States\", \"Denmark\", \"Indonesia\", \"United States\", \"United States\", \"United States\", \"India\", \"United Kingdom\", \"United States\", \"United States\", \"Spain\", \"Canada\", \"United States\", \"New Zealand\", \"United States\", \"United States\", \"United Kingdom\", \"United States\", \"South Korea\", \"Netherlands\", \"France\", \"United Kingdom\", \"United States\", \"Serbia\", \"Egypt\", \"United States\", \"United Kingdom\", \"United Kingdom\", \"China\", \"United Kingdom\", \"United States\", \"United States\", \"Russia\", \"United States\", \"Colombia\", \"United Kingdom\", \"United States\", \"Taiwan\", \"Australia\", \"India\", \"Nigeria\", \"United Kingdom\", \"United States\", \"United States\", \"United States\", \"United States\", \"United Kingdom\", \"Italy\", \"United States\", \"United States\", \"Denmark\", \"Australia\", \"South Korea\", \"Egypt\", \"Germany\", \"United States\", \"Mexico\", \"United States\", \"United States\", \"United States\", \"Nigeria\", \"Japan\", \"Japan\", \"United States\", \"United States\", \"United States\", \"India\", \"United States\", \"United States\", \"United Kingdom\", \"Ireland\", \"Italy\", \"United States\", \"Canada\", \"Spain\", \"Spain\", \"Spain\", \"Mexico\", \"Indonesia\", \"United States\", \"Spain\", \"India\", \"United States\", \"United States\", \"United States\", \"Ukraine\", \"United States\", \"United States\", \"United States\", \"Argentina\", \"South Korea\", \"South Korea\", \"United States\", \"United States\", \"United States\", \"United States\", \"Poland\", \"United States\", \"France\", \"United States\", \"United Kingdom\", \"United Kingdom\", \"United States\", \"France\", \"United States\", \"United States\", \"United States\", \"United Kingdom\", \"United States\", \"United States\", \"Thailand\", \"United Kingdom\", \"United States\", \"Egypt\", \"Egypt\", \"United Kingdom\", \"United States\", \"United States\", \"Philippines\", \"United States\", \"United States\", \"United Kingdom\", \"United States\", \"United States\", \"Argentina\", \"United States\", \"United States\", \"United Kingdom\", \"Egypt\", \"Philippines\", \"Mexico\", \"United States\", \"United Kingdom\", \"United States\", \"United States\", \"United Kingdom\", \"United States\", \"United States\", \"Georgia\", \"United States\", \"United States\", \"Spain\", \"Italy\", \"United States\", \"United States\", \"Spain\", \"United States\", \"United States\", \"United Kingdom\", \"United States\", \"United States\", \"United Kingdom\", \"Singapore\", \"Ireland\", \"United States\", \"Belgium\", \"United States\", \"Hong Kong\", \"United Kingdom\", \"United States\", \"Singapore\", \"United States\", \"Thailand\", \"South Korea\", \"Thailand\", \"United States\", \"United States\", \"United States\", \"United States\", \"Belgium\", \"United States\", \"Australia\", \"Philippines\", \"United States\", \"China\", \"United States\", \"Iceland\", \"United States\", \"United States\", \"United States\", \"United States\", \"United States\", \"Taiwan\", \"United States\", \"India\", \"United States\", \"United States\", \"Egypt\", \"China\", \"United States\", \"Spain\", \"Australia\", \"New Zealand\", \"United States\", \"Philippines\", \"Nigeria\", \"Nigeria\", \"United States\", \"United States\", \"United States\", \"United Kingdom\", \"United States\", \"Australia\", \"Canada\", \"United Kingdom\", \"India\", \"United Kingdom\", \"United States\", \"South Korea\", \"United States\", \"United States\", \"Egypt\", \"France\", \"China\", \"United Kingdom\", \"Israel\", \"Poland\", \"France\", \"United Kingdom\", \"France\", \"United States\", \"United Kingdom\", \"United Kingdom\", \"United Kingdom\", \"United Arab Emirates\", \"Lebanon\", \"Canada\", \"United States\", \"Turkey\", \"Taiwan\", \"United States\", \"Ireland\", \"Hong Kong\", \"India\", \"Canada\", \"India\", \"India\", \"United States\", \"United States\", \"United States\", \"United States\", \"United States\", \"Canada\", \"France\", \"United Kingdom\", \"United States\", \"Spain\", \"Brazil\", \"Belgium\", \"Thailand\", \"Indonesia\", \"Egypt\", \"South Korea\", \"China\", \"Belgium\", \"India\", \"United States\", \"United States\", \"United States\", \"United Kingdom\", \"Thailand\", \"United States\", \"United States\", \"United Kingdom\", \"United Kingdom\", \"India\", \"Hong Kong\", \"Spain\", \"United Kingdom\", \"Philippines\", \"United States\", \"United States\", \"Canada\", \"India\", \"United States\", \"United States\", \"Australia\", \"United States\", \"Spain\", \"China\", \"United States\", \"United States\", \"United States\", \"United States\", \"United States\", \"India\", \"United States\", \"United States\", \"Mexico\", \"China\", \"India\", \"Taiwan\", \"United States\", \"United States\", \"United Kingdom\", \"United Kingdom\", \"India\", \"India\", \"Mexico\", \"South Korea\", \"United States\", \"United States\", \"United States\", \"United States\", \"United Kingdom\", \"Spain\", \"United States\", \"United States\", \"United States\", \"United States\", \"United States\", \"Germany\", \"United States\", \"South Africa\", \"United States\", \"United States\", \"United States\", \"United States\", \"United States\", \"France\", \"United States\", \"Russia\", \"United States\", \"United Kingdom\", \"Canada\", \"Spain\", \"United States\", \"United States\", \"United States\", \"Argentina\", \"Argentina\", \"Singapore\", \"India\", \"India\", \"United Kingdom\", \"Canada\", \"Turkey\", \"United States\", \"United States\", \"United States\", \"United States\", \"United States\", \"United States\", \"United States\", \"United States\", \"United Kingdom\", \"South Korea\", \"South Korea\", \"France\", \"United States\", \"Indonesia\", \"United States\", \"United States\", \"Netherlands\", \"Thailand\", \"United Kingdom\", \"United States\", \"United States\", \"India\", \"Japan\", \"India\", \"Spain\", \"United States\", \"Canada\", \"United States\", \"United States\", \"India\", \"United States\", \"Spain\", \"United States\", \"United States\", \"India\", \"Canada\", \"Canada\", \"Canada\", \"Canada\", \"Canada\", \"Canada\", \"United States\", \"Canada\", \"Canada\", \"Canada\", \"Canada\", \"Thailand\", \"South Korea\", \"United Kingdom\", \"United States\", \"United Kingdom\", \"United States\", \"United Kingdom\", \"France\", \"Canada\", \"United States\", \"United States\", \"United States\", \"Canada\", \"United States\", \"United States\", \"United States\", \"United Kingdom\", \"United States\", \"United States\", \"Turkey\", \"Canada\", \"United States\", \"United States\", \"United Kingdom\", \"United States\", \"Canada\", \"South Korea\", \"United States\", \"United States\", \"United States\", \"United States\", \"South Africa\", \"United States\", \"United States\", \"United Kingdom\", \"United States\", \"United States\", \"United States\", \"United States\", \"United States\", \"United States\", \"United States\", \"India\", \"India\", \"United States\", \"United States\", \"India\", \"United States\", \"United States\", \"Thailand\", \"United States\", \"United States\", \"United States\", \"United States\", \"United States\", \"United Kingdom\", \"France\", \"Russia\", \"United Kingdom\", \"United States\", \"India\", \"United States\", \"United States\", \"United States\", \"United States\", \"United States\", \"Canada\", \"Canada\", \"United States\", \"United States\", \"Canada\", \"Canada\", \"Canada\", \"United States\", \"United States\", \"Canada\", \"United States\", \"United Kingdom\", \"United States\", \"India\", \"United States\", \"Canada\", \"India\", \"India\", \"United States\", \"Japan\", \"United States\", \"South Korea\", \"United States\", \"United States\", \"United States\", \"United States\", \"Turkey\", \"United Kingdom\", \"United States\", \"United States\", \"United States\", \"Japan\", \"France\", \"Spain\", \"United States\", \"Hong Kong\", \"United States\", \"United Kingdom\", \"India\", \"Spain\", \"Taiwan\", \"United Kingdom\", \"Canada\", \"United States\", \"South Korea\", \"Australia\", \"India\", \"United States\", \"India\", \"Philippines\", \"India\", \"India\", \"India\", \"India\", \"United States\", \"Thailand\", \"India\", \"United States\", \"United States\", \"United States\", \"Japan\", \"Italy\", \"Poland\", \"India\", \"India\", \"France\", \"United Kingdom\", \"Canada\", \"United States\", \"United States\", \"Spain\", \"United States\", \"United States\", \"United States\", \"Spain\", \"India\", \"Spain\", \"United States\", \"United States\", \"United Arab Emirates\", \"United States\", \"South Africa\", \"United States\", \"United States\", \"United States\", \"United States\", \"South Korea\", \"France\", \"United States\", \"Italy\", \"United Kingdom\", \"Switzerland\", \"Belgium\", \"United States\", \"Canada\", \"Colombia\", \"United States\", \"Argentina\", \"Philippines\", \"United Kingdom\", \"United States\", \"India\", \"United States\", \"Canada\", \"Belgium\", \"United Kingdom\", \"Spain\", \"United States\", \"United States\", \"Germany\", \"China\", \"United Kingdom\", \"Singapore\", \"Egypt\", \"United States\", \"United States\", \"United States\", \"Mexico\", \"Romania\", \"France\", \"Spain\", \"United States\", \"Nigeria\", \"Malaysia\", \"United States\", \"India\", \"India\", \"India\", \"Australia\", \"China\", \"Egypt\", \"United States\", \"India\", \"United States\", \"United States\", \"United States\", \"South Korea\", \"Brazil\", \"Egypt\", \"Spain\", \"United States\", \"Japan\", \"France\", \"United States\", \"United States\", \"India\", \"United States\", \"India\", \"South Africa\", \"India\", \"India\", \"United States\", \"United States\", \"United States\", \"Spain\", \"United States\", \"Spain\", \"United States\", \"Mexico\", \"Spain\", \"France\", \"Indonesia\", \"Indonesia\", \"Lebanon\", \"India\", \"United Kingdom\", \"United Kingdom\", \"Spain\", \"United States\", \"United States\", \"United States\", \"Argentina\", \"United Kingdom\", \"United States\", \"United Kingdom\", \"Philippines\", \"United States\", \"Japan\", \"Japan\", \"United States\", \"United States\", \"India\", \"United States\", \"India\", \"United States\", \"United States\", \"India\", \"United Kingdom\", \"United States\", \"India\", \"India\", \"India\", \"Turkey\", \"Turkey\", \"India\", \"South Korea\", \"United States\", \"United States\", \"France\", \"United States\", \"South Korea\", \"United Kingdom\", \"United States\", \"United Kingdom\", \"United States\", \"India\", \"United Kingdom\", \"Pakistan\", \"India\", \"United States\", \"Saudi Arabia\", \"China\", \"India\", \"United States\", \"United States\", \"United States\", \"India\", \"United States\", \"France\", \"United States\", \"United States\", \"United Kingdom\", \"United States\", \"United States\", \"United States\", \"United States\", \"France\", \"United Kingdom\", \"Australia\", \"United States\", \"United States\", \"India\", \"United States\", \"United States\", \"United Kingdom\", \"Egypt\", \"Mexico\", \"Denmark\", \"United States\", \"Poland\", \"South Korea\", \"France\", \"United States\", \"India\", \"United States\", \"United States\", \"United Kingdom\", \"Taiwan\", \"India\", \"Lebanon\", \"India\", \"Hong Kong\", \"France\", \"United States\", \"Germany\", \"Germany\", \"United Kingdom\", \"United States\", \"United States\", \"United States\", \"United States\", \"Spain\", \"United States\", \"United States\", \"United States\", \"United States\", \"Egypt\", \"United States\", \"United States\", \"Austria\", \"Poland\", \"France\", \"Kuwait\", \"United States\", \"United States\", \"Hong Kong\", \"United Kingdom\", \"India\", \"India\", \"Italy\", \"United States\", \"United States\", \"India\", \"United States\", \"Spain\", \"United States\", \"India\", \"China\", \"Australia\", \"France\", \"France\", \"United States\", \"Poland\", \"United States\", \"United States\", \"United States\", \"United States\", \"United States\", \"United States\", \"United States\", \"China\", \"India\", \"Lebanon\", \"United States\", \"United Kingdom\", \"South Korea\", \"United States\", \"Turkey\", \"United States\", \"South Korea\", \"Taiwan\", \"Canada\", \"United States\", \"United Kingdom\", \"Taiwan\", \"United States\", \"Spain\", \"India\", \"United States\", \"India\", \"United States\", \"United States\", \"Austria\", \"United States\", \"United States\", \"United States\", \"Indonesia\", \"Saudi Arabia\", \"India\", \"United States\", \"United States\", \"Spain\", \"United States\", \"United Kingdom\", \"Israel\", \"Taiwan\", \"Nigeria\", \"South Korea\", \"United States\", \"Peru\", \"United States\", \"Germany\", \"United States\", \"United States\", \"Brazil\", \"Indonesia\", \"Uruguay\", \"Lebanon\", \"United Kingdom\", \"United States\", \"France\", \"United States\", \"United Kingdom\", \"United Kingdom\", \"United Kingdom\", \"South Korea\", \"United States\", \"United States\", \"United States\", \"France\", \"United States\", \"United States\", \"Spain\", \"United States\", \"Taiwan\", \"United States\", \"United States\", \"United Kingdom\", \"Canada\", \"Romania\", \"United States\", \"United Kingdom\", \"United Kingdom\", \"United States\", \"Colombia\", \"Germany\", \"United States\", \"United States\", \"United States\", \"United States\", \"United Kingdom\", \"Hungary\", \"United States\", \"United States\", \"United Kingdom\", \"Australia\", \"United States\", \"France\", \"United States\", \"Australia\", \"United Kingdom\", \"Turkey\", \"United States\", \"Italy\", \"Malaysia\", \"United States\", \"United States\", \"United States\", \"United States\", \"United Kingdom\", \"Canada\", \"United Kingdom\", \"Nigeria\", \"United Kingdom\", \"United States\", \"Turkey\", \"United States\", \"United States\", \"Poland\", \"Netherlands\", \"United States\", \"United States\", \"United States\", \"United States\", \"United States\", \"United States\", \"United States\", \"Canada\", \"Singapore\", \"India\", \"Italy\", \"United States\", \"United Kingdom\", \"United Kingdom\", \"United States\", \"United States\", \"United States\", \"United States\", \"Australia\", \"Pakistan\", \"India\", \"United States\", \"United States\", \"United States\", \"United States\", \"United States\", \"Canada\", \"Egypt\", \"India\", \"United States\", \"United Kingdom\", \"Canada\", \"United States\", \"United States\", \"Mexico\", \"India\", \"United States\", \"India\", \"India\", \"India\", \"India\", \"India\", \"Mexico\", \"China\", \"Egypt\", \"India\", \"India\", \"India\", \"France\", \"United States\", \"Thailand\", \"Thailand\", \"Thailand\", \"Singapore\", \"United States\", \"South Korea\", \"United States\", \"Japan\", \"United States\", \"United States\", \"Russia\", \"United States\", \"South Korea\", \"United States\", \"South Korea\", \"United States\", \"United States\", \"United Kingdom\", \"United States\", \"Mexico\", \"Croatia\", \"Philippines\", \"United States\", \"United States\", \"United States\", \"Turkey\", \"Philippines\", \"Taiwan\", \"Mexico\", \"United States\", \"United States\", \"Hong Kong\", \"United Kingdom\", \"United States\", \"Japan\", \"Taiwan\", \"Spain\", \"Singapore\", \"India\", \"United States\", \"United States\", \"Egypt\", \"Egypt\", \"Japan\", \"Japan\", \"Spain\", \"Australia\", \"Turkey\", \"India\", \"United States\", \"Brazil\", \"United States\", \"United States\", \"United States\", \"Egypt\", \"Canada\", \"India\", \"India\", \"India\", \"United States\", \"France\", \"Pakistan\", \"Pakistan\", \"India\", \"United Arab Emirates\", \"United States\", \"Spain\", \"Mexico\", \"United States\", \"Japan\", \"India\", \"United States\", \"United States\", \"Mexico\", \"India\", \"United States\", \"Sweden\", \"India\", \"United States\", \"Australia\", \"United Kingdom\"], \"xaxis\": \"x\", \"yaxis\": \"y\"}],\n",
              "                        {\"barmode\": \"relative\", \"legend\": {\"tracegroupgap\": 0}, \"margin\": {\"t\": 60}, \"template\": {\"data\": {\"bar\": [{\"error_x\": {\"color\": \"#2a3f5f\"}, \"error_y\": {\"color\": \"#2a3f5f\"}, \"marker\": {\"line\": {\"color\": \"#E5ECF6\", \"width\": 0.5}}, \"type\": \"bar\"}], \"barpolar\": [{\"marker\": {\"line\": {\"color\": \"#E5ECF6\", \"width\": 0.5}}, \"type\": \"barpolar\"}], \"carpet\": [{\"aaxis\": {\"endlinecolor\": \"#2a3f5f\", \"gridcolor\": \"white\", \"linecolor\": \"white\", \"minorgridcolor\": \"white\", \"startlinecolor\": \"#2a3f5f\"}, \"baxis\": {\"endlinecolor\": \"#2a3f5f\", \"gridcolor\": \"white\", \"linecolor\": \"white\", \"minorgridcolor\": \"white\", \"startlinecolor\": \"#2a3f5f\"}, \"type\": \"carpet\"}], \"choropleth\": [{\"colorbar\": {\"outlinewidth\": 0, \"ticks\": \"\"}, \"type\": \"choropleth\"}], \"contour\": [{\"colorbar\": {\"outlinewidth\": 0, \"ticks\": \"\"}, \"colorscale\": [[0.0, \"#0d0887\"], [0.1111111111111111, \"#46039f\"], [0.2222222222222222, \"#7201a8\"], [0.3333333333333333, \"#9c179e\"], [0.4444444444444444, \"#bd3786\"], [0.5555555555555556, \"#d8576b\"], [0.6666666666666666, \"#ed7953\"], [0.7777777777777778, \"#fb9f3a\"], [0.8888888888888888, \"#fdca26\"], [1.0, \"#f0f921\"]], \"type\": \"contour\"}], \"contourcarpet\": [{\"colorbar\": {\"outlinewidth\": 0, \"ticks\": \"\"}, \"type\": \"contourcarpet\"}], \"heatmap\": [{\"colorbar\": {\"outlinewidth\": 0, \"ticks\": \"\"}, \"colorscale\": [[0.0, \"#0d0887\"], [0.1111111111111111, \"#46039f\"], [0.2222222222222222, \"#7201a8\"], [0.3333333333333333, \"#9c179e\"], [0.4444444444444444, \"#bd3786\"], [0.5555555555555556, \"#d8576b\"], [0.6666666666666666, \"#ed7953\"], [0.7777777777777778, \"#fb9f3a\"], [0.8888888888888888, \"#fdca26\"], [1.0, \"#f0f921\"]], \"type\": \"heatmap\"}], \"heatmapgl\": [{\"colorbar\": {\"outlinewidth\": 0, \"ticks\": \"\"}, \"colorscale\": [[0.0, \"#0d0887\"], [0.1111111111111111, \"#46039f\"], [0.2222222222222222, \"#7201a8\"], [0.3333333333333333, \"#9c179e\"], [0.4444444444444444, \"#bd3786\"], [0.5555555555555556, \"#d8576b\"], [0.6666666666666666, \"#ed7953\"], [0.7777777777777778, \"#fb9f3a\"], [0.8888888888888888, \"#fdca26\"], [1.0, \"#f0f921\"]], \"type\": \"heatmapgl\"}], \"histogram\": [{\"marker\": {\"colorbar\": {\"outlinewidth\": 0, \"ticks\": \"\"}}, \"type\": \"histogram\"}], \"histogram2d\": [{\"colorbar\": {\"outlinewidth\": 0, \"ticks\": \"\"}, \"colorscale\": [[0.0, \"#0d0887\"], [0.1111111111111111, \"#46039f\"], [0.2222222222222222, \"#7201a8\"], [0.3333333333333333, \"#9c179e\"], [0.4444444444444444, \"#bd3786\"], [0.5555555555555556, \"#d8576b\"], [0.6666666666666666, \"#ed7953\"], [0.7777777777777778, \"#fb9f3a\"], [0.8888888888888888, \"#fdca26\"], [1.0, \"#f0f921\"]], \"type\": \"histogram2d\"}], \"histogram2dcontour\": [{\"colorbar\": {\"outlinewidth\": 0, \"ticks\": \"\"}, \"colorscale\": [[0.0, \"#0d0887\"], [0.1111111111111111, \"#46039f\"], [0.2222222222222222, \"#7201a8\"], [0.3333333333333333, \"#9c179e\"], [0.4444444444444444, \"#bd3786\"], [0.5555555555555556, \"#d8576b\"], [0.6666666666666666, \"#ed7953\"], [0.7777777777777778, \"#fb9f3a\"], [0.8888888888888888, \"#fdca26\"], [1.0, \"#f0f921\"]], \"type\": \"histogram2dcontour\"}], \"mesh3d\": [{\"colorbar\": {\"outlinewidth\": 0, \"ticks\": \"\"}, \"type\": \"mesh3d\"}], \"parcoords\": [{\"line\": {\"colorbar\": {\"outlinewidth\": 0, \"ticks\": \"\"}}, \"type\": \"parcoords\"}], \"pie\": [{\"automargin\": true, \"type\": \"pie\"}], \"scatter\": [{\"marker\": {\"colorbar\": {\"outlinewidth\": 0, \"ticks\": \"\"}}, \"type\": \"scatter\"}], \"scatter3d\": [{\"line\": {\"colorbar\": {\"outlinewidth\": 0, \"ticks\": \"\"}}, \"marker\": {\"colorbar\": {\"outlinewidth\": 0, \"ticks\": \"\"}}, \"type\": \"scatter3d\"}], \"scattercarpet\": [{\"marker\": {\"colorbar\": {\"outlinewidth\": 0, \"ticks\": \"\"}}, \"type\": \"scattercarpet\"}], \"scattergeo\": [{\"marker\": {\"colorbar\": {\"outlinewidth\": 0, \"ticks\": \"\"}}, \"type\": \"scattergeo\"}], \"scattergl\": [{\"marker\": {\"colorbar\": {\"outlinewidth\": 0, \"ticks\": \"\"}}, \"type\": \"scattergl\"}], \"scattermapbox\": [{\"marker\": {\"colorbar\": {\"outlinewidth\": 0, \"ticks\": \"\"}}, \"type\": \"scattermapbox\"}], \"scatterpolar\": [{\"marker\": {\"colorbar\": {\"outlinewidth\": 0, \"ticks\": \"\"}}, \"type\": \"scatterpolar\"}], \"scatterpolargl\": [{\"marker\": {\"colorbar\": {\"outlinewidth\": 0, \"ticks\": \"\"}}, \"type\": \"scatterpolargl\"}], \"scatterternary\": [{\"marker\": {\"colorbar\": {\"outlinewidth\": 0, \"ticks\": \"\"}}, \"type\": \"scatterternary\"}], \"surface\": [{\"colorbar\": {\"outlinewidth\": 0, \"ticks\": \"\"}, \"colorscale\": [[0.0, \"#0d0887\"], [0.1111111111111111, \"#46039f\"], [0.2222222222222222, \"#7201a8\"], [0.3333333333333333, \"#9c179e\"], [0.4444444444444444, \"#bd3786\"], [0.5555555555555556, \"#d8576b\"], [0.6666666666666666, \"#ed7953\"], [0.7777777777777778, \"#fb9f3a\"], [0.8888888888888888, \"#fdca26\"], [1.0, \"#f0f921\"]], \"type\": \"surface\"}], \"table\": [{\"cells\": {\"fill\": {\"color\": \"#EBF0F8\"}, \"line\": {\"color\": \"white\"}}, \"header\": {\"fill\": {\"color\": \"#C8D4E3\"}, \"line\": {\"color\": \"white\"}}, \"type\": \"table\"}]}, \"layout\": {\"annotationdefaults\": {\"arrowcolor\": \"#2a3f5f\", \"arrowhead\": 0, \"arrowwidth\": 1}, \"coloraxis\": {\"colorbar\": {\"outlinewidth\": 0, \"ticks\": \"\"}}, \"colorscale\": {\"diverging\": [[0, \"#8e0152\"], [0.1, \"#c51b7d\"], [0.2, \"#de77ae\"], [0.3, \"#f1b6da\"], [0.4, \"#fde0ef\"], [0.5, \"#f7f7f7\"], [0.6, \"#e6f5d0\"], [0.7, \"#b8e186\"], [0.8, \"#7fbc41\"], [0.9, \"#4d9221\"], [1, \"#276419\"]], \"sequential\": [[0.0, \"#0d0887\"], [0.1111111111111111, \"#46039f\"], [0.2222222222222222, \"#7201a8\"], [0.3333333333333333, \"#9c179e\"], [0.4444444444444444, \"#bd3786\"], [0.5555555555555556, \"#d8576b\"], [0.6666666666666666, \"#ed7953\"], [0.7777777777777778, \"#fb9f3a\"], [0.8888888888888888, \"#fdca26\"], [1.0, \"#f0f921\"]], \"sequentialminus\": [[0.0, \"#0d0887\"], [0.1111111111111111, \"#46039f\"], [0.2222222222222222, \"#7201a8\"], [0.3333333333333333, \"#9c179e\"], [0.4444444444444444, \"#bd3786\"], [0.5555555555555556, \"#d8576b\"], [0.6666666666666666, \"#ed7953\"], [0.7777777777777778, \"#fb9f3a\"], [0.8888888888888888, \"#fdca26\"], [1.0, \"#f0f921\"]]}, \"colorway\": [\"#636efa\", \"#EF553B\", \"#00cc96\", \"#ab63fa\", \"#FFA15A\", \"#19d3f3\", \"#FF6692\", \"#B6E880\", \"#FF97FF\", \"#FECB52\"], \"font\": {\"color\": \"#2a3f5f\"}, \"geo\": {\"bgcolor\": \"white\", \"lakecolor\": \"white\", \"landcolor\": \"#E5ECF6\", \"showlakes\": true, \"showland\": true, \"subunitcolor\": \"white\"}, \"hoverlabel\": {\"align\": \"left\"}, \"hovermode\": \"closest\", \"mapbox\": {\"style\": \"light\"}, \"paper_bgcolor\": \"white\", \"plot_bgcolor\": \"#E5ECF6\", \"polar\": {\"angularaxis\": {\"gridcolor\": \"white\", \"linecolor\": \"white\", \"ticks\": \"\"}, \"bgcolor\": \"#E5ECF6\", \"radialaxis\": {\"gridcolor\": \"white\", \"linecolor\": \"white\", \"ticks\": \"\"}}, \"scene\": {\"xaxis\": {\"backgroundcolor\": \"#E5ECF6\", \"gridcolor\": \"white\", \"gridwidth\": 2, \"linecolor\": \"white\", \"showbackground\": true, \"ticks\": \"\", \"zerolinecolor\": \"white\"}, \"yaxis\": {\"backgroundcolor\": \"#E5ECF6\", \"gridcolor\": \"white\", \"gridwidth\": 2, \"linecolor\": \"white\", \"showbackground\": true, \"ticks\": \"\", \"zerolinecolor\": \"white\"}, \"zaxis\": {\"backgroundcolor\": \"#E5ECF6\", \"gridcolor\": \"white\", \"gridwidth\": 2, \"linecolor\": \"white\", \"showbackground\": true, \"ticks\": \"\", \"zerolinecolor\": \"white\"}}, \"shapedefaults\": {\"line\": {\"color\": \"#2a3f5f\"}}, \"ternary\": {\"aaxis\": {\"gridcolor\": \"white\", \"linecolor\": \"white\", \"ticks\": \"\"}, \"baxis\": {\"gridcolor\": \"white\", \"linecolor\": \"white\", \"ticks\": \"\"}, \"bgcolor\": \"#E5ECF6\", \"caxis\": {\"gridcolor\": \"white\", \"linecolor\": \"white\", \"ticks\": \"\"}}, \"title\": {\"x\": 0.05}, \"xaxis\": {\"automargin\": true, \"gridcolor\": \"white\", \"linecolor\": \"white\", \"ticks\": \"\", \"title\": {\"standoff\": 15}, \"zerolinecolor\": \"white\", \"zerolinewidth\": 2}, \"yaxis\": {\"automargin\": true, \"gridcolor\": \"white\", \"linecolor\": \"white\", \"ticks\": \"\", \"title\": {\"standoff\": 15}, \"zerolinecolor\": \"white\", \"zerolinewidth\": 2}}}, \"xaxis\": {\"anchor\": \"y\", \"categoryorder\": \"total ascending\", \"domain\": [0.0, 1.0], \"title\": {\"text\": \"country_main\"}}, \"yaxis\": {\"anchor\": \"x\", \"domain\": [0.0, 1.0], \"title\": {\"text\": \"count\"}}},\n",
              "                        {\"responsive\": true}\n",
              "                    ).then(function(){\n",
              "                            \n",
              "var gd = document.getElementById('9734562b-051d-4d95-abd3-ba652419ba33');\n",
              "var x = new MutationObserver(function (mutations, observer) {{\n",
              "        var display = window.getComputedStyle(gd).display;\n",
              "        if (!display || display === 'none') {{\n",
              "            console.log([gd, 'removed!']);\n",
              "            Plotly.purge(gd);\n",
              "            observer.disconnect();\n",
              "        }}\n",
              "}});\n",
              "\n",
              "// Listen for the removal of the full notebook cells\n",
              "var notebookContainer = gd.closest('#notebook-container');\n",
              "if (notebookContainer) {{\n",
              "    x.observe(notebookContainer, {childList: true});\n",
              "}}\n",
              "\n",
              "// Listen for the clearing of the current output cell\n",
              "var outputEl = gd.closest('.output');\n",
              "if (outputEl) {{\n",
              "    x.observe(outputEl, {childList: true});\n",
              "}}\n",
              "\n",
              "                        })\n",
              "                };\n",
              "                \n",
              "            </script>\n",
              "        </div>\n",
              "</body>\n",
              "</html>"
            ]
          },
          "metadata": {
            "tags": []
          }
        }
      ]
    },
    {
      "cell_type": "markdown",
      "metadata": {
        "id": "mBDsf45cfs48"
      },
      "source": [
        "The above histogram represents the content added with respect to the country_main column."
      ]
    },
    {
      "cell_type": "code",
      "metadata": {
        "id": "Vq1QHDorfyZC"
      },
      "source": [
        "def generate_age_df(df):\n",
        "    new_df = df.groupby(['target_age']).agg({'show_id': 'count'}).reset_index()\n",
        "    new_df = new_df[new_df['show_id'] != 0]\n",
        "    new_df.columns = ['target_age', 'counts']\n",
        "    new_df = new_df.sort_values('target_age')\n",
        "    \n",
        "    return new_df"
      ],
      "execution_count": 55,
      "outputs": []
    },
    {
      "cell_type": "code",
      "metadata": {
        "colab": {
          "base_uri": "https://localhost:8080/",
          "height": 567
        },
        "id": "OpWVwMK8f5N9",
        "outputId": "7523df7c-84a4-47ac-92c9-be6b1dbdeba5"
      },
      "source": [
        "movie_age_df = generate_age_df(movie_df)\n",
        "fig = px.pie(labels = movie_age_df['target_age'], values = movie_age_df['counts'], names = movie_age_df['target_age'], width = 550, height = 550)\n",
        "\n",
        "fig.update_traces(textposition = 'inside', \n",
        "                  textinfo = 'percent + label', \n",
        "                  hole = 0.75, \n",
        "                  marker = dict(colors = ['#3D0C02', '#800000'  , '#C11B17','#C0C0C0'], \n",
        "                                line = dict(color = 'white', width = 2)))\n",
        "\n",
        "fig.update_layout(annotations = [dict(text = 'Movies', \n",
        "                                      x = 0.5, y = 0.5, font_size = 40, showarrow = False,                                       \n",
        "                                      font_color = 'black')],\n",
        "                  showlegend = False)\n",
        "\n",
        "fig.show()"
      ],
      "execution_count": 56,
      "outputs": [
        {
          "output_type": "display_data",
          "data": {
            "text/html": [
              "<html>\n",
              "<head><meta charset=\"utf-8\" /></head>\n",
              "<body>\n",
              "    <div>\n",
              "            <script src=\"https://cdnjs.cloudflare.com/ajax/libs/mathjax/2.7.5/MathJax.js?config=TeX-AMS-MML_SVG\"></script><script type=\"text/javascript\">if (window.MathJax) {MathJax.Hub.Config({SVG: {font: \"STIX-Web\"}});}</script>\n",
              "                <script type=\"text/javascript\">window.PlotlyConfig = {MathJaxConfig: 'local'};</script>\n",
              "        <script src=\"https://cdn.plot.ly/plotly-latest.min.js\"></script>    \n",
              "            <div id=\"b6838311-d8bb-4c2e-9322-e14996b0df25\" class=\"plotly-graph-div\" style=\"height:550px; width:550px;\"></div>\n",
              "            <script type=\"text/javascript\">\n",
              "                \n",
              "                    window.PLOTLYENV=window.PLOTLYENV || {};\n",
              "                    \n",
              "                if (document.getElementById(\"b6838311-d8bb-4c2e-9322-e14996b0df25\")) {\n",
              "                    Plotly.newPlot(\n",
              "                        'b6838311-d8bb-4c2e-9322-e14996b0df25',\n",
              "                        [{\"domain\": {\"x\": [0.0, 1.0], \"y\": [0.0, 1.0]}, \"hole\": 0.75, \"hoverlabel\": {\"namelength\": 0}, \"hovertemplate\": \"label=%{label}<br>value=%{value}\", \"labels\": [\"Adults\", \"Kids\", \"Older Kids\", \"Teens\", \"United States\"], \"legendgroup\": \"\", \"marker\": {\"colors\": [\"#3D0C02\", \"#800000\", \"#C11B17\", \"#C0C0C0\"], \"line\": {\"color\": \"white\", \"width\": 2}}, \"name\": \"\", \"showlegend\": true, \"textinfo\": \"percent+label\", \"textposition\": \"inside\", \"type\": \"pie\", \"values\": [2595, 267, 852, 1658, 5]}],\n",
              "                        {\"annotations\": [{\"font\": {\"color\": \"black\", \"size\": 40}, \"showarrow\": false, \"text\": \"Movies\", \"x\": 0.5, \"y\": 0.5}], \"height\": 550, \"legend\": {\"tracegroupgap\": 0}, \"margin\": {\"t\": 60}, \"showlegend\": false, \"template\": {\"data\": {\"bar\": [{\"error_x\": {\"color\": \"#2a3f5f\"}, \"error_y\": {\"color\": \"#2a3f5f\"}, \"marker\": {\"line\": {\"color\": \"#E5ECF6\", \"width\": 0.5}}, \"type\": \"bar\"}], \"barpolar\": [{\"marker\": {\"line\": {\"color\": \"#E5ECF6\", \"width\": 0.5}}, \"type\": \"barpolar\"}], \"carpet\": [{\"aaxis\": {\"endlinecolor\": \"#2a3f5f\", \"gridcolor\": \"white\", \"linecolor\": \"white\", \"minorgridcolor\": \"white\", \"startlinecolor\": \"#2a3f5f\"}, \"baxis\": {\"endlinecolor\": \"#2a3f5f\", \"gridcolor\": \"white\", \"linecolor\": \"white\", \"minorgridcolor\": \"white\", \"startlinecolor\": \"#2a3f5f\"}, \"type\": \"carpet\"}], \"choropleth\": [{\"colorbar\": {\"outlinewidth\": 0, \"ticks\": \"\"}, \"type\": \"choropleth\"}], \"contour\": [{\"colorbar\": {\"outlinewidth\": 0, \"ticks\": \"\"}, \"colorscale\": [[0.0, \"#0d0887\"], [0.1111111111111111, \"#46039f\"], [0.2222222222222222, \"#7201a8\"], [0.3333333333333333, \"#9c179e\"], [0.4444444444444444, \"#bd3786\"], [0.5555555555555556, \"#d8576b\"], [0.6666666666666666, \"#ed7953\"], [0.7777777777777778, \"#fb9f3a\"], [0.8888888888888888, \"#fdca26\"], [1.0, \"#f0f921\"]], \"type\": \"contour\"}], \"contourcarpet\": [{\"colorbar\": {\"outlinewidth\": 0, \"ticks\": \"\"}, \"type\": \"contourcarpet\"}], \"heatmap\": [{\"colorbar\": {\"outlinewidth\": 0, \"ticks\": \"\"}, \"colorscale\": [[0.0, \"#0d0887\"], [0.1111111111111111, \"#46039f\"], [0.2222222222222222, \"#7201a8\"], [0.3333333333333333, \"#9c179e\"], [0.4444444444444444, \"#bd3786\"], [0.5555555555555556, \"#d8576b\"], [0.6666666666666666, \"#ed7953\"], [0.7777777777777778, \"#fb9f3a\"], [0.8888888888888888, \"#fdca26\"], [1.0, \"#f0f921\"]], \"type\": \"heatmap\"}], \"heatmapgl\": [{\"colorbar\": {\"outlinewidth\": 0, \"ticks\": \"\"}, \"colorscale\": [[0.0, \"#0d0887\"], [0.1111111111111111, \"#46039f\"], [0.2222222222222222, \"#7201a8\"], [0.3333333333333333, \"#9c179e\"], [0.4444444444444444, \"#bd3786\"], [0.5555555555555556, \"#d8576b\"], [0.6666666666666666, \"#ed7953\"], [0.7777777777777778, \"#fb9f3a\"], [0.8888888888888888, \"#fdca26\"], [1.0, \"#f0f921\"]], \"type\": \"heatmapgl\"}], \"histogram\": [{\"marker\": {\"colorbar\": {\"outlinewidth\": 0, \"ticks\": \"\"}}, \"type\": \"histogram\"}], \"histogram2d\": [{\"colorbar\": {\"outlinewidth\": 0, \"ticks\": \"\"}, \"colorscale\": [[0.0, \"#0d0887\"], [0.1111111111111111, \"#46039f\"], [0.2222222222222222, \"#7201a8\"], [0.3333333333333333, \"#9c179e\"], [0.4444444444444444, \"#bd3786\"], [0.5555555555555556, \"#d8576b\"], [0.6666666666666666, \"#ed7953\"], [0.7777777777777778, \"#fb9f3a\"], [0.8888888888888888, \"#fdca26\"], [1.0, \"#f0f921\"]], \"type\": \"histogram2d\"}], \"histogram2dcontour\": [{\"colorbar\": {\"outlinewidth\": 0, \"ticks\": \"\"}, \"colorscale\": [[0.0, \"#0d0887\"], [0.1111111111111111, \"#46039f\"], [0.2222222222222222, \"#7201a8\"], [0.3333333333333333, \"#9c179e\"], [0.4444444444444444, \"#bd3786\"], [0.5555555555555556, \"#d8576b\"], [0.6666666666666666, \"#ed7953\"], [0.7777777777777778, \"#fb9f3a\"], [0.8888888888888888, \"#fdca26\"], [1.0, \"#f0f921\"]], \"type\": \"histogram2dcontour\"}], \"mesh3d\": [{\"colorbar\": {\"outlinewidth\": 0, \"ticks\": \"\"}, \"type\": \"mesh3d\"}], \"parcoords\": [{\"line\": {\"colorbar\": {\"outlinewidth\": 0, \"ticks\": \"\"}}, \"type\": \"parcoords\"}], \"pie\": [{\"automargin\": true, \"type\": \"pie\"}], \"scatter\": [{\"marker\": {\"colorbar\": {\"outlinewidth\": 0, \"ticks\": \"\"}}, \"type\": \"scatter\"}], \"scatter3d\": [{\"line\": {\"colorbar\": {\"outlinewidth\": 0, \"ticks\": \"\"}}, \"marker\": {\"colorbar\": {\"outlinewidth\": 0, \"ticks\": \"\"}}, \"type\": \"scatter3d\"}], \"scattercarpet\": [{\"marker\": {\"colorbar\": {\"outlinewidth\": 0, \"ticks\": \"\"}}, \"type\": \"scattercarpet\"}], \"scattergeo\": [{\"marker\": {\"colorbar\": {\"outlinewidth\": 0, \"ticks\": \"\"}}, \"type\": \"scattergeo\"}], \"scattergl\": [{\"marker\": {\"colorbar\": {\"outlinewidth\": 0, \"ticks\": \"\"}}, \"type\": \"scattergl\"}], \"scattermapbox\": [{\"marker\": {\"colorbar\": {\"outlinewidth\": 0, \"ticks\": \"\"}}, \"type\": \"scattermapbox\"}], \"scatterpolar\": [{\"marker\": {\"colorbar\": {\"outlinewidth\": 0, \"ticks\": \"\"}}, \"type\": \"scatterpolar\"}], \"scatterpolargl\": [{\"marker\": {\"colorbar\": {\"outlinewidth\": 0, \"ticks\": \"\"}}, \"type\": \"scatterpolargl\"}], \"scatterternary\": [{\"marker\": {\"colorbar\": {\"outlinewidth\": 0, \"ticks\": \"\"}}, \"type\": \"scatterternary\"}], \"surface\": [{\"colorbar\": {\"outlinewidth\": 0, \"ticks\": \"\"}, \"colorscale\": [[0.0, \"#0d0887\"], [0.1111111111111111, \"#46039f\"], [0.2222222222222222, \"#7201a8\"], [0.3333333333333333, \"#9c179e\"], [0.4444444444444444, \"#bd3786\"], [0.5555555555555556, \"#d8576b\"], [0.6666666666666666, \"#ed7953\"], [0.7777777777777778, \"#fb9f3a\"], [0.8888888888888888, \"#fdca26\"], [1.0, \"#f0f921\"]], \"type\": \"surface\"}], \"table\": [{\"cells\": {\"fill\": {\"color\": \"#EBF0F8\"}, \"line\": {\"color\": \"white\"}}, \"header\": {\"fill\": {\"color\": \"#C8D4E3\"}, \"line\": {\"color\": \"white\"}}, \"type\": \"table\"}]}, \"layout\": {\"annotationdefaults\": {\"arrowcolor\": \"#2a3f5f\", \"arrowhead\": 0, \"arrowwidth\": 1}, \"coloraxis\": {\"colorbar\": {\"outlinewidth\": 0, \"ticks\": \"\"}}, \"colorscale\": {\"diverging\": [[0, \"#8e0152\"], [0.1, \"#c51b7d\"], [0.2, \"#de77ae\"], [0.3, \"#f1b6da\"], [0.4, \"#fde0ef\"], [0.5, \"#f7f7f7\"], [0.6, \"#e6f5d0\"], [0.7, \"#b8e186\"], [0.8, \"#7fbc41\"], [0.9, \"#4d9221\"], [1, \"#276419\"]], \"sequential\": [[0.0, \"#0d0887\"], [0.1111111111111111, \"#46039f\"], [0.2222222222222222, \"#7201a8\"], [0.3333333333333333, \"#9c179e\"], [0.4444444444444444, \"#bd3786\"], [0.5555555555555556, \"#d8576b\"], [0.6666666666666666, \"#ed7953\"], [0.7777777777777778, \"#fb9f3a\"], [0.8888888888888888, \"#fdca26\"], [1.0, \"#f0f921\"]], \"sequentialminus\": [[0.0, \"#0d0887\"], [0.1111111111111111, \"#46039f\"], [0.2222222222222222, \"#7201a8\"], [0.3333333333333333, \"#9c179e\"], [0.4444444444444444, \"#bd3786\"], [0.5555555555555556, \"#d8576b\"], [0.6666666666666666, \"#ed7953\"], [0.7777777777777778, \"#fb9f3a\"], [0.8888888888888888, \"#fdca26\"], [1.0, \"#f0f921\"]]}, \"colorway\": [\"#636efa\", \"#EF553B\", \"#00cc96\", \"#ab63fa\", \"#FFA15A\", \"#19d3f3\", \"#FF6692\", \"#B6E880\", \"#FF97FF\", \"#FECB52\"], \"font\": {\"color\": \"#2a3f5f\"}, \"geo\": {\"bgcolor\": \"white\", \"lakecolor\": \"white\", \"landcolor\": \"#E5ECF6\", \"showlakes\": true, \"showland\": true, \"subunitcolor\": \"white\"}, \"hoverlabel\": {\"align\": \"left\"}, \"hovermode\": \"closest\", \"mapbox\": {\"style\": \"light\"}, \"paper_bgcolor\": \"white\", \"plot_bgcolor\": \"#E5ECF6\", \"polar\": {\"angularaxis\": {\"gridcolor\": \"white\", \"linecolor\": \"white\", \"ticks\": \"\"}, \"bgcolor\": \"#E5ECF6\", \"radialaxis\": {\"gridcolor\": \"white\", \"linecolor\": \"white\", \"ticks\": \"\"}}, \"scene\": {\"xaxis\": {\"backgroundcolor\": \"#E5ECF6\", \"gridcolor\": \"white\", \"gridwidth\": 2, \"linecolor\": \"white\", \"showbackground\": true, \"ticks\": \"\", \"zerolinecolor\": \"white\"}, \"yaxis\": {\"backgroundcolor\": \"#E5ECF6\", \"gridcolor\": \"white\", \"gridwidth\": 2, \"linecolor\": \"white\", \"showbackground\": true, \"ticks\": \"\", \"zerolinecolor\": \"white\"}, \"zaxis\": {\"backgroundcolor\": \"#E5ECF6\", \"gridcolor\": \"white\", \"gridwidth\": 2, \"linecolor\": \"white\", \"showbackground\": true, \"ticks\": \"\", \"zerolinecolor\": \"white\"}}, \"shapedefaults\": {\"line\": {\"color\": \"#2a3f5f\"}}, \"ternary\": {\"aaxis\": {\"gridcolor\": \"white\", \"linecolor\": \"white\", \"ticks\": \"\"}, \"baxis\": {\"gridcolor\": \"white\", \"linecolor\": \"white\", \"ticks\": \"\"}, \"bgcolor\": \"#E5ECF6\", \"caxis\": {\"gridcolor\": \"white\", \"linecolor\": \"white\", \"ticks\": \"\"}}, \"title\": {\"x\": 0.05}, \"xaxis\": {\"automargin\": true, \"gridcolor\": \"white\", \"linecolor\": \"white\", \"ticks\": \"\", \"title\": {\"standoff\": 15}, \"zerolinecolor\": \"white\", \"zerolinewidth\": 2}, \"yaxis\": {\"automargin\": true, \"gridcolor\": \"white\", \"linecolor\": \"white\", \"ticks\": \"\", \"title\": {\"standoff\": 15}, \"zerolinecolor\": \"white\", \"zerolinewidth\": 2}}}, \"width\": 550},\n",
              "                        {\"responsive\": true}\n",
              "                    ).then(function(){\n",
              "                            \n",
              "var gd = document.getElementById('b6838311-d8bb-4c2e-9322-e14996b0df25');\n",
              "var x = new MutationObserver(function (mutations, observer) {{\n",
              "        var display = window.getComputedStyle(gd).display;\n",
              "        if (!display || display === 'none') {{\n",
              "            console.log([gd, 'removed!']);\n",
              "            Plotly.purge(gd);\n",
              "            observer.disconnect();\n",
              "        }}\n",
              "}});\n",
              "\n",
              "// Listen for the removal of the full notebook cells\n",
              "var notebookContainer = gd.closest('#notebook-container');\n",
              "if (notebookContainer) {{\n",
              "    x.observe(notebookContainer, {childList: true});\n",
              "}}\n",
              "\n",
              "// Listen for the clearing of the current output cell\n",
              "var outputEl = gd.closest('.output');\n",
              "if (outputEl) {{\n",
              "    x.observe(outputEl, {childList: true});\n",
              "}}\n",
              "\n",
              "                        })\n",
              "                };\n",
              "                \n",
              "            </script>\n",
              "        </div>\n",
              "</body>\n",
              "</html>"
            ]
          },
          "metadata": {
            "tags": []
          }
        }
      ]
    },
    {
      "cell_type": "markdown",
      "metadata": {
        "id": "0E5wb_qpgErN"
      },
      "source": [
        "Conclusion: The above plot shows the percentage of movies added based upon the target age. As one can see, the Adults section scores the highest number with 43.8%."
      ]
    },
    {
      "cell_type": "code",
      "metadata": {
        "colab": {
          "base_uri": "https://localhost:8080/",
          "height": 567
        },
        "id": "pOKG8FfjgKJE",
        "outputId": "a5b29029-986e-4203-a3b1-4c9606520c39"
      },
      "source": [
        "tv_age_df = generate_age_df(tv_df)\n",
        "fig = px.pie(labels = tv_age_df['target_age'], values = tv_age_df['counts'], names = tv_age_df['target_age'], width = 550, height = 550)\n",
        "\n",
        "fig.update_traces(textposition = 'inside', \n",
        "                  textinfo = 'percent + label', \n",
        "                  hole = 0.75, \n",
        "                  marker = dict(colors = ['#3D0C02', '#800000'  , '#C11B17','#C0C0C0'], \n",
        "                                line = dict(color = 'white', width = 2)))\n",
        "\n",
        "fig.update_layout(annotations = [dict(text = 'TV Series', \n",
        "                                      x = 0.5, y = 0.5, font_size = 36, showarrow = False,                                       \n",
        "                                      font_color = 'black')],\n",
        "                  showlegend = False)\n",
        "\n",
        "fig.show()"
      ],
      "execution_count": 57,
      "outputs": [
        {
          "output_type": "display_data",
          "data": {
            "text/html": [
              "<html>\n",
              "<head><meta charset=\"utf-8\" /></head>\n",
              "<body>\n",
              "    <div>\n",
              "            <script src=\"https://cdnjs.cloudflare.com/ajax/libs/mathjax/2.7.5/MathJax.js?config=TeX-AMS-MML_SVG\"></script><script type=\"text/javascript\">if (window.MathJax) {MathJax.Hub.Config({SVG: {font: \"STIX-Web\"}});}</script>\n",
              "                <script type=\"text/javascript\">window.PlotlyConfig = {MathJaxConfig: 'local'};</script>\n",
              "        <script src=\"https://cdn.plot.ly/plotly-latest.min.js\"></script>    \n",
              "            <div id=\"34f99d43-4f43-4d78-9df8-38fd1aea8579\" class=\"plotly-graph-div\" style=\"height:550px; width:550px;\"></div>\n",
              "            <script type=\"text/javascript\">\n",
              "                \n",
              "                    window.PLOTLYENV=window.PLOTLYENV || {};\n",
              "                    \n",
              "                if (document.getElementById(\"34f99d43-4f43-4d78-9df8-38fd1aea8579\")) {\n",
              "                    Plotly.newPlot(\n",
              "                        '34f99d43-4f43-4d78-9df8-38fd1aea8579',\n",
              "                        [{\"domain\": {\"x\": [0.0, 1.0], \"y\": [0.0, 1.0]}, \"hole\": 0.75, \"hoverlabel\": {\"namelength\": 0}, \"hovertemplate\": \"label=%{label}<br>value=%{value}\", \"labels\": [\"Adults\", \"Kids\", \"Older Kids\", \"Teens\", \"United States\"], \"legendgroup\": \"\", \"marker\": {\"colors\": [\"#3D0C02\", \"#800000\", \"#C11B17\", \"#C0C0C0\"], \"line\": {\"color\": \"white\", \"width\": 2}}, \"name\": \"\", \"showlegend\": true, \"textinfo\": \"percent+label\", \"textposition\": \"inside\", \"type\": \"pie\", \"values\": [1025, 246, 478, 659, 2]}],\n",
              "                        {\"annotations\": [{\"font\": {\"color\": \"black\", \"size\": 36}, \"showarrow\": false, \"text\": \"TV Series\", \"x\": 0.5, \"y\": 0.5}], \"height\": 550, \"legend\": {\"tracegroupgap\": 0}, \"margin\": {\"t\": 60}, \"showlegend\": false, \"template\": {\"data\": {\"bar\": [{\"error_x\": {\"color\": \"#2a3f5f\"}, \"error_y\": {\"color\": \"#2a3f5f\"}, \"marker\": {\"line\": {\"color\": \"#E5ECF6\", \"width\": 0.5}}, \"type\": \"bar\"}], \"barpolar\": [{\"marker\": {\"line\": {\"color\": \"#E5ECF6\", \"width\": 0.5}}, \"type\": \"barpolar\"}], \"carpet\": [{\"aaxis\": {\"endlinecolor\": \"#2a3f5f\", \"gridcolor\": \"white\", \"linecolor\": \"white\", \"minorgridcolor\": \"white\", \"startlinecolor\": \"#2a3f5f\"}, \"baxis\": {\"endlinecolor\": \"#2a3f5f\", \"gridcolor\": \"white\", \"linecolor\": \"white\", \"minorgridcolor\": \"white\", \"startlinecolor\": \"#2a3f5f\"}, \"type\": \"carpet\"}], \"choropleth\": [{\"colorbar\": {\"outlinewidth\": 0, \"ticks\": \"\"}, \"type\": \"choropleth\"}], \"contour\": [{\"colorbar\": {\"outlinewidth\": 0, \"ticks\": \"\"}, \"colorscale\": [[0.0, \"#0d0887\"], [0.1111111111111111, \"#46039f\"], [0.2222222222222222, \"#7201a8\"], [0.3333333333333333, \"#9c179e\"], [0.4444444444444444, \"#bd3786\"], [0.5555555555555556, \"#d8576b\"], [0.6666666666666666, \"#ed7953\"], [0.7777777777777778, \"#fb9f3a\"], [0.8888888888888888, \"#fdca26\"], [1.0, \"#f0f921\"]], \"type\": \"contour\"}], \"contourcarpet\": [{\"colorbar\": {\"outlinewidth\": 0, \"ticks\": \"\"}, \"type\": \"contourcarpet\"}], \"heatmap\": [{\"colorbar\": {\"outlinewidth\": 0, \"ticks\": \"\"}, \"colorscale\": [[0.0, \"#0d0887\"], [0.1111111111111111, \"#46039f\"], [0.2222222222222222, \"#7201a8\"], [0.3333333333333333, \"#9c179e\"], [0.4444444444444444, \"#bd3786\"], [0.5555555555555556, \"#d8576b\"], [0.6666666666666666, \"#ed7953\"], [0.7777777777777778, \"#fb9f3a\"], [0.8888888888888888, \"#fdca26\"], [1.0, \"#f0f921\"]], \"type\": \"heatmap\"}], \"heatmapgl\": [{\"colorbar\": {\"outlinewidth\": 0, \"ticks\": \"\"}, \"colorscale\": [[0.0, \"#0d0887\"], [0.1111111111111111, \"#46039f\"], [0.2222222222222222, \"#7201a8\"], [0.3333333333333333, \"#9c179e\"], [0.4444444444444444, \"#bd3786\"], [0.5555555555555556, \"#d8576b\"], [0.6666666666666666, \"#ed7953\"], [0.7777777777777778, \"#fb9f3a\"], [0.8888888888888888, \"#fdca26\"], [1.0, \"#f0f921\"]], \"type\": \"heatmapgl\"}], \"histogram\": [{\"marker\": {\"colorbar\": {\"outlinewidth\": 0, \"ticks\": \"\"}}, \"type\": \"histogram\"}], \"histogram2d\": [{\"colorbar\": {\"outlinewidth\": 0, \"ticks\": \"\"}, \"colorscale\": [[0.0, \"#0d0887\"], [0.1111111111111111, \"#46039f\"], [0.2222222222222222, \"#7201a8\"], [0.3333333333333333, \"#9c179e\"], [0.4444444444444444, \"#bd3786\"], [0.5555555555555556, \"#d8576b\"], [0.6666666666666666, \"#ed7953\"], [0.7777777777777778, \"#fb9f3a\"], [0.8888888888888888, \"#fdca26\"], [1.0, \"#f0f921\"]], \"type\": \"histogram2d\"}], \"histogram2dcontour\": [{\"colorbar\": {\"outlinewidth\": 0, \"ticks\": \"\"}, \"colorscale\": [[0.0, \"#0d0887\"], [0.1111111111111111, \"#46039f\"], [0.2222222222222222, \"#7201a8\"], [0.3333333333333333, \"#9c179e\"], [0.4444444444444444, \"#bd3786\"], [0.5555555555555556, \"#d8576b\"], [0.6666666666666666, \"#ed7953\"], [0.7777777777777778, \"#fb9f3a\"], [0.8888888888888888, \"#fdca26\"], [1.0, \"#f0f921\"]], \"type\": \"histogram2dcontour\"}], \"mesh3d\": [{\"colorbar\": {\"outlinewidth\": 0, \"ticks\": \"\"}, \"type\": \"mesh3d\"}], \"parcoords\": [{\"line\": {\"colorbar\": {\"outlinewidth\": 0, \"ticks\": \"\"}}, \"type\": \"parcoords\"}], \"pie\": [{\"automargin\": true, \"type\": \"pie\"}], \"scatter\": [{\"marker\": {\"colorbar\": {\"outlinewidth\": 0, \"ticks\": \"\"}}, \"type\": \"scatter\"}], \"scatter3d\": [{\"line\": {\"colorbar\": {\"outlinewidth\": 0, \"ticks\": \"\"}}, \"marker\": {\"colorbar\": {\"outlinewidth\": 0, \"ticks\": \"\"}}, \"type\": \"scatter3d\"}], \"scattercarpet\": [{\"marker\": {\"colorbar\": {\"outlinewidth\": 0, \"ticks\": \"\"}}, \"type\": \"scattercarpet\"}], \"scattergeo\": [{\"marker\": {\"colorbar\": {\"outlinewidth\": 0, \"ticks\": \"\"}}, \"type\": \"scattergeo\"}], \"scattergl\": [{\"marker\": {\"colorbar\": {\"outlinewidth\": 0, \"ticks\": \"\"}}, \"type\": \"scattergl\"}], \"scattermapbox\": [{\"marker\": {\"colorbar\": {\"outlinewidth\": 0, \"ticks\": \"\"}}, \"type\": \"scattermapbox\"}], \"scatterpolar\": [{\"marker\": {\"colorbar\": {\"outlinewidth\": 0, \"ticks\": \"\"}}, \"type\": \"scatterpolar\"}], \"scatterpolargl\": [{\"marker\": {\"colorbar\": {\"outlinewidth\": 0, \"ticks\": \"\"}}, \"type\": \"scatterpolargl\"}], \"scatterternary\": [{\"marker\": {\"colorbar\": {\"outlinewidth\": 0, \"ticks\": \"\"}}, \"type\": \"scatterternary\"}], \"surface\": [{\"colorbar\": {\"outlinewidth\": 0, \"ticks\": \"\"}, \"colorscale\": [[0.0, \"#0d0887\"], [0.1111111111111111, \"#46039f\"], [0.2222222222222222, \"#7201a8\"], [0.3333333333333333, \"#9c179e\"], [0.4444444444444444, \"#bd3786\"], [0.5555555555555556, \"#d8576b\"], [0.6666666666666666, \"#ed7953\"], [0.7777777777777778, \"#fb9f3a\"], [0.8888888888888888, \"#fdca26\"], [1.0, \"#f0f921\"]], \"type\": \"surface\"}], \"table\": [{\"cells\": {\"fill\": {\"color\": \"#EBF0F8\"}, \"line\": {\"color\": \"white\"}}, \"header\": {\"fill\": {\"color\": \"#C8D4E3\"}, \"line\": {\"color\": \"white\"}}, \"type\": \"table\"}]}, \"layout\": {\"annotationdefaults\": {\"arrowcolor\": \"#2a3f5f\", \"arrowhead\": 0, \"arrowwidth\": 1}, \"coloraxis\": {\"colorbar\": {\"outlinewidth\": 0, \"ticks\": \"\"}}, \"colorscale\": {\"diverging\": [[0, \"#8e0152\"], [0.1, \"#c51b7d\"], [0.2, \"#de77ae\"], [0.3, \"#f1b6da\"], [0.4, \"#fde0ef\"], [0.5, \"#f7f7f7\"], [0.6, \"#e6f5d0\"], [0.7, \"#b8e186\"], [0.8, \"#7fbc41\"], [0.9, \"#4d9221\"], [1, \"#276419\"]], \"sequential\": [[0.0, \"#0d0887\"], [0.1111111111111111, \"#46039f\"], [0.2222222222222222, \"#7201a8\"], [0.3333333333333333, \"#9c179e\"], [0.4444444444444444, \"#bd3786\"], [0.5555555555555556, \"#d8576b\"], [0.6666666666666666, \"#ed7953\"], [0.7777777777777778, \"#fb9f3a\"], [0.8888888888888888, \"#fdca26\"], [1.0, \"#f0f921\"]], \"sequentialminus\": [[0.0, \"#0d0887\"], [0.1111111111111111, \"#46039f\"], [0.2222222222222222, \"#7201a8\"], [0.3333333333333333, \"#9c179e\"], [0.4444444444444444, \"#bd3786\"], [0.5555555555555556, \"#d8576b\"], [0.6666666666666666, \"#ed7953\"], [0.7777777777777778, \"#fb9f3a\"], [0.8888888888888888, \"#fdca26\"], [1.0, \"#f0f921\"]]}, \"colorway\": [\"#636efa\", \"#EF553B\", \"#00cc96\", \"#ab63fa\", \"#FFA15A\", \"#19d3f3\", \"#FF6692\", \"#B6E880\", \"#FF97FF\", \"#FECB52\"], \"font\": {\"color\": \"#2a3f5f\"}, \"geo\": {\"bgcolor\": \"white\", \"lakecolor\": \"white\", \"landcolor\": \"#E5ECF6\", \"showlakes\": true, \"showland\": true, \"subunitcolor\": \"white\"}, \"hoverlabel\": {\"align\": \"left\"}, \"hovermode\": \"closest\", \"mapbox\": {\"style\": \"light\"}, \"paper_bgcolor\": \"white\", \"plot_bgcolor\": \"#E5ECF6\", \"polar\": {\"angularaxis\": {\"gridcolor\": \"white\", \"linecolor\": \"white\", \"ticks\": \"\"}, \"bgcolor\": \"#E5ECF6\", \"radialaxis\": {\"gridcolor\": \"white\", \"linecolor\": \"white\", \"ticks\": \"\"}}, \"scene\": {\"xaxis\": {\"backgroundcolor\": \"#E5ECF6\", \"gridcolor\": \"white\", \"gridwidth\": 2, \"linecolor\": \"white\", \"showbackground\": true, \"ticks\": \"\", \"zerolinecolor\": \"white\"}, \"yaxis\": {\"backgroundcolor\": \"#E5ECF6\", \"gridcolor\": \"white\", \"gridwidth\": 2, \"linecolor\": \"white\", \"showbackground\": true, \"ticks\": \"\", \"zerolinecolor\": \"white\"}, \"zaxis\": {\"backgroundcolor\": \"#E5ECF6\", \"gridcolor\": \"white\", \"gridwidth\": 2, \"linecolor\": \"white\", \"showbackground\": true, \"ticks\": \"\", \"zerolinecolor\": \"white\"}}, \"shapedefaults\": {\"line\": {\"color\": \"#2a3f5f\"}}, \"ternary\": {\"aaxis\": {\"gridcolor\": \"white\", \"linecolor\": \"white\", \"ticks\": \"\"}, \"baxis\": {\"gridcolor\": \"white\", \"linecolor\": \"white\", \"ticks\": \"\"}, \"bgcolor\": \"#E5ECF6\", \"caxis\": {\"gridcolor\": \"white\", \"linecolor\": \"white\", \"ticks\": \"\"}}, \"title\": {\"x\": 0.05}, \"xaxis\": {\"automargin\": true, \"gridcolor\": \"white\", \"linecolor\": \"white\", \"ticks\": \"\", \"title\": {\"standoff\": 15}, \"zerolinecolor\": \"white\", \"zerolinewidth\": 2}, \"yaxis\": {\"automargin\": true, \"gridcolor\": \"white\", \"linecolor\": \"white\", \"ticks\": \"\", \"title\": {\"standoff\": 15}, \"zerolinecolor\": \"white\", \"zerolinewidth\": 2}}}, \"width\": 550},\n",
              "                        {\"responsive\": true}\n",
              "                    ).then(function(){\n",
              "                            \n",
              "var gd = document.getElementById('34f99d43-4f43-4d78-9df8-38fd1aea8579');\n",
              "var x = new MutationObserver(function (mutations, observer) {{\n",
              "        var display = window.getComputedStyle(gd).display;\n",
              "        if (!display || display === 'none') {{\n",
              "            console.log([gd, 'removed!']);\n",
              "            Plotly.purge(gd);\n",
              "            observer.disconnect();\n",
              "        }}\n",
              "}});\n",
              "\n",
              "// Listen for the removal of the full notebook cells\n",
              "var notebookContainer = gd.closest('#notebook-container');\n",
              "if (notebookContainer) {{\n",
              "    x.observe(notebookContainer, {childList: true});\n",
              "}}\n",
              "\n",
              "// Listen for the clearing of the current output cell\n",
              "var outputEl = gd.closest('.output');\n",
              "if (outputEl) {{\n",
              "    x.observe(outputEl, {childList: true});\n",
              "}}\n",
              "\n",
              "                        })\n",
              "                };\n",
              "                \n",
              "            </script>\n",
              "        </div>\n",
              "</body>\n",
              "</html>"
            ]
          },
          "metadata": {
            "tags": []
          }
        }
      ]
    },
    {
      "cell_type": "markdown",
      "metadata": {
        "id": "3bOd1ILvgVWK"
      },
      "source": [
        "The above plot shows the percentage of TV series added based upon the target age. As one can see, the Adults section scores the highest number with 42.5%."
      ]
    },
    {
      "cell_type": "code",
      "metadata": {
        "colab": {
          "base_uri": "https://localhost:8080/",
          "height": 302
        },
        "id": "uGya9xKGgWSD",
        "outputId": "1463f3ce-12b8-4713-e735-c5f309e2c1c7"
      },
      "source": [
        "from scipy.stats import norm\n",
        "\n",
        "sns.distplot(data.loc[data['release_year'] > 2000, 'release_year'],fit= norm, kde=False,\n",
        "             color='#827839')"
      ],
      "execution_count": 58,
      "outputs": [
        {
          "output_type": "execute_result",
          "data": {
            "text/plain": [
              "<matplotlib.axes._subplots.AxesSubplot at 0x7f64dac06690>"
            ]
          },
          "metadata": {
            "tags": []
          },
          "execution_count": 58
        },
        {
          "output_type": "display_data",
          "data": {
            "image/png": "[encoded data removed]",
            "text/plain": [
              "<Figure size 432x288 with 1 Axes>"
            ]
          },
          "metadata": {
            "tags": []
          }
        }
      ]
    },
    {
      "cell_type": "markdown",
      "metadata": {
        "id": "LNjHvtBgggbf"
      },
      "source": [
        "The above distplot is based upon the release_year of the movies/shows."
      ]
    },
    {
      "cell_type": "code",
      "metadata": {
        "id": "ONyidpuRgixE"
      },
      "source": [
        "def generate_duration_df(df):\n",
        "    new_df = df.groupby(['duration']).agg({'show_id': 'count'}).reset_index()\n",
        "    new_df = new_df[new_df['show_id'] != 0]\n",
        "    new_df.columns = ['duration', 'counts']\n",
        "    new_df = new_df.sort_values('duration')\n",
        "    return new_df"
      ],
      "execution_count": 59,
      "outputs": []
    },
    {
      "cell_type": "code",
      "metadata": {
        "colab": {
          "base_uri": "https://localhost:8080/",
          "height": 542
        },
        "id": "lIZm_SJVgmBr",
        "outputId": "8dc9c50d-2cb7-4b79-85e1-e9501613dc0d"
      },
      "source": [
        "new_movie_df = generate_duration_df(movie_df)\n",
        "fig = px.bar(x=new_movie_df['duration'], y = new_movie_df['counts'])\n",
        "fig.update_traces(marker = dict(color= '#FFA62F'))\n",
        "\n",
        "fig.update_xaxes(type='category',categoryorder='total ascending')\n",
        "\n",
        "fig.show()"
      ],
      "execution_count": 60,
      "outputs": [
        {
          "output_type": "display_data",
          "data": {
            "text/html": [
              "<html>\n",
              "<head><meta charset=\"utf-8\" /></head>\n",
              "<body>\n",
              "    <div>\n",
              "            <script src=\"https://cdnjs.cloudflare.com/ajax/libs/mathjax/2.7.5/MathJax.js?config=TeX-AMS-MML_SVG\"></script><script type=\"text/javascript\">if (window.MathJax) {MathJax.Hub.Config({SVG: {font: \"STIX-Web\"}});}</script>\n",
              "                <script type=\"text/javascript\">window.PlotlyConfig = {MathJaxConfig: 'local'};</script>\n",
              "        <script src=\"https://cdn.plot.ly/plotly-latest.min.js\"></script>    \n",
              "            <div id=\"cc2ecc44-6b63-448b-ba3e-0188c1529f95\" class=\"plotly-graph-div\" style=\"height:525px; width:100%;\"></div>\n",
              "            <script type=\"text/javascript\">\n",
              "                \n",
              "                    window.PLOTLYENV=window.PLOTLYENV || {};\n",
              "                    \n",
              "                if (document.getElementById(\"cc2ecc44-6b63-448b-ba3e-0188c1529f95\")) {\n",
              "                    Plotly.newPlot(\n",
              "                        'cc2ecc44-6b63-448b-ba3e-0188c1529f95',\n",
              "                        [{\"alignmentgroup\": \"True\", \"hoverlabel\": {\"namelength\": 0}, \"hovertemplate\": \"x=%{x}<br>y=%{y}\", \"legendgroup\": \"\", \"marker\": {\"color\": \"#FFA62F\"}, \"name\": \"\", \"offsetgroup\": \"\", \"orientation\": \"v\", \"showlegend\": false, \"textposition\": \"auto\", \"type\": \"bar\", \"x\": [\"10 min\", \"100 min\", \"101 min\", \"102 min\", \"103 min\", \"104 min\", \"105 min\", \"106 min\", \"107 min\", \"108 min\", \"109 min\", \"11 min\", \"110 min\", \"111 min\", \"112 min\", \"113 min\", \"114 min\", \"115 min\", \"116 min\", \"117 min\", \"118 min\", \"119 min\", \"12 min\", \"120 min\", \"121 min\", \"122 min\", \"123 min\", \"124 min\", \"125 min\", \"126 min\", \"127 min\", \"128 min\", \"129 min\", \"13 min\", \"130 min\", \"131 min\", \"132 min\", \"133 min\", \"134 min\", \"135 min\", \"136 min\", \"137 min\", \"138 min\", \"139 min\", \"14 min\", \"140 min\", \"141 min\", \"142 min\", \"143 min\", \"144 min\", \"145 min\", \"146 min\", \"147 min\", \"148 min\", \"149 min\", \"15 min\", \"150 min\", \"151 min\", \"152 min\", \"153 min\", \"154 min\", \"155 min\", \"156 min\", \"157 min\", \"158 min\", \"159 min\", \"16 min\", \"160 min\", \"161 min\", \"162 min\", \"163 min\", \"164 min\", \"165 min\", \"166 min\", \"167 min\", \"168 min\", \"169 min\", \"17 min\", \"170 min\", \"171 min\", \"172 min\", \"173 min\", \"174 min\", \"176 min\", \"177 min\", \"178 min\", \"179 min\", \"18 min\", \"180 min\", \"181 min\", \"182 min\", \"185 min\", \"186 min\", \"187 min\", \"189 min\", \"19 min\", \"190 min\", \"191 min\", \"192 min\", \"193 min\", \"194 min\", \"195 min\", \"196 min\", \"20 min\", \"200 min\", \"201 min\", \"203 min\", \"204 min\", \"205 min\", \"208 min\", \"209 min\", \"21 min\", \"214 min\", \"22 min\", \"224 min\", \"228 min\", \"23 min\", \"230 min\", \"233 min\", \"237 min\", \"24 min\", \"25 min\", \"253 min\", \"26 min\", \"27 min\", \"28 min\", \"29 min\", \"3 min\", \"30 min\", \"31 min\", \"312 min\", \"32 min\", \"33 min\", \"34 min\", \"35 min\", \"36 min\", \"37 min\", \"38 min\", \"40 min\", \"41 min\", \"42 min\", \"43 min\", \"44 min\", \"45 min\", \"46 min\", \"47 min\", \"48 min\", \"49 min\", \"5 min\", \"50 min\", \"51 min\", \"52 min\", \"53 min\", \"54 min\", \"55 min\", \"56 min\", \"57 min\", \"58 min\", \"59 min\", \"60 min\", \"61 min\", \"62 min\", \"63 min\", \"64 min\", \"65 min\", \"66 min\", \"67 min\", \"68 min\", \"69 min\", \"70 min\", \"71 min\", \"72 min\", \"73 min\", \"74 min\", \"75 min\", \"76 min\", \"77 min\", \"78 min\", \"79 min\", \"8 min\", \"80 min\", \"81 min\", \"82 min\", \"83 min\", \"84 min\", \"85 min\", \"86 min\", \"87 min\", \"88 min\", \"89 min\", \"9 min\", \"90 min\", \"91 min\", \"92 min\", \"93 min\", \"94 min\", \"95 min\", \"96 min\", \"97 min\", \"98 min\", \"99 min\"], \"xaxis\": \"x\", \"y\": [1, 97, 96, 98, 101, 89, 91, 97, 85, 74, 61, 2, 86, 61, 65, 54, 45, 47, 65, 56, 51, 54, 2, 47, 44, 38, 35, 46, 32, 40, 40, 38, 30, 1, 38, 28, 33, 36, 21, 37, 18, 37, 17, 17, 3, 22, 18, 11, 18, 8, 12, 13, 10, 18, 13, 2, 17, 14, 5, 11, 12, 9, 9, 6, 11, 6, 1, 6, 9, 13, 11, 4, 8, 7, 1, 7, 2, 3, 5, 7, 4, 5, 2, 5, 4, 1, 2, 1, 2, 2, 1, 5, 1, 2, 1, 2, 2, 1, 2, 1, 1, 2, 1, 2, 1, 1, 1, 1, 1, 1, 2, 2, 1, 15, 1, 1, 12, 1, 1, 1, 22, 10, 1, 6, 3, 10, 10, 1, 6, 2, 1, 7, 5, 2, 3, 1, 2, 4, 13, 3, 8, 1, 19, 10, 23, 10, 7, 8, 1, 10, 10, 19, 24, 23, 15, 12, 14, 21, 24, 26, 28, 23, 29, 16, 22, 29, 19, 20, 27, 22, 26, 32, 28, 29, 33, 24, 28, 40, 34, 1, 39, 58, 48, 61, 60, 63, 93, 87, 101, 88, 1, 136, 125, 118, 131, 125, 119, 115, 117, 106, 101], \"yaxis\": \"y\"}],\n",
              "                        {\"barmode\": \"relative\", \"legend\": {\"tracegroupgap\": 0}, \"margin\": {\"t\": 60}, \"template\": {\"data\": {\"bar\": [{\"error_x\": {\"color\": \"#2a3f5f\"}, \"error_y\": {\"color\": \"#2a3f5f\"}, \"marker\": {\"line\": {\"color\": \"#E5ECF6\", \"width\": 0.5}}, \"type\": \"bar\"}], \"barpolar\": [{\"marker\": {\"line\": {\"color\": \"#E5ECF6\", \"width\": 0.5}}, \"type\": \"barpolar\"}], \"carpet\": [{\"aaxis\": {\"endlinecolor\": \"#2a3f5f\", \"gridcolor\": \"white\", \"linecolor\": \"white\", \"minorgridcolor\": \"white\", \"startlinecolor\": \"#2a3f5f\"}, \"baxis\": {\"endlinecolor\": \"#2a3f5f\", \"gridcolor\": \"white\", \"linecolor\": \"white\", \"minorgridcolor\": \"white\", \"startlinecolor\": \"#2a3f5f\"}, \"type\": \"carpet\"}], \"choropleth\": [{\"colorbar\": {\"outlinewidth\": 0, \"ticks\": \"\"}, \"type\": \"choropleth\"}], \"contour\": [{\"colorbar\": {\"outlinewidth\": 0, \"ticks\": \"\"}, \"colorscale\": [[0.0, \"#0d0887\"], [0.1111111111111111, \"#46039f\"], [0.2222222222222222, \"#7201a8\"], [0.3333333333333333, \"#9c179e\"], [0.4444444444444444, \"#bd3786\"], [0.5555555555555556, \"#d8576b\"], [0.6666666666666666, \"#ed7953\"], [0.7777777777777778, \"#fb9f3a\"], [0.8888888888888888, \"#fdca26\"], [1.0, \"#f0f921\"]], \"type\": \"contour\"}], \"contourcarpet\": [{\"colorbar\": {\"outlinewidth\": 0, \"ticks\": \"\"}, \"type\": \"contourcarpet\"}], \"heatmap\": [{\"colorbar\": {\"outlinewidth\": 0, \"ticks\": \"\"}, \"colorscale\": [[0.0, \"#0d0887\"], [0.1111111111111111, \"#46039f\"], [0.2222222222222222, \"#7201a8\"], [0.3333333333333333, \"#9c179e\"], [0.4444444444444444, \"#bd3786\"], [0.5555555555555556, \"#d8576b\"], [0.6666666666666666, \"#ed7953\"], [0.7777777777777778, \"#fb9f3a\"], [0.8888888888888888, \"#fdca26\"], [1.0, \"#f0f921\"]], \"type\": \"heatmap\"}], \"heatmapgl\": [{\"colorbar\": {\"outlinewidth\": 0, \"ticks\": \"\"}, \"colorscale\": [[0.0, \"#0d0887\"], [0.1111111111111111, \"#46039f\"], [0.2222222222222222, \"#7201a8\"], [0.3333333333333333, \"#9c179e\"], [0.4444444444444444, \"#bd3786\"], [0.5555555555555556, \"#d8576b\"], [0.6666666666666666, \"#ed7953\"], [0.7777777777777778, \"#fb9f3a\"], [0.8888888888888888, \"#fdca26\"], [1.0, \"#f0f921\"]], \"type\": \"heatmapgl\"}], \"histogram\": [{\"marker\": {\"colorbar\": {\"outlinewidth\": 0, \"ticks\": \"\"}}, \"type\": \"histogram\"}], \"histogram2d\": [{\"colorbar\": {\"outlinewidth\": 0, \"ticks\": \"\"}, \"colorscale\": [[0.0, \"#0d0887\"], [0.1111111111111111, \"#46039f\"], [0.2222222222222222, \"#7201a8\"], [0.3333333333333333, \"#9c179e\"], [0.4444444444444444, \"#bd3786\"], [0.5555555555555556, \"#d8576b\"], [0.6666666666666666, \"#ed7953\"], [0.7777777777777778, \"#fb9f3a\"], [0.8888888888888888, \"#fdca26\"], [1.0, \"#f0f921\"]], \"type\": \"histogram2d\"}], \"histogram2dcontour\": [{\"colorbar\": {\"outlinewidth\": 0, \"ticks\": \"\"}, \"colorscale\": [[0.0, \"#0d0887\"], [0.1111111111111111, \"#46039f\"], [0.2222222222222222, \"#7201a8\"], [0.3333333333333333, \"#9c179e\"], [0.4444444444444444, \"#bd3786\"], [0.5555555555555556, \"#d8576b\"], [0.6666666666666666, \"#ed7953\"], [0.7777777777777778, \"#fb9f3a\"], [0.8888888888888888, \"#fdca26\"], [1.0, \"#f0f921\"]], \"type\": \"histogram2dcontour\"}], \"mesh3d\": [{\"colorbar\": {\"outlinewidth\": 0, \"ticks\": \"\"}, \"type\": \"mesh3d\"}], \"parcoords\": [{\"line\": {\"colorbar\": {\"outlinewidth\": 0, \"ticks\": \"\"}}, \"type\": \"parcoords\"}], \"pie\": [{\"automargin\": true, \"type\": \"pie\"}], \"scatter\": [{\"marker\": {\"colorbar\": {\"outlinewidth\": 0, \"ticks\": \"\"}}, \"type\": \"scatter\"}], \"scatter3d\": [{\"line\": {\"colorbar\": {\"outlinewidth\": 0, \"ticks\": \"\"}}, \"marker\": {\"colorbar\": {\"outlinewidth\": 0, \"ticks\": \"\"}}, \"type\": \"scatter3d\"}], \"scattercarpet\": [{\"marker\": {\"colorbar\": {\"outlinewidth\": 0, \"ticks\": \"\"}}, \"type\": \"scattercarpet\"}], \"scattergeo\": [{\"marker\": {\"colorbar\": {\"outlinewidth\": 0, \"ticks\": \"\"}}, \"type\": \"scattergeo\"}], \"scattergl\": [{\"marker\": {\"colorbar\": {\"outlinewidth\": 0, \"ticks\": \"\"}}, \"type\": \"scattergl\"}], \"scattermapbox\": [{\"marker\": {\"colorbar\": {\"outlinewidth\": 0, \"ticks\": \"\"}}, \"type\": \"scattermapbox\"}], \"scatterpolar\": [{\"marker\": {\"colorbar\": {\"outlinewidth\": 0, \"ticks\": \"\"}}, \"type\": \"scatterpolar\"}], \"scatterpolargl\": [{\"marker\": {\"colorbar\": {\"outlinewidth\": 0, \"ticks\": \"\"}}, \"type\": \"scatterpolargl\"}], \"scatterternary\": [{\"marker\": {\"colorbar\": {\"outlinewidth\": 0, \"ticks\": \"\"}}, \"type\": \"scatterternary\"}], \"surface\": [{\"colorbar\": {\"outlinewidth\": 0, \"ticks\": \"\"}, \"colorscale\": [[0.0, \"#0d0887\"], [0.1111111111111111, \"#46039f\"], [0.2222222222222222, \"#7201a8\"], [0.3333333333333333, \"#9c179e\"], [0.4444444444444444, \"#bd3786\"], [0.5555555555555556, \"#d8576b\"], [0.6666666666666666, \"#ed7953\"], [0.7777777777777778, \"#fb9f3a\"], [0.8888888888888888, \"#fdca26\"], [1.0, \"#f0f921\"]], \"type\": \"surface\"}], \"table\": [{\"cells\": {\"fill\": {\"color\": \"#EBF0F8\"}, \"line\": {\"color\": \"white\"}}, \"header\": {\"fill\": {\"color\": \"#C8D4E3\"}, \"line\": {\"color\": \"white\"}}, \"type\": \"table\"}]}, \"layout\": {\"annotationdefaults\": {\"arrowcolor\": \"#2a3f5f\", \"arrowhead\": 0, \"arrowwidth\": 1}, \"coloraxis\": {\"colorbar\": {\"outlinewidth\": 0, \"ticks\": \"\"}}, \"colorscale\": {\"diverging\": [[0, \"#8e0152\"], [0.1, \"#c51b7d\"], [0.2, \"#de77ae\"], [0.3, \"#f1b6da\"], [0.4, \"#fde0ef\"], [0.5, \"#f7f7f7\"], [0.6, \"#e6f5d0\"], [0.7, \"#b8e186\"], [0.8, \"#7fbc41\"], [0.9, \"#4d9221\"], [1, \"#276419\"]], \"sequential\": [[0.0, \"#0d0887\"], [0.1111111111111111, \"#46039f\"], [0.2222222222222222, \"#7201a8\"], [0.3333333333333333, \"#9c179e\"], [0.4444444444444444, \"#bd3786\"], [0.5555555555555556, \"#d8576b\"], [0.6666666666666666, \"#ed7953\"], [0.7777777777777778, \"#fb9f3a\"], [0.8888888888888888, \"#fdca26\"], [1.0, \"#f0f921\"]], \"sequentialminus\": [[0.0, \"#0d0887\"], [0.1111111111111111, \"#46039f\"], [0.2222222222222222, \"#7201a8\"], [0.3333333333333333, \"#9c179e\"], [0.4444444444444444, \"#bd3786\"], [0.5555555555555556, \"#d8576b\"], [0.6666666666666666, \"#ed7953\"], [0.7777777777777778, \"#fb9f3a\"], [0.8888888888888888, \"#fdca26\"], [1.0, \"#f0f921\"]]}, \"colorway\": [\"#636efa\", \"#EF553B\", \"#00cc96\", \"#ab63fa\", \"#FFA15A\", \"#19d3f3\", \"#FF6692\", \"#B6E880\", \"#FF97FF\", \"#FECB52\"], \"font\": {\"color\": \"#2a3f5f\"}, \"geo\": {\"bgcolor\": \"white\", \"lakecolor\": \"white\", \"landcolor\": \"#E5ECF6\", \"showlakes\": true, \"showland\": true, \"subunitcolor\": \"white\"}, \"hoverlabel\": {\"align\": \"left\"}, \"hovermode\": \"closest\", \"mapbox\": {\"style\": \"light\"}, \"paper_bgcolor\": \"white\", \"plot_bgcolor\": \"#E5ECF6\", \"polar\": {\"angularaxis\": {\"gridcolor\": \"white\", \"linecolor\": \"white\", \"ticks\": \"\"}, \"bgcolor\": \"#E5ECF6\", \"radialaxis\": {\"gridcolor\": \"white\", \"linecolor\": \"white\", \"ticks\": \"\"}}, \"scene\": {\"xaxis\": {\"backgroundcolor\": \"#E5ECF6\", \"gridcolor\": \"white\", \"gridwidth\": 2, \"linecolor\": \"white\", \"showbackground\": true, \"ticks\": \"\", \"zerolinecolor\": \"white\"}, \"yaxis\": {\"backgroundcolor\": \"#E5ECF6\", \"gridcolor\": \"white\", \"gridwidth\": 2, \"linecolor\": \"white\", \"showbackground\": true, \"ticks\": \"\", \"zerolinecolor\": \"white\"}, \"zaxis\": {\"backgroundcolor\": \"#E5ECF6\", \"gridcolor\": \"white\", \"gridwidth\": 2, \"linecolor\": \"white\", \"showbackground\": true, \"ticks\": \"\", \"zerolinecolor\": \"white\"}}, \"shapedefaults\": {\"line\": {\"color\": \"#2a3f5f\"}}, \"ternary\": {\"aaxis\": {\"gridcolor\": \"white\", \"linecolor\": \"white\", \"ticks\": \"\"}, \"baxis\": {\"gridcolor\": \"white\", \"linecolor\": \"white\", \"ticks\": \"\"}, \"bgcolor\": \"#E5ECF6\", \"caxis\": {\"gridcolor\": \"white\", \"linecolor\": \"white\", \"ticks\": \"\"}}, \"title\": {\"x\": 0.05}, \"xaxis\": {\"automargin\": true, \"gridcolor\": \"white\", \"linecolor\": \"white\", \"ticks\": \"\", \"title\": {\"standoff\": 15}, \"zerolinecolor\": \"white\", \"zerolinewidth\": 2}, \"yaxis\": {\"automargin\": true, \"gridcolor\": \"white\", \"linecolor\": \"white\", \"ticks\": \"\", \"title\": {\"standoff\": 15}, \"zerolinecolor\": \"white\", \"zerolinewidth\": 2}}}, \"xaxis\": {\"anchor\": \"y\", \"categoryorder\": \"total ascending\", \"domain\": [0.0, 1.0], \"title\": {\"text\": \"x\"}, \"type\": \"category\"}, \"yaxis\": {\"anchor\": \"x\", \"domain\": [0.0, 1.0], \"title\": {\"text\": \"y\"}}},\n",
              "                        {\"responsive\": true}\n",
              "                    ).then(function(){\n",
              "                            \n",
              "var gd = document.getElementById('cc2ecc44-6b63-448b-ba3e-0188c1529f95');\n",
              "var x = new MutationObserver(function (mutations, observer) {{\n",
              "        var display = window.getComputedStyle(gd).display;\n",
              "        if (!display || display === 'none') {{\n",
              "            console.log([gd, 'removed!']);\n",
              "            Plotly.purge(gd);\n",
              "            observer.disconnect();\n",
              "        }}\n",
              "}});\n",
              "\n",
              "// Listen for the removal of the full notebook cells\n",
              "var notebookContainer = gd.closest('#notebook-container');\n",
              "if (notebookContainer) {{\n",
              "    x.observe(notebookContainer, {childList: true});\n",
              "}}\n",
              "\n",
              "// Listen for the clearing of the current output cell\n",
              "var outputEl = gd.closest('.output');\n",
              "if (outputEl) {{\n",
              "    x.observe(outputEl, {childList: true});\n",
              "}}\n",
              "\n",
              "                        })\n",
              "                };\n",
              "                \n",
              "            </script>\n",
              "        </div>\n",
              "</body>\n",
              "</html>"
            ]
          },
          "metadata": {
            "tags": []
          }
        }
      ]
    },
    {
      "cell_type": "markdown",
      "metadata": {
        "id": "ryGEOtFDg5Kb"
      },
      "source": [
        "The above plot is based upon the duration of Movies. As we can see, the duration of 90 minutes records the highest number of movies."
      ]
    },
    {
      "cell_type": "code",
      "metadata": {
        "colab": {
          "base_uri": "https://localhost:8080/",
          "height": 1000
        },
        "id": "aZrsWSsig8LS",
        "outputId": "dd30f057-7bd8-4425-f21f-839908dea1c9"
      },
      "source": [
        "new_tv_df = generate_duration_df(tv_df)\n",
        "fig = px.bar(x=new_tv_df['duration'], y = new_tv_df['counts'])\n",
        "fig.update_traces(marker = dict(color= '#E55451'))\n",
        "fig.update_xaxes(type='category',categoryorder='total ascending')\n",
        "fig.show()"
      ],
      "execution_count": 61,
      "outputs": [
        {
          "output_type": "display_data",
          "data": {
            "text/html": [
              "<html>\n",
              "<head><meta charset=\"utf-8\" /></head>\n",
              "<body>\n",
              "    <div>\n",
              "            <script src=\"https://cdnjs.cloudflare.com/ajax/libs/mathjax/2.7.5/MathJax.js?config=TeX-AMS-MML_SVG\"></script><script type=\"text/javascript\">if (window.MathJax) {MathJax.Hub.Config({SVG: {font: \"STIX-Web\"}});}</script>\n",
              "                <script type=\"text/javascript\">window.PlotlyConfig = {MathJaxConfig: 'local'};</script>\n",
              "        <script src=\"https://cdn.plot.ly/plotly-latest.min.js\"></script>    \n",
              "            <div id=\"92eb5443-41fc-4037-8285-0a44fe0de576\" class=\"plotly-graph-div\" style=\"height:525px; width:100%;\"></div>\n",
              "            <script type=\"text/javascript\">\n",
              "                \n",
              "                    window.PLOTLYENV=window.PLOTLYENV || {};\n",
              "                    \n",
              "                if (document.getElementById(\"92eb5443-41fc-4037-8285-0a44fe0de576\")) {\n",
              "                    Plotly.newPlot(\n",
              "                        '92eb5443-41fc-4037-8285-0a44fe0de576',\n",
              "                        [{\"alignmentgroup\": \"True\", \"hoverlabel\": {\"namelength\": 0}, \"hovertemplate\": \"x=%{x}<br>y=%{y}\", \"legendgroup\": \"\", \"marker\": {\"color\": \"#E55451\"}, \"name\": \"\", \"offsetgroup\": \"\", \"orientation\": \"v\", \"showlegend\": false, \"textposition\": \"auto\", \"type\": \"bar\", \"x\": [\"1 Season\", \"10 Seasons\", \"11 Seasons\", \"12 Seasons\", \"13 Seasons\", \"15 Seasons\", \"16 Seasons\", \"2 Seasons\", \"3 Seasons\", \"4 Seasons\", \"5 Seasons\", \"6 Seasons\", \"7 Seasons\", \"8 Seasons\", \"9 Seasons\"], \"xaxis\": \"x\", \"y\": [1608, 6, 3, 2, 2, 2, 1, 382, 184, 87, 58, 30, 19, 18, 8], \"yaxis\": \"y\"}],\n",
              "                        {\"barmode\": \"relative\", \"legend\": {\"tracegroupgap\": 0}, \"margin\": {\"t\": 60}, \"template\": {\"data\": {\"bar\": [{\"error_x\": {\"color\": \"#2a3f5f\"}, \"error_y\": {\"color\": \"#2a3f5f\"}, \"marker\": {\"line\": {\"color\": \"#E5ECF6\", \"width\": 0.5}}, \"type\": \"bar\"}], \"barpolar\": [{\"marker\": {\"line\": {\"color\": \"#E5ECF6\", \"width\": 0.5}}, \"type\": \"barpolar\"}], \"carpet\": [{\"aaxis\": {\"endlinecolor\": \"#2a3f5f\", \"gridcolor\": \"white\", \"linecolor\": \"white\", \"minorgridcolor\": \"white\", \"startlinecolor\": \"#2a3f5f\"}, \"baxis\": {\"endlinecolor\": \"#2a3f5f\", \"gridcolor\": \"white\", \"linecolor\": \"white\", \"minorgridcolor\": \"white\", \"startlinecolor\": \"#2a3f5f\"}, \"type\": \"carpet\"}], \"choropleth\": [{\"colorbar\": {\"outlinewidth\": 0, \"ticks\": \"\"}, \"type\": \"choropleth\"}], \"contour\": [{\"colorbar\": {\"outlinewidth\": 0, \"ticks\": \"\"}, \"colorscale\": [[0.0, \"#0d0887\"], [0.1111111111111111, \"#46039f\"], [0.2222222222222222, \"#7201a8\"], [0.3333333333333333, \"#9c179e\"], [0.4444444444444444, \"#bd3786\"], [0.5555555555555556, \"#d8576b\"], [0.6666666666666666, \"#ed7953\"], [0.7777777777777778, \"#fb9f3a\"], [0.8888888888888888, \"#fdca26\"], [1.0, \"#f0f921\"]], \"type\": \"contour\"}], \"contourcarpet\": [{\"colorbar\": {\"outlinewidth\": 0, \"ticks\": \"\"}, \"type\": \"contourcarpet\"}], \"heatmap\": [{\"colorbar\": {\"outlinewidth\": 0, \"ticks\": \"\"}, \"colorscale\": [[0.0, \"#0d0887\"], [0.1111111111111111, \"#46039f\"], [0.2222222222222222, \"#7201a8\"], [0.3333333333333333, \"#9c179e\"], [0.4444444444444444, \"#bd3786\"], [0.5555555555555556, \"#d8576b\"], [0.6666666666666666, \"#ed7953\"], [0.7777777777777778, \"#fb9f3a\"], [0.8888888888888888, \"#fdca26\"], [1.0, \"#f0f921\"]], \"type\": \"heatmap\"}], \"heatmapgl\": [{\"colorbar\": {\"outlinewidth\": 0, \"ticks\": \"\"}, \"colorscale\": [[0.0, \"#0d0887\"], [0.1111111111111111, \"#46039f\"], [0.2222222222222222, \"#7201a8\"], [0.3333333333333333, \"#9c179e\"], [0.4444444444444444, \"#bd3786\"], [0.5555555555555556, \"#d8576b\"], [0.6666666666666666, \"#ed7953\"], [0.7777777777777778, \"#fb9f3a\"], [0.8888888888888888, \"#fdca26\"], [1.0, \"#f0f921\"]], \"type\": \"heatmapgl\"}], \"histogram\": [{\"marker\": {\"colorbar\": {\"outlinewidth\": 0, \"ticks\": \"\"}}, \"type\": \"histogram\"}], \"histogram2d\": [{\"colorbar\": {\"outlinewidth\": 0, \"ticks\": \"\"}, \"colorscale\": [[0.0, \"#0d0887\"], [0.1111111111111111, \"#46039f\"], [0.2222222222222222, \"#7201a8\"], [0.3333333333333333, \"#9c179e\"], [0.4444444444444444, \"#bd3786\"], [0.5555555555555556, \"#d8576b\"], [0.6666666666666666, \"#ed7953\"], [0.7777777777777778, \"#fb9f3a\"], [0.8888888888888888, \"#fdca26\"], [1.0, \"#f0f921\"]], \"type\": \"histogram2d\"}], \"histogram2dcontour\": [{\"colorbar\": {\"outlinewidth\": 0, \"ticks\": \"\"}, \"colorscale\": [[0.0, \"#0d0887\"], [0.1111111111111111, \"#46039f\"], [0.2222222222222222, \"#7201a8\"], [0.3333333333333333, \"#9c179e\"], [0.4444444444444444, \"#bd3786\"], [0.5555555555555556, \"#d8576b\"], [0.6666666666666666, \"#ed7953\"], [0.7777777777777778, \"#fb9f3a\"], [0.8888888888888888, \"#fdca26\"], [1.0, \"#f0f921\"]], \"type\": \"histogram2dcontour\"}], \"mesh3d\": [{\"colorbar\": {\"outlinewidth\": 0, \"ticks\": \"\"}, \"type\": \"mesh3d\"}], \"parcoords\": [{\"line\": {\"colorbar\": {\"outlinewidth\": 0, \"ticks\": \"\"}}, \"type\": \"parcoords\"}], \"pie\": [{\"automargin\": true, \"type\": \"pie\"}], \"scatter\": [{\"marker\": {\"colorbar\": {\"outlinewidth\": 0, \"ticks\": \"\"}}, \"type\": \"scatter\"}], \"scatter3d\": [{\"line\": {\"colorbar\": {\"outlinewidth\": 0, \"ticks\": \"\"}}, \"marker\": {\"colorbar\": {\"outlinewidth\": 0, \"ticks\": \"\"}}, \"type\": \"scatter3d\"}], \"scattercarpet\": [{\"marker\": {\"colorbar\": {\"outlinewidth\": 0, \"ticks\": \"\"}}, \"type\": \"scattercarpet\"}], \"scattergeo\": [{\"marker\": {\"colorbar\": {\"outlinewidth\": 0, \"ticks\": \"\"}}, \"type\": \"scattergeo\"}], \"scattergl\": [{\"marker\": {\"colorbar\": {\"outlinewidth\": 0, \"ticks\": \"\"}}, \"type\": \"scattergl\"}], \"scattermapbox\": [{\"marker\": {\"colorbar\": {\"outlinewidth\": 0, \"ticks\": \"\"}}, \"type\": \"scattermapbox\"}], \"scatterpolar\": [{\"marker\": {\"colorbar\": {\"outlinewidth\": 0, \"ticks\": \"\"}}, \"type\": \"scatterpolar\"}], \"scatterpolargl\": [{\"marker\": {\"colorbar\": {\"outlinewidth\": 0, \"ticks\": \"\"}}, \"type\": \"scatterpolargl\"}], \"scatterternary\": [{\"marker\": {\"colorbar\": {\"outlinewidth\": 0, \"ticks\": \"\"}}, \"type\": \"scatterternary\"}], \"surface\": [{\"colorbar\": {\"outlinewidth\": 0, \"ticks\": \"\"}, \"colorscale\": [[0.0, \"#0d0887\"], [0.1111111111111111, \"#46039f\"], [0.2222222222222222, \"#7201a8\"], [0.3333333333333333, \"#9c179e\"], [0.4444444444444444, \"#bd3786\"], [0.5555555555555556, \"#d8576b\"], [0.6666666666666666, \"#ed7953\"], [0.7777777777777778, \"#fb9f3a\"], [0.8888888888888888, \"#fdca26\"], [1.0, \"#f0f921\"]], \"type\": \"surface\"}], \"table\": [{\"cells\": {\"fill\": {\"color\": \"#EBF0F8\"}, \"line\": {\"color\": \"white\"}}, \"header\": {\"fill\": {\"color\": \"#C8D4E3\"}, \"line\": {\"color\": \"white\"}}, \"type\": \"table\"}]}, \"layout\": {\"annotationdefaults\": {\"arrowcolor\": \"#2a3f5f\", \"arrowhead\": 0, \"arrowwidth\": 1}, \"coloraxis\": {\"colorbar\": {\"outlinewidth\": 0, \"ticks\": \"\"}}, \"colorscale\": {\"diverging\": [[0, \"#8e0152\"], [0.1, \"#c51b7d\"], [0.2, \"#de77ae\"], [0.3, \"#f1b6da\"], [0.4, \"#fde0ef\"], [0.5, \"#f7f7f7\"], [0.6, \"#e6f5d0\"], [0.7, \"#b8e186\"], [0.8, \"#7fbc41\"], [0.9, \"#4d9221\"], [1, \"#276419\"]], \"sequential\": [[0.0, \"#0d0887\"], [0.1111111111111111, \"#46039f\"], [0.2222222222222222, \"#7201a8\"], [0.3333333333333333, \"#9c179e\"], [0.4444444444444444, \"#bd3786\"], [0.5555555555555556, \"#d8576b\"], [0.6666666666666666, \"#ed7953\"], [0.7777777777777778, \"#fb9f3a\"], [0.8888888888888888, \"#fdca26\"], [1.0, \"#f0f921\"]], \"sequentialminus\": [[0.0, \"#0d0887\"], [0.1111111111111111, \"#46039f\"], [0.2222222222222222, \"#7201a8\"], [0.3333333333333333, \"#9c179e\"], [0.4444444444444444, \"#bd3786\"], [0.5555555555555556, \"#d8576b\"], [0.6666666666666666, \"#ed7953\"], [0.7777777777777778, \"#fb9f3a\"], [0.8888888888888888, \"#fdca26\"], [1.0, \"#f0f921\"]]}, \"colorway\": [\"#636efa\", \"#EF553B\", \"#00cc96\", \"#ab63fa\", \"#FFA15A\", \"#19d3f3\", \"#FF6692\", \"#B6E880\", \"#FF97FF\", \"#FECB52\"], \"font\": {\"color\": \"#2a3f5f\"}, \"geo\": {\"bgcolor\": \"white\", \"lakecolor\": \"white\", \"landcolor\": \"#E5ECF6\", \"showlakes\": true, \"showland\": true, \"subunitcolor\": \"white\"}, \"hoverlabel\": {\"align\": \"left\"}, \"hovermode\": \"closest\", \"mapbox\": {\"style\": \"light\"}, \"paper_bgcolor\": \"white\", \"plot_bgcolor\": \"#E5ECF6\", \"polar\": {\"angularaxis\": {\"gridcolor\": \"white\", \"linecolor\": \"white\", \"ticks\": \"\"}, \"bgcolor\": \"#E5ECF6\", \"radialaxis\": {\"gridcolor\": \"white\", \"linecolor\": \"white\", \"ticks\": \"\"}}, \"scene\": {\"xaxis\": {\"backgroundcolor\": \"#E5ECF6\", \"gridcolor\": \"white\", \"gridwidth\": 2, \"linecolor\": \"white\", \"showbackground\": true, \"ticks\": \"\", \"zerolinecolor\": \"white\"}, \"yaxis\": {\"backgroundcolor\": \"#E5ECF6\", \"gridcolor\": \"white\", \"gridwidth\": 2, \"linecolor\": \"white\", \"showbackground\": true, \"ticks\": \"\", \"zerolinecolor\": \"white\"}, \"zaxis\": {\"backgroundcolor\": \"#E5ECF6\", \"gridcolor\": \"white\", \"gridwidth\": 2, \"linecolor\": \"white\", \"showbackground\": true, \"ticks\": \"\", \"zerolinecolor\": \"white\"}}, \"shapedefaults\": {\"line\": {\"color\": \"#2a3f5f\"}}, \"ternary\": {\"aaxis\": {\"gridcolor\": \"white\", \"linecolor\": \"white\", \"ticks\": \"\"}, \"baxis\": {\"gridcolor\": \"white\", \"linecolor\": \"white\", \"ticks\": \"\"}, \"bgcolor\": \"#E5ECF6\", \"caxis\": {\"gridcolor\": \"white\", \"linecolor\": \"white\", \"ticks\": \"\"}}, \"title\": {\"x\": 0.05}, \"xaxis\": {\"automargin\": true, \"gridcolor\": \"white\", \"linecolor\": \"white\", \"ticks\": \"\", \"title\": {\"standoff\": 15}, \"zerolinecolor\": \"white\", \"zerolinewidth\": 2}, \"yaxis\": {\"automargin\": true, \"gridcolor\": \"white\", \"linecolor\": \"white\", \"ticks\": \"\", \"title\": {\"standoff\": 15}, \"zerolinecolor\": \"white\", \"zerolinewidth\": 2}}}, \"xaxis\": {\"anchor\": \"y\", \"categoryorder\": \"total ascending\", \"domain\": [0.0, 1.0], \"title\": {\"text\": \"x\"}, \"type\": \"category\"}, \"yaxis\": {\"anchor\": \"x\", \"domain\": [0.0, 1.0], \"title\": {\"text\": \"y\"}}},\n",
              "                        {\"responsive\": true}\n",
              "                    ).then(function(){\n",
              "                            \n",
              "var gd = document.getElementById('92eb5443-41fc-4037-8285-0a44fe0de576');\n",
              "var x = new MutationObserver(function (mutations, observer) {{\n",
              "        var display = window.getComputedStyle(gd).display;\n",
              "        if (!display || display === 'none') {{\n",
              "            console.log([gd, 'removed!']);\n",
              "            Plotly.purge(gd);\n",
              "            observer.disconnect();\n",
              "        }}\n",
              "}});\n",
              "\n",
              "// Listen for the removal of the full notebook cells\n",
              "var notebookContainer = gd.closest('#notebook-container');\n",
              "if (notebookContainer) {{\n",
              "    x.observe(notebookContainer, {childList: true});\n",
              "}}\n",
              "\n",
              "// Listen for the clearing of the current output cell\n",
              "var outputEl = gd.closest('.output');\n",
              "if (outputEl) {{\n",
              "    x.observe(outputEl, {childList: true});\n",
              "}}\n",
              "\n",
              "                        })\n",
              "                };\n",
              "                \n",
              "            </script>\n",
              "        </div>\n",
              "</body>\n",
              "</html>"
            ]
          },
          "metadata": {
            "tags": []
          }
        },
        {
          "output_type": "display_data",
          "data": {
            "text/html": [
              "<html>\n",
              "<head><meta charset=\"utf-8\" /></head>\n",
              "<body>\n",
              "    <div>\n",
              "            <script src=\"https://cdnjs.cloudflare.com/ajax/libs/mathjax/2.7.5/MathJax.js?config=TeX-AMS-MML_SVG\"></script><script type=\"text/javascript\">if (window.MathJax) {MathJax.Hub.Config({SVG: {font: \"STIX-Web\"}});}</script>\n",
              "                <script type=\"text/javascript\">window.PlotlyConfig = {MathJaxConfig: 'local'};</script>\n",
              "        <script src=\"https://cdn.plot.ly/plotly-latest.min.js\"></script>    \n",
              "            <div id=\"df9f0ba3-d8bb-4b7b-8599-6d03ff665cb2\" class=\"plotly-graph-div\" style=\"height:525px; width:100%;\"></div>\n",
              "            <script type=\"text/javascript\">\n",
              "                \n",
              "                    window.PLOTLYENV=window.PLOTLYENV || {};\n",
              "                    \n",
              "                if (document.getElementById(\"df9f0ba3-d8bb-4b7b-8599-6d03ff665cb2\")) {\n",
              "                    Plotly.newPlot(\n",
              "                        'df9f0ba3-d8bb-4b7b-8599-6d03ff665cb2',\n",
              "                        [{\"alignmentgroup\": \"True\", \"hoverlabel\": {\"namelength\": 0}, \"hovertemplate\": \"x=%{x}<br>y=%{y}\", \"legendgroup\": \"\", \"marker\": {\"color\": \"#E55451\"}, \"name\": \"\", \"offsetgroup\": \"\", \"orientation\": \"v\", \"showlegend\": false, \"textposition\": \"auto\", \"type\": \"bar\", \"x\": [\"1 Season\", \"10 Seasons\", \"11 Seasons\", \"12 Seasons\", \"13 Seasons\", \"15 Seasons\", \"16 Seasons\", \"2 Seasons\", \"3 Seasons\", \"4 Seasons\", \"5 Seasons\", \"6 Seasons\", \"7 Seasons\", \"8 Seasons\", \"9 Seasons\"], \"xaxis\": \"x\", \"y\": [1608, 6, 3, 2, 2, 2, 1, 382, 184, 87, 58, 30, 19, 18, 8], \"yaxis\": \"y\"}],\n",
              "                        {\"barmode\": \"relative\", \"legend\": {\"tracegroupgap\": 0}, \"margin\": {\"t\": 60}, \"template\": {\"data\": {\"bar\": [{\"error_x\": {\"color\": \"#2a3f5f\"}, \"error_y\": {\"color\": \"#2a3f5f\"}, \"marker\": {\"line\": {\"color\": \"#E5ECF6\", \"width\": 0.5}}, \"type\": \"bar\"}], \"barpolar\": [{\"marker\": {\"line\": {\"color\": \"#E5ECF6\", \"width\": 0.5}}, \"type\": \"barpolar\"}], \"carpet\": [{\"aaxis\": {\"endlinecolor\": \"#2a3f5f\", \"gridcolor\": \"white\", \"linecolor\": \"white\", \"minorgridcolor\": \"white\", \"startlinecolor\": \"#2a3f5f\"}, \"baxis\": {\"endlinecolor\": \"#2a3f5f\", \"gridcolor\": \"white\", \"linecolor\": \"white\", \"minorgridcolor\": \"white\", \"startlinecolor\": \"#2a3f5f\"}, \"type\": \"carpet\"}], \"choropleth\": [{\"colorbar\": {\"outlinewidth\": 0, \"ticks\": \"\"}, \"type\": \"choropleth\"}], \"contour\": [{\"colorbar\": {\"outlinewidth\": 0, \"ticks\": \"\"}, \"colorscale\": [[0.0, \"#0d0887\"], [0.1111111111111111, \"#46039f\"], [0.2222222222222222, \"#7201a8\"], [0.3333333333333333, \"#9c179e\"], [0.4444444444444444, \"#bd3786\"], [0.5555555555555556, \"#d8576b\"], [0.6666666666666666, \"#ed7953\"], [0.7777777777777778, \"#fb9f3a\"], [0.8888888888888888, \"#fdca26\"], [1.0, \"#f0f921\"]], \"type\": \"contour\"}], \"contourcarpet\": [{\"colorbar\": {\"outlinewidth\": 0, \"ticks\": \"\"}, \"type\": \"contourcarpet\"}], \"heatmap\": [{\"colorbar\": {\"outlinewidth\": 0, \"ticks\": \"\"}, \"colorscale\": [[0.0, \"#0d0887\"], [0.1111111111111111, \"#46039f\"], [0.2222222222222222, \"#7201a8\"], [0.3333333333333333, \"#9c179e\"], [0.4444444444444444, \"#bd3786\"], [0.5555555555555556, \"#d8576b\"], [0.6666666666666666, \"#ed7953\"], [0.7777777777777778, \"#fb9f3a\"], [0.8888888888888888, \"#fdca26\"], [1.0, \"#f0f921\"]], \"type\": \"heatmap\"}], \"heatmapgl\": [{\"colorbar\": {\"outlinewidth\": 0, \"ticks\": \"\"}, \"colorscale\": [[0.0, \"#0d0887\"], [0.1111111111111111, \"#46039f\"], [0.2222222222222222, \"#7201a8\"], [0.3333333333333333, \"#9c179e\"], [0.4444444444444444, \"#bd3786\"], [0.5555555555555556, \"#d8576b\"], [0.6666666666666666, \"#ed7953\"], [0.7777777777777778, \"#fb9f3a\"], [0.8888888888888888, \"#fdca26\"], [1.0, \"#f0f921\"]], \"type\": \"heatmapgl\"}], \"histogram\": [{\"marker\": {\"colorbar\": {\"outlinewidth\": 0, \"ticks\": \"\"}}, \"type\": \"histogram\"}], \"histogram2d\": [{\"colorbar\": {\"outlinewidth\": 0, \"ticks\": \"\"}, \"colorscale\": [[0.0, \"#0d0887\"], [0.1111111111111111, \"#46039f\"], [0.2222222222222222, \"#7201a8\"], [0.3333333333333333, \"#9c179e\"], [0.4444444444444444, \"#bd3786\"], [0.5555555555555556, \"#d8576b\"], [0.6666666666666666, \"#ed7953\"], [0.7777777777777778, \"#fb9f3a\"], [0.8888888888888888, \"#fdca26\"], [1.0, \"#f0f921\"]], \"type\": \"histogram2d\"}], \"histogram2dcontour\": [{\"colorbar\": {\"outlinewidth\": 0, \"ticks\": \"\"}, \"colorscale\": [[0.0, \"#0d0887\"], [0.1111111111111111, \"#46039f\"], [0.2222222222222222, \"#7201a8\"], [0.3333333333333333, \"#9c179e\"], [0.4444444444444444, \"#bd3786\"], [0.5555555555555556, \"#d8576b\"], [0.6666666666666666, \"#ed7953\"], [0.7777777777777778, \"#fb9f3a\"], [0.8888888888888888, \"#fdca26\"], [1.0, \"#f0f921\"]], \"type\": \"histogram2dcontour\"}], \"mesh3d\": [{\"colorbar\": {\"outlinewidth\": 0, \"ticks\": \"\"}, \"type\": \"mesh3d\"}], \"parcoords\": [{\"line\": {\"colorbar\": {\"outlinewidth\": 0, \"ticks\": \"\"}}, \"type\": \"parcoords\"}], \"pie\": [{\"automargin\": true, \"type\": \"pie\"}], \"scatter\": [{\"marker\": {\"colorbar\": {\"outlinewidth\": 0, \"ticks\": \"\"}}, \"type\": \"scatter\"}], \"scatter3d\": [{\"line\": {\"colorbar\": {\"outlinewidth\": 0, \"ticks\": \"\"}}, \"marker\": {\"colorbar\": {\"outlinewidth\": 0, \"ticks\": \"\"}}, \"type\": \"scatter3d\"}], \"scattercarpet\": [{\"marker\": {\"colorbar\": {\"outlinewidth\": 0, \"ticks\": \"\"}}, \"type\": \"scattercarpet\"}], \"scattergeo\": [{\"marker\": {\"colorbar\": {\"outlinewidth\": 0, \"ticks\": \"\"}}, \"type\": \"scattergeo\"}], \"scattergl\": [{\"marker\": {\"colorbar\": {\"outlinewidth\": 0, \"ticks\": \"\"}}, \"type\": \"scattergl\"}], \"scattermapbox\": [{\"marker\": {\"colorbar\": {\"outlinewidth\": 0, \"ticks\": \"\"}}, \"type\": \"scattermapbox\"}], \"scatterpolar\": [{\"marker\": {\"colorbar\": {\"outlinewidth\": 0, \"ticks\": \"\"}}, \"type\": \"scatterpolar\"}], \"scatterpolargl\": [{\"marker\": {\"colorbar\": {\"outlinewidth\": 0, \"ticks\": \"\"}}, \"type\": \"scatterpolargl\"}], \"scatterternary\": [{\"marker\": {\"colorbar\": {\"outlinewidth\": 0, \"ticks\": \"\"}}, \"type\": \"scatterternary\"}], \"surface\": [{\"colorbar\": {\"outlinewidth\": 0, \"ticks\": \"\"}, \"colorscale\": [[0.0, \"#0d0887\"], [0.1111111111111111, \"#46039f\"], [0.2222222222222222, \"#7201a8\"], [0.3333333333333333, \"#9c179e\"], [0.4444444444444444, \"#bd3786\"], [0.5555555555555556, \"#d8576b\"], [0.6666666666666666, \"#ed7953\"], [0.7777777777777778, \"#fb9f3a\"], [0.8888888888888888, \"#fdca26\"], [1.0, \"#f0f921\"]], \"type\": \"surface\"}], \"table\": [{\"cells\": {\"fill\": {\"color\": \"#EBF0F8\"}, \"line\": {\"color\": \"white\"}}, \"header\": {\"fill\": {\"color\": \"#C8D4E3\"}, \"line\": {\"color\": \"white\"}}, \"type\": \"table\"}]}, \"layout\": {\"annotationdefaults\": {\"arrowcolor\": \"#2a3f5f\", \"arrowhead\": 0, \"arrowwidth\": 1}, \"coloraxis\": {\"colorbar\": {\"outlinewidth\": 0, \"ticks\": \"\"}}, \"colorscale\": {\"diverging\": [[0, \"#8e0152\"], [0.1, \"#c51b7d\"], [0.2, \"#de77ae\"], [0.3, \"#f1b6da\"], [0.4, \"#fde0ef\"], [0.5, \"#f7f7f7\"], [0.6, \"#e6f5d0\"], [0.7, \"#b8e186\"], [0.8, \"#7fbc41\"], [0.9, \"#4d9221\"], [1, \"#276419\"]], \"sequential\": [[0.0, \"#0d0887\"], [0.1111111111111111, \"#46039f\"], [0.2222222222222222, \"#7201a8\"], [0.3333333333333333, \"#9c179e\"], [0.4444444444444444, \"#bd3786\"], [0.5555555555555556, \"#d8576b\"], [0.6666666666666666, \"#ed7953\"], [0.7777777777777778, \"#fb9f3a\"], [0.8888888888888888, \"#fdca26\"], [1.0, \"#f0f921\"]], \"sequentialminus\": [[0.0, \"#0d0887\"], [0.1111111111111111, \"#46039f\"], [0.2222222222222222, \"#7201a8\"], [0.3333333333333333, \"#9c179e\"], [0.4444444444444444, \"#bd3786\"], [0.5555555555555556, \"#d8576b\"], [0.6666666666666666, \"#ed7953\"], [0.7777777777777778, \"#fb9f3a\"], [0.8888888888888888, \"#fdca26\"], [1.0, \"#f0f921\"]]}, \"colorway\": [\"#636efa\", \"#EF553B\", \"#00cc96\", \"#ab63fa\", \"#FFA15A\", \"#19d3f3\", \"#FF6692\", \"#B6E880\", \"#FF97FF\", \"#FECB52\"], \"font\": {\"color\": \"#2a3f5f\"}, \"geo\": {\"bgcolor\": \"white\", \"lakecolor\": \"white\", \"landcolor\": \"#E5ECF6\", \"showlakes\": true, \"showland\": true, \"subunitcolor\": \"white\"}, \"hoverlabel\": {\"align\": \"left\"}, \"hovermode\": \"closest\", \"mapbox\": {\"style\": \"light\"}, \"paper_bgcolor\": \"white\", \"plot_bgcolor\": \"#E5ECF6\", \"polar\": {\"angularaxis\": {\"gridcolor\": \"white\", \"linecolor\": \"white\", \"ticks\": \"\"}, \"bgcolor\": \"#E5ECF6\", \"radialaxis\": {\"gridcolor\": \"white\", \"linecolor\": \"white\", \"ticks\": \"\"}}, \"scene\": {\"xaxis\": {\"backgroundcolor\": \"#E5ECF6\", \"gridcolor\": \"white\", \"gridwidth\": 2, \"linecolor\": \"white\", \"showbackground\": true, \"ticks\": \"\", \"zerolinecolor\": \"white\"}, \"yaxis\": {\"backgroundcolor\": \"#E5ECF6\", \"gridcolor\": \"white\", \"gridwidth\": 2, \"linecolor\": \"white\", \"showbackground\": true, \"ticks\": \"\", \"zerolinecolor\": \"white\"}, \"zaxis\": {\"backgroundcolor\": \"#E5ECF6\", \"gridcolor\": \"white\", \"gridwidth\": 2, \"linecolor\": \"white\", \"showbackground\": true, \"ticks\": \"\", \"zerolinecolor\": \"white\"}}, \"shapedefaults\": {\"line\": {\"color\": \"#2a3f5f\"}}, \"ternary\": {\"aaxis\": {\"gridcolor\": \"white\", \"linecolor\": \"white\", \"ticks\": \"\"}, \"baxis\": {\"gridcolor\": \"white\", \"linecolor\": \"white\", \"ticks\": \"\"}, \"bgcolor\": \"#E5ECF6\", \"caxis\": {\"gridcolor\": \"white\", \"linecolor\": \"white\", \"ticks\": \"\"}}, \"title\": {\"x\": 0.05}, \"xaxis\": {\"automargin\": true, \"gridcolor\": \"white\", \"linecolor\": \"white\", \"ticks\": \"\", \"title\": {\"standoff\": 15}, \"zerolinecolor\": \"white\", \"zerolinewidth\": 2}, \"yaxis\": {\"automargin\": true, \"gridcolor\": \"white\", \"linecolor\": \"white\", \"ticks\": \"\", \"title\": {\"standoff\": 15}, \"zerolinecolor\": \"white\", \"zerolinewidth\": 2}}}, \"xaxis\": {\"anchor\": \"y\", \"categoryorder\": \"total ascending\", \"domain\": [0.0, 1.0], \"title\": {\"text\": \"x\"}, \"type\": \"category\"}, \"yaxis\": {\"anchor\": \"x\", \"domain\": [0.0, 1.0], \"title\": {\"text\": \"y\"}}},\n",
              "                        {\"responsive\": true}\n",
              "                    ).then(function(){\n",
              "                            \n",
              "var gd = document.getElementById('df9f0ba3-d8bb-4b7b-8599-6d03ff665cb2');\n",
              "var x = new MutationObserver(function (mutations, observer) {{\n",
              "        var display = window.getComputedStyle(gd).display;\n",
              "        if (!display || display === 'none') {{\n",
              "            console.log([gd, 'removed!']);\n",
              "            Plotly.purge(gd);\n",
              "            observer.disconnect();\n",
              "        }}\n",
              "}});\n",
              "\n",
              "// Listen for the removal of the full notebook cells\n",
              "var notebookContainer = gd.closest('#notebook-container');\n",
              "if (notebookContainer) {{\n",
              "    x.observe(notebookContainer, {childList: true});\n",
              "}}\n",
              "\n",
              "// Listen for the clearing of the current output cell\n",
              "var outputEl = gd.closest('.output');\n",
              "if (outputEl) {{\n",
              "    x.observe(outputEl, {childList: true});\n",
              "}}\n",
              "\n",
              "                        })\n",
              "                };\n",
              "                \n",
              "            </script>\n",
              "        </div>\n",
              "</body>\n",
              "</html>"
            ]
          },
          "metadata": {
            "tags": []
          }
        }
      ]
    },
    {
      "cell_type": "markdown",
      "metadata": {
        "id": "KmJFa5U8hKnt"
      },
      "source": [
        "The above plot is based upon the seasons of TV series. As we can see, only 1 season records the highest number of Tv series. Discontinuation of shows due to less popularity or pending release of next season might be a contributing factor.|"
      ]
    },
    {
      "cell_type": "code",
      "metadata": {
        "id": "DZM5f3uvhcEm"
      },
      "source": [
        "def generate_country_df(df):\n",
        "    new_df = df.groupby(['country_main']).agg({'show_id': 'count'}).reset_index()\n",
        "    new_df = new_df[new_df['show_id'] != 0]\n",
        "    new_df.columns = ['country_main', 'counts']\n",
        "    new_df = new_df.sort_values('country_main')\n",
        "    return new_df"
      ],
      "execution_count": 62,
      "outputs": []
    },
    {
      "cell_type": "code",
      "metadata": {
        "colab": {
          "base_uri": "https://localhost:8080/",
          "height": 567
        },
        "id": "J-yaPWsJhmkm",
        "outputId": "93c4f3ad-476e-4911-b537-924acd6f7cfb"
      },
      "source": [
        "tv_country_df = generate_country_df(tv_df)\n",
        "fig = px.pie(labels = tv_country_df['country_main'], values = tv_country_df['counts'], names = tv_country_df['country_main'], width = 550, height = 550)\n",
        "\n",
        "fig.update_traces(textposition = 'inside', \n",
        "                  textinfo = 'percent + label', \n",
        "                  hole = 0.75, \n",
        "                  marker = dict(line = dict(color = 'white', width = 2)))\n",
        "\n",
        "fig.update_layout(annotations = [dict(text = 'TV Series', \n",
        "                                      x = 0.5, y = 0.5, font_size = 40, showarrow = False,                                       \n",
        "                                      font_color = 'black')],\n",
        "                  showlegend = False)\n",
        "\n",
        "fig.show()"
      ],
      "execution_count": 63,
      "outputs": [
        {
          "output_type": "display_data",
          "data": {
            "text/html": [
              "<html>\n",
              "<head><meta charset=\"utf-8\" /></head>\n",
              "<body>\n",
              "    <div>\n",
              "            <script src=\"https://cdnjs.cloudflare.com/ajax/libs/mathjax/2.7.5/MathJax.js?config=TeX-AMS-MML_SVG\"></script><script type=\"text/javascript\">if (window.MathJax) {MathJax.Hub.Config({SVG: {font: \"STIX-Web\"}});}</script>\n",
              "                <script type=\"text/javascript\">window.PlotlyConfig = {MathJaxConfig: 'local'};</script>\n",
              "        <script src=\"https://cdn.plot.ly/plotly-latest.min.js\"></script>    \n",
              "            <div id=\"337e6aaf-166b-4be1-935c-7285a1d4b745\" class=\"plotly-graph-div\" style=\"height:550px; width:550px;\"></div>\n",
              "            <script type=\"text/javascript\">\n",
              "                \n",
              "                    window.PLOTLYENV=window.PLOTLYENV || {};\n",
              "                    \n",
              "                if (document.getElementById(\"337e6aaf-166b-4be1-935c-7285a1d4b745\")) {\n",
              "                    Plotly.newPlot(\n",
              "                        '337e6aaf-166b-4be1-935c-7285a1d4b745',\n",
              "                        [{\"domain\": {\"x\": [0.0, 1.0], \"y\": [0.0, 1.0]}, \"hole\": 0.75, \"hoverlabel\": {\"namelength\": 0}, \"hovertemplate\": \"label=%{label}<br>value=%{value}\", \"labels\": [\"Argentina\", \"Australia\", \"Austria\", \"Belarus\", \"Belgium\", \"Brazil\", \"Canada\", \"Chile\", \"China\", \"Colombia\", \"Croatia\", \"Cyprus\", \"Czech Republic\", \"Denmark\", \"Egypt\", \"Finland\", \"France\", \"Germany\", \"Hong Kong\", \"Iceland\", \"India\", \"Indonesia\", \"Ireland\", \"Israel\", \"Italy\", \"Japan\", \"Jordan\", \"Kuwait\", \"Lebanon\", \"Malaysia\", \"Mauritius\", \"Mexico\", \"Netherlands\", \"New Zealand\", \"Nigeria\", \"Norway\", \"Pakistan\", \"Philippines\", \"Poland\", \"Puerto Rico\", \"Russia\", \"Saudi Arabia\", \"Senegal\", \"Singapore\", \"South Africa\", \"South Korea\", \"Spain\", \"Sweden\", \"Switzerland\", \"Taiwan\", \"Thailand\", \"Turkey\", \"Ukraine\", \"United Arab Emirates\", \"United Kingdom\", \"United States\", \"Uruguay\"], \"legendgroup\": \"\", \"marker\": {\"line\": {\"color\": \"white\", \"width\": 2}}, \"name\": \"\", \"showlegend\": true, \"textinfo\": \"percent+label\", \"textposition\": \"inside\", \"type\": \"pie\", \"values\": [18, 52, 1, 1, 8, 27, 84, 4, 38, 23, 1, 1, 1, 11, 12, 3, 59, 24, 3, 2, 73, 2, 6, 7, 17, 162, 1, 2, 6, 7, 1, 44, 5, 2, 8, 9, 4, 1, 7, 1, 15, 4, 1, 18, 5, 152, 49, 7, 1, 70, 22, 28, 2, 1, 236, 1060, 1]}],\n",
              "                        {\"annotations\": [{\"font\": {\"color\": \"black\", \"size\": 40}, \"showarrow\": false, \"text\": \"TV Series\", \"x\": 0.5, \"y\": 0.5}], \"height\": 550, \"legend\": {\"tracegroupgap\": 0}, \"margin\": {\"t\": 60}, \"showlegend\": false, \"template\": {\"data\": {\"bar\": [{\"error_x\": {\"color\": \"#2a3f5f\"}, \"error_y\": {\"color\": \"#2a3f5f\"}, \"marker\": {\"line\": {\"color\": \"#E5ECF6\", \"width\": 0.5}}, \"type\": \"bar\"}], \"barpolar\": [{\"marker\": {\"line\": {\"color\": \"#E5ECF6\", \"width\": 0.5}}, \"type\": \"barpolar\"}], \"carpet\": [{\"aaxis\": {\"endlinecolor\": \"#2a3f5f\", \"gridcolor\": \"white\", \"linecolor\": \"white\", \"minorgridcolor\": \"white\", \"startlinecolor\": \"#2a3f5f\"}, \"baxis\": {\"endlinecolor\": \"#2a3f5f\", \"gridcolor\": \"white\", \"linecolor\": \"white\", \"minorgridcolor\": \"white\", \"startlinecolor\": \"#2a3f5f\"}, \"type\": \"carpet\"}], \"choropleth\": [{\"colorbar\": {\"outlinewidth\": 0, \"ticks\": \"\"}, \"type\": \"choropleth\"}], \"contour\": [{\"colorbar\": {\"outlinewidth\": 0, \"ticks\": \"\"}, \"colorscale\": [[0.0, \"#0d0887\"], [0.1111111111111111, \"#46039f\"], [0.2222222222222222, \"#7201a8\"], [0.3333333333333333, \"#9c179e\"], [0.4444444444444444, \"#bd3786\"], [0.5555555555555556, \"#d8576b\"], [0.6666666666666666, \"#ed7953\"], [0.7777777777777778, \"#fb9f3a\"], [0.8888888888888888, \"#fdca26\"], [1.0, \"#f0f921\"]], \"type\": \"contour\"}], \"contourcarpet\": [{\"colorbar\": {\"outlinewidth\": 0, \"ticks\": \"\"}, \"type\": \"contourcarpet\"}], \"heatmap\": [{\"colorbar\": {\"outlinewidth\": 0, \"ticks\": \"\"}, \"colorscale\": [[0.0, \"#0d0887\"], [0.1111111111111111, \"#46039f\"], [0.2222222222222222, \"#7201a8\"], [0.3333333333333333, \"#9c179e\"], [0.4444444444444444, \"#bd3786\"], [0.5555555555555556, \"#d8576b\"], [0.6666666666666666, \"#ed7953\"], [0.7777777777777778, \"#fb9f3a\"], [0.8888888888888888, \"#fdca26\"], [1.0, \"#f0f921\"]], \"type\": \"heatmap\"}], \"heatmapgl\": [{\"colorbar\": {\"outlinewidth\": 0, \"ticks\": \"\"}, \"colorscale\": [[0.0, \"#0d0887\"], [0.1111111111111111, \"#46039f\"], [0.2222222222222222, \"#7201a8\"], [0.3333333333333333, \"#9c179e\"], [0.4444444444444444, \"#bd3786\"], [0.5555555555555556, \"#d8576b\"], [0.6666666666666666, \"#ed7953\"], [0.7777777777777778, \"#fb9f3a\"], [0.8888888888888888, \"#fdca26\"], [1.0, \"#f0f921\"]], \"type\": \"heatmapgl\"}], \"histogram\": [{\"marker\": {\"colorbar\": {\"outlinewidth\": 0, \"ticks\": \"\"}}, \"type\": \"histogram\"}], \"histogram2d\": [{\"colorbar\": {\"outlinewidth\": 0, \"ticks\": \"\"}, \"colorscale\": [[0.0, \"#0d0887\"], [0.1111111111111111, \"#46039f\"], [0.2222222222222222, \"#7201a8\"], [0.3333333333333333, \"#9c179e\"], [0.4444444444444444, \"#bd3786\"], [0.5555555555555556, \"#d8576b\"], [0.6666666666666666, \"#ed7953\"], [0.7777777777777778, \"#fb9f3a\"], [0.8888888888888888, \"#fdca26\"], [1.0, \"#f0f921\"]], \"type\": \"histogram2d\"}], \"histogram2dcontour\": [{\"colorbar\": {\"outlinewidth\": 0, \"ticks\": \"\"}, \"colorscale\": [[0.0, \"#0d0887\"], [0.1111111111111111, \"#46039f\"], [0.2222222222222222, \"#7201a8\"], [0.3333333333333333, \"#9c179e\"], [0.4444444444444444, \"#bd3786\"], [0.5555555555555556, \"#d8576b\"], [0.6666666666666666, \"#ed7953\"], [0.7777777777777778, \"#fb9f3a\"], [0.8888888888888888, \"#fdca26\"], [1.0, \"#f0f921\"]], \"type\": \"histogram2dcontour\"}], \"mesh3d\": [{\"colorbar\": {\"outlinewidth\": 0, \"ticks\": \"\"}, \"type\": \"mesh3d\"}], \"parcoords\": [{\"line\": {\"colorbar\": {\"outlinewidth\": 0, \"ticks\": \"\"}}, \"type\": \"parcoords\"}], \"pie\": [{\"automargin\": true, \"type\": \"pie\"}], \"scatter\": [{\"marker\": {\"colorbar\": {\"outlinewidth\": 0, \"ticks\": \"\"}}, \"type\": \"scatter\"}], \"scatter3d\": [{\"line\": {\"colorbar\": {\"outlinewidth\": 0, \"ticks\": \"\"}}, \"marker\": {\"colorbar\": {\"outlinewidth\": 0, \"ticks\": \"\"}}, \"type\": \"scatter3d\"}], \"scattercarpet\": [{\"marker\": {\"colorbar\": {\"outlinewidth\": 0, \"ticks\": \"\"}}, \"type\": \"scattercarpet\"}], \"scattergeo\": [{\"marker\": {\"colorbar\": {\"outlinewidth\": 0, \"ticks\": \"\"}}, \"type\": \"scattergeo\"}], \"scattergl\": [{\"marker\": {\"colorbar\": {\"outlinewidth\": 0, \"ticks\": \"\"}}, \"type\": \"scattergl\"}], \"scattermapbox\": [{\"marker\": {\"colorbar\": {\"outlinewidth\": 0, \"ticks\": \"\"}}, \"type\": \"scattermapbox\"}], \"scatterpolar\": [{\"marker\": {\"colorbar\": {\"outlinewidth\": 0, \"ticks\": \"\"}}, \"type\": \"scatterpolar\"}], \"scatterpolargl\": [{\"marker\": {\"colorbar\": {\"outlinewidth\": 0, \"ticks\": \"\"}}, \"type\": \"scatterpolargl\"}], \"scatterternary\": [{\"marker\": {\"colorbar\": {\"outlinewidth\": 0, \"ticks\": \"\"}}, \"type\": \"scatterternary\"}], \"surface\": [{\"colorbar\": {\"outlinewidth\": 0, \"ticks\": \"\"}, \"colorscale\": [[0.0, \"#0d0887\"], [0.1111111111111111, \"#46039f\"], [0.2222222222222222, \"#7201a8\"], [0.3333333333333333, \"#9c179e\"], [0.4444444444444444, \"#bd3786\"], [0.5555555555555556, \"#d8576b\"], [0.6666666666666666, \"#ed7953\"], [0.7777777777777778, \"#fb9f3a\"], [0.8888888888888888, \"#fdca26\"], [1.0, \"#f0f921\"]], \"type\": \"surface\"}], \"table\": [{\"cells\": {\"fill\": {\"color\": \"#EBF0F8\"}, \"line\": {\"color\": \"white\"}}, \"header\": {\"fill\": {\"color\": \"#C8D4E3\"}, \"line\": {\"color\": \"white\"}}, \"type\": \"table\"}]}, \"layout\": {\"annotationdefaults\": {\"arrowcolor\": \"#2a3f5f\", \"arrowhead\": 0, \"arrowwidth\": 1}, \"coloraxis\": {\"colorbar\": {\"outlinewidth\": 0, \"ticks\": \"\"}}, \"colorscale\": {\"diverging\": [[0, \"#8e0152\"], [0.1, \"#c51b7d\"], [0.2, \"#de77ae\"], [0.3, \"#f1b6da\"], [0.4, \"#fde0ef\"], [0.5, \"#f7f7f7\"], [0.6, \"#e6f5d0\"], [0.7, \"#b8e186\"], [0.8, \"#7fbc41\"], [0.9, \"#4d9221\"], [1, \"#276419\"]], \"sequential\": [[0.0, \"#0d0887\"], [0.1111111111111111, \"#46039f\"], [0.2222222222222222, \"#7201a8\"], [0.3333333333333333, \"#9c179e\"], [0.4444444444444444, \"#bd3786\"], [0.5555555555555556, \"#d8576b\"], [0.6666666666666666, \"#ed7953\"], [0.7777777777777778, \"#fb9f3a\"], [0.8888888888888888, \"#fdca26\"], [1.0, \"#f0f921\"]], \"sequentialminus\": [[0.0, \"#0d0887\"], [0.1111111111111111, \"#46039f\"], [0.2222222222222222, \"#7201a8\"], [0.3333333333333333, \"#9c179e\"], [0.4444444444444444, \"#bd3786\"], [0.5555555555555556, \"#d8576b\"], [0.6666666666666666, \"#ed7953\"], [0.7777777777777778, \"#fb9f3a\"], [0.8888888888888888, \"#fdca26\"], [1.0, \"#f0f921\"]]}, \"colorway\": [\"#636efa\", \"#EF553B\", \"#00cc96\", \"#ab63fa\", \"#FFA15A\", \"#19d3f3\", \"#FF6692\", \"#B6E880\", \"#FF97FF\", \"#FECB52\"], \"font\": {\"color\": \"#2a3f5f\"}, \"geo\": {\"bgcolor\": \"white\", \"lakecolor\": \"white\", \"landcolor\": \"#E5ECF6\", \"showlakes\": true, \"showland\": true, \"subunitcolor\": \"white\"}, \"hoverlabel\": {\"align\": \"left\"}, \"hovermode\": \"closest\", \"mapbox\": {\"style\": \"light\"}, \"paper_bgcolor\": \"white\", \"plot_bgcolor\": \"#E5ECF6\", \"polar\": {\"angularaxis\": {\"gridcolor\": \"white\", \"linecolor\": \"white\", \"ticks\": \"\"}, \"bgcolor\": \"#E5ECF6\", \"radialaxis\": {\"gridcolor\": \"white\", \"linecolor\": \"white\", \"ticks\": \"\"}}, \"scene\": {\"xaxis\": {\"backgroundcolor\": \"#E5ECF6\", \"gridcolor\": \"white\", \"gridwidth\": 2, \"linecolor\": \"white\", \"showbackground\": true, \"ticks\": \"\", \"zerolinecolor\": \"white\"}, \"yaxis\": {\"backgroundcolor\": \"#E5ECF6\", \"gridcolor\": \"white\", \"gridwidth\": 2, \"linecolor\": \"white\", \"showbackground\": true, \"ticks\": \"\", \"zerolinecolor\": \"white\"}, \"zaxis\": {\"backgroundcolor\": \"#E5ECF6\", \"gridcolor\": \"white\", \"gridwidth\": 2, \"linecolor\": \"white\", \"showbackground\": true, \"ticks\": \"\", \"zerolinecolor\": \"white\"}}, \"shapedefaults\": {\"line\": {\"color\": \"#2a3f5f\"}}, \"ternary\": {\"aaxis\": {\"gridcolor\": \"white\", \"linecolor\": \"white\", \"ticks\": \"\"}, \"baxis\": {\"gridcolor\": \"white\", \"linecolor\": \"white\", \"ticks\": \"\"}, \"bgcolor\": \"#E5ECF6\", \"caxis\": {\"gridcolor\": \"white\", \"linecolor\": \"white\", \"ticks\": \"\"}}, \"title\": {\"x\": 0.05}, \"xaxis\": {\"automargin\": true, \"gridcolor\": \"white\", \"linecolor\": \"white\", \"ticks\": \"\", \"title\": {\"standoff\": 15}, \"zerolinecolor\": \"white\", \"zerolinewidth\": 2}, \"yaxis\": {\"automargin\": true, \"gridcolor\": \"white\", \"linecolor\": \"white\", \"ticks\": \"\", \"title\": {\"standoff\": 15}, \"zerolinecolor\": \"white\", \"zerolinewidth\": 2}}}, \"width\": 550},\n",
              "                        {\"responsive\": true}\n",
              "                    ).then(function(){\n",
              "                            \n",
              "var gd = document.getElementById('337e6aaf-166b-4be1-935c-7285a1d4b745');\n",
              "var x = new MutationObserver(function (mutations, observer) {{\n",
              "        var display = window.getComputedStyle(gd).display;\n",
              "        if (!display || display === 'none') {{\n",
              "            console.log([gd, 'removed!']);\n",
              "            Plotly.purge(gd);\n",
              "            observer.disconnect();\n",
              "        }}\n",
              "}});\n",
              "\n",
              "// Listen for the removal of the full notebook cells\n",
              "var notebookContainer = gd.closest('#notebook-container');\n",
              "if (notebookContainer) {{\n",
              "    x.observe(notebookContainer, {childList: true});\n",
              "}}\n",
              "\n",
              "// Listen for the clearing of the current output cell\n",
              "var outputEl = gd.closest('.output');\n",
              "if (outputEl) {{\n",
              "    x.observe(outputEl, {childList: true});\n",
              "}}\n",
              "\n",
              "                        })\n",
              "                };\n",
              "                \n",
              "            </script>\n",
              "        </div>\n",
              "</body>\n",
              "</html>"
            ]
          },
          "metadata": {
            "tags": []
          }
        }
      ]
    },
    {
      "cell_type": "markdown",
      "metadata": {
        "id": "WloMdT5HhyoR"
      },
      "source": [
        "Here is another pie plot depicting the percentage of TV series originating from a country. As noticed from the above, United States holds the highest percentage, i.e approx.44%."
      ]
    },
    {
      "cell_type": "code",
      "metadata": {
        "colab": {
          "base_uri": "https://localhost:8080/",
          "height": 567
        },
        "id": "hdMiZqyOh0L0",
        "outputId": "49f5a6f3-75c5-49fb-efb0-cd5d3b4ed4f7"
      },
      "source": [
        "movie_country_df = generate_country_df(movie_df)\n",
        "fig = px.pie(labels = movie_country_df['country_main'], values = movie_country_df['counts'], names = movie_country_df['country_main'], width = 550, height = 550)\n",
        "\n",
        "fig.update_traces(textposition = 'inside', \n",
        "                  textinfo = 'percent + label', \n",
        "                  hole = 0.75, \n",
        "                  marker = dict(line = dict(color = 'white', width = 2)))\n",
        "                                \n",
        "\n",
        "fig.update_layout(annotations = [dict(text = 'Movies', \n",
        "                                      x = 0.5, y = 0.5, font_size = 32, showarrow = False,                                       \n",
        "                                      font_color = 'black')],\n",
        "                  showlegend = False)\n",
        "\n",
        "fig.show()"
      ],
      "execution_count": 64,
      "outputs": [
        {
          "output_type": "display_data",
          "data": {
            "text/html": [
              "<html>\n",
              "<head><meta charset=\"utf-8\" /></head>\n",
              "<body>\n",
              "    <div>\n",
              "            <script src=\"https://cdnjs.cloudflare.com/ajax/libs/mathjax/2.7.5/MathJax.js?config=TeX-AMS-MML_SVG\"></script><script type=\"text/javascript\">if (window.MathJax) {MathJax.Hub.Config({SVG: {font: \"STIX-Web\"}});}</script>\n",
              "                <script type=\"text/javascript\">window.PlotlyConfig = {MathJaxConfig: 'local'};</script>\n",
              "        <script src=\"https://cdn.plot.ly/plotly-latest.min.js\"></script>    \n",
              "            <div id=\"3c9b5573-8e2a-43ce-af72-f319f242e6f0\" class=\"plotly-graph-div\" style=\"height:550px; width:550px;\"></div>\n",
              "            <script type=\"text/javascript\">\n",
              "                \n",
              "                    window.PLOTLYENV=window.PLOTLYENV || {};\n",
              "                    \n",
              "                if (document.getElementById(\"3c9b5573-8e2a-43ce-af72-f319f242e6f0\")) {\n",
              "                    Plotly.newPlot(\n",
              "                        '3c9b5573-8e2a-43ce-af72-f319f242e6f0',\n",
              "                        [{\"domain\": {\"x\": [0.0, 1.0], \"y\": [0.0, 1.0]}, \"hole\": 0.75, \"hoverlabel\": {\"namelength\": 0}, \"hovertemplate\": \"label=%{label}<br>value=%{value}\", \"labels\": [\"Argentina\", \"Australia\", \"Austria\", \"Bangladesh\", \"Belgium\", \"Brazil\", \"Bulgaria\", \"Cambodia\", \"Canada\", \"Chile\", \"China\", \"Colombia\", \"Croatia\", \"Czech Republic\", \"Denmark\", \"Egypt\", \"Finland\", \"France\", \"Georgia\", \"Germany\", \"Ghana\", \"Greece\", \"Guatemala\", \"Hong Kong\", \"Hungary\", \"Iceland\", \"India\", \"Indonesia\", \"Iran\", \"Ireland\", \"Israel\", \"Italy\", \"Jamaica\", \"Japan\", \"Kenya\", \"Kuwait\", \"Lebanon\", \"Malaysia\", \"Mexico\", \"Namibia\", \"Netherlands\", \"New Zealand\", \"Nigeria\", \"Norway\", \"Pakistan\", \"Paraguay\", \"Peru\", \"Philippines\", \"Poland\", \"Portugal\", \"Romania\", \"Russia\", \"Saudi Arabia\", \"Serbia\", \"Singapore\", \"Slovenia\", \"Somalia\", \"South Africa\", \"South Korea\", \"Soviet Union\", \"Spain\", \"Sweden\", \"Switzerland\", \"Taiwan\", \"Thailand\", \"Turkey\", \"United Arab Emirates\", \"United Kingdom\", \"United States\", \"Uruguay\", \"Venezuela\", \"Vietnam\", \"West Germany\", \"Zimbabwe\"], \"legendgroup\": \"\", \"marker\": {\"line\": {\"color\": \"white\", \"width\": 2}}, \"name\": \"\", \"showlegend\": true, \"textinfo\": \"percent+label\", \"textposition\": \"inside\", \"type\": \"pie\", \"values\": [50, 56, 7, 2, 6, 52, 5, 2, 175, 17, 48, 13, 1, 4, 19, 93, 3, 137, 2, 68, 4, 1, 1, 74, 4, 3, 883, 74, 1, 20, 12, 42, 1, 75, 3, 4, 14, 16, 79, 1, 20, 13, 63, 11, 18, 1, 6, 74, 19, 2, 10, 5, 6, 3, 10, 1, 1, 30, 42, 1, 119, 9, 6, 12, 39, 78, 18, 341, 2330, 8, 2, 5, 1, 1]}],\n",
              "                        {\"annotations\": [{\"font\": {\"color\": \"black\", \"size\": 32}, \"showarrow\": false, \"text\": \"Movies\", \"x\": 0.5, \"y\": 0.5}], \"height\": 550, \"legend\": {\"tracegroupgap\": 0}, \"margin\": {\"t\": 60}, \"showlegend\": false, \"template\": {\"data\": {\"bar\": [{\"error_x\": {\"color\": \"#2a3f5f\"}, \"error_y\": {\"color\": \"#2a3f5f\"}, \"marker\": {\"line\": {\"color\": \"#E5ECF6\", \"width\": 0.5}}, \"type\": \"bar\"}], \"barpolar\": [{\"marker\": {\"line\": {\"color\": \"#E5ECF6\", \"width\": 0.5}}, \"type\": \"barpolar\"}], \"carpet\": [{\"aaxis\": {\"endlinecolor\": \"#2a3f5f\", \"gridcolor\": \"white\", \"linecolor\": \"white\", \"minorgridcolor\": \"white\", \"startlinecolor\": \"#2a3f5f\"}, \"baxis\": {\"endlinecolor\": \"#2a3f5f\", \"gridcolor\": \"white\", \"linecolor\": \"white\", \"minorgridcolor\": \"white\", \"startlinecolor\": \"#2a3f5f\"}, \"type\": \"carpet\"}], \"choropleth\": [{\"colorbar\": {\"outlinewidth\": 0, \"ticks\": \"\"}, \"type\": \"choropleth\"}], \"contour\": [{\"colorbar\": {\"outlinewidth\": 0, \"ticks\": \"\"}, \"colorscale\": [[0.0, \"#0d0887\"], [0.1111111111111111, \"#46039f\"], [0.2222222222222222, \"#7201a8\"], [0.3333333333333333, \"#9c179e\"], [0.4444444444444444, \"#bd3786\"], [0.5555555555555556, \"#d8576b\"], [0.6666666666666666, \"#ed7953\"], [0.7777777777777778, \"#fb9f3a\"], [0.8888888888888888, \"#fdca26\"], [1.0, \"#f0f921\"]], \"type\": \"contour\"}], \"contourcarpet\": [{\"colorbar\": {\"outlinewidth\": 0, \"ticks\": \"\"}, \"type\": \"contourcarpet\"}], \"heatmap\": [{\"colorbar\": {\"outlinewidth\": 0, \"ticks\": \"\"}, \"colorscale\": [[0.0, \"#0d0887\"], [0.1111111111111111, \"#46039f\"], [0.2222222222222222, \"#7201a8\"], [0.3333333333333333, \"#9c179e\"], [0.4444444444444444, \"#bd3786\"], [0.5555555555555556, \"#d8576b\"], [0.6666666666666666, \"#ed7953\"], [0.7777777777777778, \"#fb9f3a\"], [0.8888888888888888, \"#fdca26\"], [1.0, \"#f0f921\"]], \"type\": \"heatmap\"}], \"heatmapgl\": [{\"colorbar\": {\"outlinewidth\": 0, \"ticks\": \"\"}, \"colorscale\": [[0.0, \"#0d0887\"], [0.1111111111111111, \"#46039f\"], [0.2222222222222222, \"#7201a8\"], [0.3333333333333333, \"#9c179e\"], [0.4444444444444444, \"#bd3786\"], [0.5555555555555556, \"#d8576b\"], [0.6666666666666666, \"#ed7953\"], [0.7777777777777778, \"#fb9f3a\"], [0.8888888888888888, \"#fdca26\"], [1.0, \"#f0f921\"]], \"type\": \"heatmapgl\"}], \"histogram\": [{\"marker\": {\"colorbar\": {\"outlinewidth\": 0, \"ticks\": \"\"}}, \"type\": \"histogram\"}], \"histogram2d\": [{\"colorbar\": {\"outlinewidth\": 0, \"ticks\": \"\"}, \"colorscale\": [[0.0, \"#0d0887\"], [0.1111111111111111, \"#46039f\"], [0.2222222222222222, \"#7201a8\"], [0.3333333333333333, \"#9c179e\"], [0.4444444444444444, \"#bd3786\"], [0.5555555555555556, \"#d8576b\"], [0.6666666666666666, \"#ed7953\"], [0.7777777777777778, \"#fb9f3a\"], [0.8888888888888888, \"#fdca26\"], [1.0, \"#f0f921\"]], \"type\": \"histogram2d\"}], \"histogram2dcontour\": [{\"colorbar\": {\"outlinewidth\": 0, \"ticks\": \"\"}, \"colorscale\": [[0.0, \"#0d0887\"], [0.1111111111111111, \"#46039f\"], [0.2222222222222222, \"#7201a8\"], [0.3333333333333333, \"#9c179e\"], [0.4444444444444444, \"#bd3786\"], [0.5555555555555556, \"#d8576b\"], [0.6666666666666666, \"#ed7953\"], [0.7777777777777778, \"#fb9f3a\"], [0.8888888888888888, \"#fdca26\"], [1.0, \"#f0f921\"]], \"type\": \"histogram2dcontour\"}], \"mesh3d\": [{\"colorbar\": {\"outlinewidth\": 0, \"ticks\": \"\"}, \"type\": \"mesh3d\"}], \"parcoords\": [{\"line\": {\"colorbar\": {\"outlinewidth\": 0, \"ticks\": \"\"}}, \"type\": \"parcoords\"}], \"pie\": [{\"automargin\": true, \"type\": \"pie\"}], \"scatter\": [{\"marker\": {\"colorbar\": {\"outlinewidth\": 0, \"ticks\": \"\"}}, \"type\": \"scatter\"}], \"scatter3d\": [{\"line\": {\"colorbar\": {\"outlinewidth\": 0, \"ticks\": \"\"}}, \"marker\": {\"colorbar\": {\"outlinewidth\": 0, \"ticks\": \"\"}}, \"type\": \"scatter3d\"}], \"scattercarpet\": [{\"marker\": {\"colorbar\": {\"outlinewidth\": 0, \"ticks\": \"\"}}, \"type\": \"scattercarpet\"}], \"scattergeo\": [{\"marker\": {\"colorbar\": {\"outlinewidth\": 0, \"ticks\": \"\"}}, \"type\": \"scattergeo\"}], \"scattergl\": [{\"marker\": {\"colorbar\": {\"outlinewidth\": 0, \"ticks\": \"\"}}, \"type\": \"scattergl\"}], \"scattermapbox\": [{\"marker\": {\"colorbar\": {\"outlinewidth\": 0, \"ticks\": \"\"}}, \"type\": \"scattermapbox\"}], \"scatterpolar\": [{\"marker\": {\"colorbar\": {\"outlinewidth\": 0, \"ticks\": \"\"}}, \"type\": \"scatterpolar\"}], \"scatterpolargl\": [{\"marker\": {\"colorbar\": {\"outlinewidth\": 0, \"ticks\": \"\"}}, \"type\": \"scatterpolargl\"}], \"scatterternary\": [{\"marker\": {\"colorbar\": {\"outlinewidth\": 0, \"ticks\": \"\"}}, \"type\": \"scatterternary\"}], \"surface\": [{\"colorbar\": {\"outlinewidth\": 0, \"ticks\": \"\"}, \"colorscale\": [[0.0, \"#0d0887\"], [0.1111111111111111, \"#46039f\"], [0.2222222222222222, \"#7201a8\"], [0.3333333333333333, \"#9c179e\"], [0.4444444444444444, \"#bd3786\"], [0.5555555555555556, \"#d8576b\"], [0.6666666666666666, \"#ed7953\"], [0.7777777777777778, \"#fb9f3a\"], [0.8888888888888888, \"#fdca26\"], [1.0, \"#f0f921\"]], \"type\": \"surface\"}], \"table\": [{\"cells\": {\"fill\": {\"color\": \"#EBF0F8\"}, \"line\": {\"color\": \"white\"}}, \"header\": {\"fill\": {\"color\": \"#C8D4E3\"}, \"line\": {\"color\": \"white\"}}, \"type\": \"table\"}]}, \"layout\": {\"annotationdefaults\": {\"arrowcolor\": \"#2a3f5f\", \"arrowhead\": 0, \"arrowwidth\": 1}, \"coloraxis\": {\"colorbar\": {\"outlinewidth\": 0, \"ticks\": \"\"}}, \"colorscale\": {\"diverging\": [[0, \"#8e0152\"], [0.1, \"#c51b7d\"], [0.2, \"#de77ae\"], [0.3, \"#f1b6da\"], [0.4, \"#fde0ef\"], [0.5, \"#f7f7f7\"], [0.6, \"#e6f5d0\"], [0.7, \"#b8e186\"], [0.8, \"#7fbc41\"], [0.9, \"#4d9221\"], [1, \"#276419\"]], \"sequential\": [[0.0, \"#0d0887\"], [0.1111111111111111, \"#46039f\"], [0.2222222222222222, \"#7201a8\"], [0.3333333333333333, \"#9c179e\"], [0.4444444444444444, \"#bd3786\"], [0.5555555555555556, \"#d8576b\"], [0.6666666666666666, \"#ed7953\"], [0.7777777777777778, \"#fb9f3a\"], [0.8888888888888888, \"#fdca26\"], [1.0, \"#f0f921\"]], \"sequentialminus\": [[0.0, \"#0d0887\"], [0.1111111111111111, \"#46039f\"], [0.2222222222222222, \"#7201a8\"], [0.3333333333333333, \"#9c179e\"], [0.4444444444444444, \"#bd3786\"], [0.5555555555555556, \"#d8576b\"], [0.6666666666666666, \"#ed7953\"], [0.7777777777777778, \"#fb9f3a\"], [0.8888888888888888, \"#fdca26\"], [1.0, \"#f0f921\"]]}, \"colorway\": [\"#636efa\", \"#EF553B\", \"#00cc96\", \"#ab63fa\", \"#FFA15A\", \"#19d3f3\", \"#FF6692\", \"#B6E880\", \"#FF97FF\", \"#FECB52\"], \"font\": {\"color\": \"#2a3f5f\"}, \"geo\": {\"bgcolor\": \"white\", \"lakecolor\": \"white\", \"landcolor\": \"#E5ECF6\", \"showlakes\": true, \"showland\": true, \"subunitcolor\": \"white\"}, \"hoverlabel\": {\"align\": \"left\"}, \"hovermode\": \"closest\", \"mapbox\": {\"style\": \"light\"}, \"paper_bgcolor\": \"white\", \"plot_bgcolor\": \"#E5ECF6\", \"polar\": {\"angularaxis\": {\"gridcolor\": \"white\", \"linecolor\": \"white\", \"ticks\": \"\"}, \"bgcolor\": \"#E5ECF6\", \"radialaxis\": {\"gridcolor\": \"white\", \"linecolor\": \"white\", \"ticks\": \"\"}}, \"scene\": {\"xaxis\": {\"backgroundcolor\": \"#E5ECF6\", \"gridcolor\": \"white\", \"gridwidth\": 2, \"linecolor\": \"white\", \"showbackground\": true, \"ticks\": \"\", \"zerolinecolor\": \"white\"}, \"yaxis\": {\"backgroundcolor\": \"#E5ECF6\", \"gridcolor\": \"white\", \"gridwidth\": 2, \"linecolor\": \"white\", \"showbackground\": true, \"ticks\": \"\", \"zerolinecolor\": \"white\"}, \"zaxis\": {\"backgroundcolor\": \"#E5ECF6\", \"gridcolor\": \"white\", \"gridwidth\": 2, \"linecolor\": \"white\", \"showbackground\": true, \"ticks\": \"\", \"zerolinecolor\": \"white\"}}, \"shapedefaults\": {\"line\": {\"color\": \"#2a3f5f\"}}, \"ternary\": {\"aaxis\": {\"gridcolor\": \"white\", \"linecolor\": \"white\", \"ticks\": \"\"}, \"baxis\": {\"gridcolor\": \"white\", \"linecolor\": \"white\", \"ticks\": \"\"}, \"bgcolor\": \"#E5ECF6\", \"caxis\": {\"gridcolor\": \"white\", \"linecolor\": \"white\", \"ticks\": \"\"}}, \"title\": {\"x\": 0.05}, \"xaxis\": {\"automargin\": true, \"gridcolor\": \"white\", \"linecolor\": \"white\", \"ticks\": \"\", \"title\": {\"standoff\": 15}, \"zerolinecolor\": \"white\", \"zerolinewidth\": 2}, \"yaxis\": {\"automargin\": true, \"gridcolor\": \"white\", \"linecolor\": \"white\", \"ticks\": \"\", \"title\": {\"standoff\": 15}, \"zerolinecolor\": \"white\", \"zerolinewidth\": 2}}}, \"width\": 550},\n",
              "                        {\"responsive\": true}\n",
              "                    ).then(function(){\n",
              "                            \n",
              "var gd = document.getElementById('3c9b5573-8e2a-43ce-af72-f319f242e6f0');\n",
              "var x = new MutationObserver(function (mutations, observer) {{\n",
              "        var display = window.getComputedStyle(gd).display;\n",
              "        if (!display || display === 'none') {{\n",
              "            console.log([gd, 'removed!']);\n",
              "            Plotly.purge(gd);\n",
              "            observer.disconnect();\n",
              "        }}\n",
              "}});\n",
              "\n",
              "// Listen for the removal of the full notebook cells\n",
              "var notebookContainer = gd.closest('#notebook-container');\n",
              "if (notebookContainer) {{\n",
              "    x.observe(notebookContainer, {childList: true});\n",
              "}}\n",
              "\n",
              "// Listen for the clearing of the current output cell\n",
              "var outputEl = gd.closest('.output');\n",
              "if (outputEl) {{\n",
              "    x.observe(outputEl, {childList: true});\n",
              "}}\n",
              "\n",
              "                        })\n",
              "                };\n",
              "                \n",
              "            </script>\n",
              "        </div>\n",
              "</body>\n",
              "</html>"
            ]
          },
          "metadata": {
            "tags": []
          }
        }
      ]
    },
    {
      "cell_type": "markdown",
      "metadata": {
        "id": "QlAf4peyiCL9"
      },
      "source": [
        "Here is another pie plot depicting the percentage of Movies originating from a country. As noticed from the above, United States holds the highest percentage, i.e approx.43.3%."
      ]
    }
  ]
}